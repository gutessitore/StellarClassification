{
 "cells": [
  {
   "cell_type": "markdown",
   "id": "8c89311c",
   "metadata": {},
   "source": [
    "<a class=\"anchor\" id=\"section-0\"></a>\n",
    "<img src=\"https://i.imgur.com/lTCPbz0.jpeg\" alt='logo puc-sp' width='30%' align='left'>\n",
    "\n",
    "### Pontifícia Universidade Católica de São Paulo (PUC-SP)\n",
    "\n",
    "<h1 style=font-size:30px>StellarClassification</h1>\n",
    "\n",
    "\n",
    "### Bacharelado em Ciência de Dados e Inteligência Artificial\n",
    "\n",
    "#### Turma: CDIA21-MA\n",
    "\n",
    "**Professor:** Jefferson de Oliveira Silva"
   ]
  },
  {
   "cell_type": "markdown",
   "id": "95a308f2",
   "metadata": {},
   "source": [
    "| Column | Description |\n",
    "| -- | -- |\n",
    "| obj_ID | Object Identifier, the unique value that identifies the object in the image catalog used by the CAS |\n",
    "| alpha | Right Ascension angle (at J2000 epoch) |\n",
    "| delta | Declination angle (at J2000 epoch) |\n",
    "| u | Ultraviolet filter in the photometric system |\n",
    "| g | Green filter in the photometric system |\n",
    "| r | Red filter in the photometric system |\n",
    "| i | Near Infrared filter in the photometric system |\n",
    "| z | Infrared filter in the photometric system |\n",
    "| run_ID | Run Number used to identify the specific scan |\n",
    "| rereun_ID | Rerun Number to specify how the image was processed |\n",
    "| cam_col | Camera column to identify the scanline within the run |\n",
    "| field_ID | Field number to identify each field |\n",
    "| spec_obj_ID | Unique ID used for optical spectroscopic objects (this means that 2 different observations with the same spec_obj_ID must share the output class) |\n",
    "| class | object class (galaxy, star or quasar object) |\n",
    "| redshift | redshift value based on the increase in wavelength |\n",
    "| plate | plate ID, identifies each plate in SDSS |\n",
    "| MJD | Modified Julian Date, used to indicate when a given piece of SDSS data was taken |\n",
    "| fiber_ID | fiber ID that identifies the fiber that pointed the light at the focal plane in each observation |"
   ]
  },
  {
   "cell_type": "code",
   "execution_count": 1,
   "id": "ef45508b",
   "metadata": {},
   "outputs": [],
   "source": [
    "# For data manipulation\n",
    "import pandas as pd\n",
    "import numpy as np\n",
    "\n",
    "# For dataviz\n",
    "import matplotlib.pyplot as plt\n",
    "import seaborn as sns\n",
    "import plotly.express as px"
   ]
  },
  {
   "cell_type": "code",
   "execution_count": 2,
   "id": "01f8f69d",
   "metadata": {},
   "outputs": [
    {
     "data": {
      "text/html": [
       "<div>\n",
       "<style scoped>\n",
       "    .dataframe tbody tr th:only-of-type {\n",
       "        vertical-align: middle;\n",
       "    }\n",
       "\n",
       "    .dataframe tbody tr th {\n",
       "        vertical-align: top;\n",
       "    }\n",
       "\n",
       "    .dataframe thead th {\n",
       "        text-align: right;\n",
       "    }\n",
       "</style>\n",
       "<table border=\"1\" class=\"dataframe\">\n",
       "  <thead>\n",
       "    <tr style=\"text-align: right;\">\n",
       "      <th></th>\n",
       "      <th>obj_ID</th>\n",
       "      <th>alpha</th>\n",
       "      <th>delta</th>\n",
       "      <th>u</th>\n",
       "      <th>g</th>\n",
       "      <th>r</th>\n",
       "      <th>i</th>\n",
       "      <th>z</th>\n",
       "      <th>run_ID</th>\n",
       "      <th>rerun_ID</th>\n",
       "      <th>cam_col</th>\n",
       "      <th>field_ID</th>\n",
       "      <th>spec_obj_ID</th>\n",
       "      <th>class</th>\n",
       "      <th>redshift</th>\n",
       "      <th>plate</th>\n",
       "      <th>MJD</th>\n",
       "      <th>fiber_ID</th>\n",
       "    </tr>\n",
       "  </thead>\n",
       "  <tbody>\n",
       "    <tr>\n",
       "      <th>0</th>\n",
       "      <td>1.237661e+18</td>\n",
       "      <td>135.689107</td>\n",
       "      <td>32.494632</td>\n",
       "      <td>23.87882</td>\n",
       "      <td>22.27530</td>\n",
       "      <td>20.39501</td>\n",
       "      <td>19.16573</td>\n",
       "      <td>18.79371</td>\n",
       "      <td>3606</td>\n",
       "      <td>301</td>\n",
       "      <td>2</td>\n",
       "      <td>79</td>\n",
       "      <td>6.543777e+18</td>\n",
       "      <td>GALAXY</td>\n",
       "      <td>0.634794</td>\n",
       "      <td>5812</td>\n",
       "      <td>56354</td>\n",
       "      <td>171</td>\n",
       "    </tr>\n",
       "    <tr>\n",
       "      <th>1</th>\n",
       "      <td>1.237665e+18</td>\n",
       "      <td>144.826101</td>\n",
       "      <td>31.274185</td>\n",
       "      <td>24.77759</td>\n",
       "      <td>22.83188</td>\n",
       "      <td>22.58444</td>\n",
       "      <td>21.16812</td>\n",
       "      <td>21.61427</td>\n",
       "      <td>4518</td>\n",
       "      <td>301</td>\n",
       "      <td>5</td>\n",
       "      <td>119</td>\n",
       "      <td>1.176014e+19</td>\n",
       "      <td>GALAXY</td>\n",
       "      <td>0.779136</td>\n",
       "      <td>10445</td>\n",
       "      <td>58158</td>\n",
       "      <td>427</td>\n",
       "    </tr>\n",
       "    <tr>\n",
       "      <th>2</th>\n",
       "      <td>1.237661e+18</td>\n",
       "      <td>142.188790</td>\n",
       "      <td>35.582444</td>\n",
       "      <td>25.26307</td>\n",
       "      <td>22.66389</td>\n",
       "      <td>20.60976</td>\n",
       "      <td>19.34857</td>\n",
       "      <td>18.94827</td>\n",
       "      <td>3606</td>\n",
       "      <td>301</td>\n",
       "      <td>2</td>\n",
       "      <td>120</td>\n",
       "      <td>5.152200e+18</td>\n",
       "      <td>GALAXY</td>\n",
       "      <td>0.644195</td>\n",
       "      <td>4576</td>\n",
       "      <td>55592</td>\n",
       "      <td>299</td>\n",
       "    </tr>\n",
       "    <tr>\n",
       "      <th>3</th>\n",
       "      <td>1.237663e+18</td>\n",
       "      <td>338.741038</td>\n",
       "      <td>-0.402828</td>\n",
       "      <td>22.13682</td>\n",
       "      <td>23.77656</td>\n",
       "      <td>21.61162</td>\n",
       "      <td>20.50454</td>\n",
       "      <td>19.25010</td>\n",
       "      <td>4192</td>\n",
       "      <td>301</td>\n",
       "      <td>3</td>\n",
       "      <td>214</td>\n",
       "      <td>1.030107e+19</td>\n",
       "      <td>GALAXY</td>\n",
       "      <td>0.932346</td>\n",
       "      <td>9149</td>\n",
       "      <td>58039</td>\n",
       "      <td>775</td>\n",
       "    </tr>\n",
       "    <tr>\n",
       "      <th>4</th>\n",
       "      <td>1.237680e+18</td>\n",
       "      <td>345.282593</td>\n",
       "      <td>21.183866</td>\n",
       "      <td>19.43718</td>\n",
       "      <td>17.58028</td>\n",
       "      <td>16.49747</td>\n",
       "      <td>15.97711</td>\n",
       "      <td>15.54461</td>\n",
       "      <td>8102</td>\n",
       "      <td>301</td>\n",
       "      <td>3</td>\n",
       "      <td>137</td>\n",
       "      <td>6.891865e+18</td>\n",
       "      <td>GALAXY</td>\n",
       "      <td>0.116123</td>\n",
       "      <td>6121</td>\n",
       "      <td>56187</td>\n",
       "      <td>842</td>\n",
       "    </tr>\n",
       "  </tbody>\n",
       "</table>\n",
       "</div>"
      ],
      "text/plain": [
       "         obj_ID       alpha      delta         u         g         r  \\\n",
       "0  1.237661e+18  135.689107  32.494632  23.87882  22.27530  20.39501   \n",
       "1  1.237665e+18  144.826101  31.274185  24.77759  22.83188  22.58444   \n",
       "2  1.237661e+18  142.188790  35.582444  25.26307  22.66389  20.60976   \n",
       "3  1.237663e+18  338.741038  -0.402828  22.13682  23.77656  21.61162   \n",
       "4  1.237680e+18  345.282593  21.183866  19.43718  17.58028  16.49747   \n",
       "\n",
       "          i         z  run_ID  rerun_ID  cam_col  field_ID   spec_obj_ID  \\\n",
       "0  19.16573  18.79371    3606       301        2        79  6.543777e+18   \n",
       "1  21.16812  21.61427    4518       301        5       119  1.176014e+19   \n",
       "2  19.34857  18.94827    3606       301        2       120  5.152200e+18   \n",
       "3  20.50454  19.25010    4192       301        3       214  1.030107e+19   \n",
       "4  15.97711  15.54461    8102       301        3       137  6.891865e+18   \n",
       "\n",
       "    class  redshift  plate    MJD  fiber_ID  \n",
       "0  GALAXY  0.634794   5812  56354       171  \n",
       "1  GALAXY  0.779136  10445  58158       427  \n",
       "2  GALAXY  0.644195   4576  55592       299  \n",
       "3  GALAXY  0.932346   9149  58039       775  \n",
       "4  GALAXY  0.116123   6121  56187       842  "
      ]
     },
     "execution_count": 2,
     "metadata": {},
     "output_type": "execute_result"
    }
   ],
   "source": [
    "df = pd.read_csv('../../data/star_classification.csv')\n",
    "df.head()"
   ]
  },
  {
   "cell_type": "markdown",
   "id": "2e8b1795",
   "metadata": {},
   "source": [
    "Verifying null values"
   ]
  },
  {
   "cell_type": "code",
   "execution_count": 31,
   "id": "1f6853c8",
   "metadata": {},
   "outputs": [
    {
     "data": {
      "text/plain": [
       "obj_ID         0\n",
       "alpha          0\n",
       "delta          0\n",
       "u              0\n",
       "g              0\n",
       "r              0\n",
       "i              0\n",
       "z              0\n",
       "run_ID         0\n",
       "rerun_ID       0\n",
       "cam_col        0\n",
       "field_ID       0\n",
       "spec_obj_ID    0\n",
       "class          0\n",
       "redshift       0\n",
       "plate          0\n",
       "MJD            0\n",
       "fiber_ID       0\n",
       "dtype: int64"
      ]
     },
     "execution_count": 31,
     "metadata": {},
     "output_type": "execute_result"
    }
   ],
   "source": [
    "df.isna().sum()"
   ]
  },
  {
   "cell_type": "markdown",
   "id": "f7b3a239",
   "metadata": {},
   "source": [
    "Making spec_obj_ID the index class (because it's a unique id identifier) and droping the other id columns"
   ]
  },
  {
   "cell_type": "code",
   "execution_count": 24,
   "id": "716b6018",
   "metadata": {},
   "outputs": [
    {
     "data": {
      "text/plain": [
       "True"
      ]
     },
     "execution_count": 24,
     "metadata": {},
     "output_type": "execute_result"
    }
   ],
   "source": [
    "df['spec_obj_ID'].is_unique"
   ]
  },
  {
   "cell_type": "code",
   "execution_count": 32,
   "id": "3652459f",
   "metadata": {},
   "outputs": [],
   "source": [
    "df.drop(['obj_ID','run_ID','rerun_ID','field_ID','fiber_ID'], axis=1, inplace=True)"
   ]
  },
  {
   "cell_type": "code",
   "execution_count": 33,
   "id": "011e91cc",
   "metadata": {},
   "outputs": [
    {
     "data": {
      "text/plain": [
       "Index(['alpha', 'delta', 'u', 'g', 'r', 'i', 'z', 'cam_col', 'spec_obj_ID',\n",
       "       'class', 'redshift', 'plate', 'MJD'],\n",
       "      dtype='object')"
      ]
     },
     "execution_count": 33,
     "metadata": {},
     "output_type": "execute_result"
    }
   ],
   "source": [
    "df.columns"
   ]
  },
  {
   "cell_type": "code",
   "execution_count": 37,
   "id": "c7da7e8c",
   "metadata": {},
   "outputs": [
    {
     "data": {
      "text/plain": [
       "['class']"
      ]
     },
     "execution_count": 37,
     "metadata": {},
     "output_type": "execute_result"
    }
   ],
   "source": [
    "obj_cols = [col for col in df.columns if df[col].dtype == 'object']\n",
    "obj_cols"
   ]
  },
  {
   "cell_type": "markdown",
   "id": "1736d8eb",
   "metadata": {},
   "source": [
    "## Encoding for Dataviz"
   ]
  },
  {
   "cell_type": "code",
   "execution_count": 39,
   "id": "8ffff270",
   "metadata": {},
   "outputs": [],
   "source": [
    "from sklearn.preprocessing import OneHotEncoder"
   ]
  },
  {
   "cell_type": "code",
   "execution_count": 44,
   "id": "e0f31bc8",
   "metadata": {},
   "outputs": [
    {
     "data": {
      "text/html": [
       "<div>\n",
       "<style scoped>\n",
       "    .dataframe tbody tr th:only-of-type {\n",
       "        vertical-align: middle;\n",
       "    }\n",
       "\n",
       "    .dataframe tbody tr th {\n",
       "        vertical-align: top;\n",
       "    }\n",
       "\n",
       "    .dataframe thead th {\n",
       "        text-align: right;\n",
       "    }\n",
       "</style>\n",
       "<table border=\"1\" class=\"dataframe\">\n",
       "  <thead>\n",
       "    <tr style=\"text-align: right;\">\n",
       "      <th></th>\n",
       "      <th>class_GALAXY</th>\n",
       "      <th>class_QSO</th>\n",
       "      <th>class_STAR</th>\n",
       "    </tr>\n",
       "  </thead>\n",
       "  <tbody>\n",
       "    <tr>\n",
       "      <th>0</th>\n",
       "      <td>1.0</td>\n",
       "      <td>0.0</td>\n",
       "      <td>0.0</td>\n",
       "    </tr>\n",
       "    <tr>\n",
       "      <th>1</th>\n",
       "      <td>1.0</td>\n",
       "      <td>0.0</td>\n",
       "      <td>0.0</td>\n",
       "    </tr>\n",
       "    <tr>\n",
       "      <th>2</th>\n",
       "      <td>1.0</td>\n",
       "      <td>0.0</td>\n",
       "      <td>0.0</td>\n",
       "    </tr>\n",
       "    <tr>\n",
       "      <th>3</th>\n",
       "      <td>1.0</td>\n",
       "      <td>0.0</td>\n",
       "      <td>0.0</td>\n",
       "    </tr>\n",
       "    <tr>\n",
       "      <th>4</th>\n",
       "      <td>1.0</td>\n",
       "      <td>0.0</td>\n",
       "      <td>0.0</td>\n",
       "    </tr>\n",
       "    <tr>\n",
       "      <th>...</th>\n",
       "      <td>...</td>\n",
       "      <td>...</td>\n",
       "      <td>...</td>\n",
       "    </tr>\n",
       "    <tr>\n",
       "      <th>99995</th>\n",
       "      <td>1.0</td>\n",
       "      <td>0.0</td>\n",
       "      <td>0.0</td>\n",
       "    </tr>\n",
       "    <tr>\n",
       "      <th>99996</th>\n",
       "      <td>1.0</td>\n",
       "      <td>0.0</td>\n",
       "      <td>0.0</td>\n",
       "    </tr>\n",
       "    <tr>\n",
       "      <th>99997</th>\n",
       "      <td>1.0</td>\n",
       "      <td>0.0</td>\n",
       "      <td>0.0</td>\n",
       "    </tr>\n",
       "    <tr>\n",
       "      <th>99998</th>\n",
       "      <td>1.0</td>\n",
       "      <td>0.0</td>\n",
       "      <td>0.0</td>\n",
       "    </tr>\n",
       "    <tr>\n",
       "      <th>99999</th>\n",
       "      <td>1.0</td>\n",
       "      <td>0.0</td>\n",
       "      <td>0.0</td>\n",
       "    </tr>\n",
       "  </tbody>\n",
       "</table>\n",
       "<p>100000 rows × 3 columns</p>\n",
       "</div>"
      ],
      "text/plain": [
       "       class_GALAXY  class_QSO  class_STAR\n",
       "0               1.0        0.0         0.0\n",
       "1               1.0        0.0         0.0\n",
       "2               1.0        0.0         0.0\n",
       "3               1.0        0.0         0.0\n",
       "4               1.0        0.0         0.0\n",
       "...             ...        ...         ...\n",
       "99995           1.0        0.0         0.0\n",
       "99996           1.0        0.0         0.0\n",
       "99997           1.0        0.0         0.0\n",
       "99998           1.0        0.0         0.0\n",
       "99999           1.0        0.0         0.0\n",
       "\n",
       "[100000 rows x 3 columns]"
      ]
     },
     "execution_count": 44,
     "metadata": {},
     "output_type": "execute_result"
    }
   ],
   "source": [
    "encoder = OneHotEncoder(sparse=False)\n",
    "\n",
    "class_ = pd.DataFrame(encoder.fit_transform(df[['class']]), columns=encoder.get_feature_names_out())\n",
    "class_"
   ]
  },
  {
   "cell_type": "code",
   "execution_count": 49,
   "id": "72362a4b",
   "metadata": {},
   "outputs": [],
   "source": [
    "df_onehot = pd.concat([df, class_], axis=1).drop('class', axis=1)"
   ]
  },
  {
   "cell_type": "code",
   "execution_count": 55,
   "id": "5ffe0596",
   "metadata": {},
   "outputs": [
    {
     "data": {
      "text/html": [
       "<style type=\"text/css\">\n",
       "#T_7a0b2_row0_col0, #T_7a0b2_row1_col1, #T_7a0b2_row2_col2, #T_7a0b2_row2_col3, #T_7a0b2_row2_col6, #T_7a0b2_row3_col2, #T_7a0b2_row3_col3, #T_7a0b2_row3_col6, #T_7a0b2_row4_col4, #T_7a0b2_row5_col5, #T_7a0b2_row6_col2, #T_7a0b2_row6_col3, #T_7a0b2_row6_col6, #T_7a0b2_row7_col7, #T_7a0b2_row8_col8, #T_7a0b2_row8_col10, #T_7a0b2_row9_col9, #T_7a0b2_row10_col8, #T_7a0b2_row10_col10, #T_7a0b2_row11_col11, #T_7a0b2_row12_col12, #T_7a0b2_row13_col13, #T_7a0b2_row14_col14 {\n",
       "  background-color: #08306b;\n",
       "  color: #f1f1f1;\n",
       "}\n",
       "#T_7a0b2_row0_col1, #T_7a0b2_row1_col0, #T_7a0b2_row8_col14, #T_7a0b2_row10_col14 {\n",
       "  background-color: #dce9f6;\n",
       "  color: #000000;\n",
       "}\n",
       "#T_7a0b2_row0_col2, #T_7a0b2_row0_col3, #T_7a0b2_row0_col6, #T_7a0b2_row0_col8, #T_7a0b2_row0_col9, #T_7a0b2_row0_col10, #T_7a0b2_row0_col12, #T_7a0b2_row1_col2, #T_7a0b2_row1_col3, #T_7a0b2_row1_col4, #T_7a0b2_row1_col5, #T_7a0b2_row1_col6, #T_7a0b2_row1_col14, #T_7a0b2_row2_col0, #T_7a0b2_row2_col1, #T_7a0b2_row2_col7, #T_7a0b2_row2_col13, #T_7a0b2_row3_col0, #T_7a0b2_row3_col1, #T_7a0b2_row3_col7, #T_7a0b2_row3_col13, #T_7a0b2_row5_col1, #T_7a0b2_row6_col0, #T_7a0b2_row6_col1, #T_7a0b2_row6_col7, #T_7a0b2_row6_col14, #T_7a0b2_row7_col2, #T_7a0b2_row7_col3, #T_7a0b2_row7_col4, #T_7a0b2_row7_col5, #T_7a0b2_row7_col6, #T_7a0b2_row7_col8, #T_7a0b2_row7_col9, #T_7a0b2_row7_col10, #T_7a0b2_row7_col11, #T_7a0b2_row7_col13, #T_7a0b2_row8_col0, #T_7a0b2_row8_col7, #T_7a0b2_row9_col0, #T_7a0b2_row9_col7, #T_7a0b2_row10_col0, #T_7a0b2_row10_col7, #T_7a0b2_row12_col0, #T_7a0b2_row13_col3, #T_7a0b2_row13_col7 {\n",
       "  background-color: #f7fbff;\n",
       "  color: #000000;\n",
       "}\n",
       "#T_7a0b2_row0_col4, #T_7a0b2_row0_col11, #T_7a0b2_row2_col9, #T_7a0b2_row9_col2, #T_7a0b2_row12_col3, #T_7a0b2_row13_col0, #T_7a0b2_row14_col1 {\n",
       "  background-color: #f5f9fe;\n",
       "  color: #000000;\n",
       "}\n",
       "#T_7a0b2_row0_col5, #T_7a0b2_row0_col7, #T_7a0b2_row2_col12, #T_7a0b2_row7_col0, #T_7a0b2_row7_col12, #T_7a0b2_row11_col0, #T_7a0b2_row14_col0 {\n",
       "  background-color: #f4f9fe;\n",
       "  color: #000000;\n",
       "}\n",
       "#T_7a0b2_row0_col13, #T_7a0b2_row2_col14, #T_7a0b2_row3_col12, #T_7a0b2_row3_col14, #T_7a0b2_row4_col7, #T_7a0b2_row7_col14, #T_7a0b2_row14_col6 {\n",
       "  background-color: #f5fafe;\n",
       "  color: #000000;\n",
       "}\n",
       "#T_7a0b2_row0_col14, #T_7a0b2_row4_col1, #T_7a0b2_row5_col7, #T_7a0b2_row6_col12, #T_7a0b2_row11_col7, #T_7a0b2_row12_col6, #T_7a0b2_row13_col2 {\n",
       "  background-color: #f6faff;\n",
       "  color: #000000;\n",
       "}\n",
       "#T_7a0b2_row1_col7, #T_7a0b2_row1_col9, #T_7a0b2_row1_col12, #T_7a0b2_row3_col11, #T_7a0b2_row4_col12, #T_7a0b2_row8_col6, #T_7a0b2_row10_col6, #T_7a0b2_row11_col6, #T_7a0b2_row12_col4 {\n",
       "  background-color: #f1f7fd;\n",
       "  color: #000000;\n",
       "}\n",
       "#T_7a0b2_row1_col8, #T_7a0b2_row1_col10, #T_7a0b2_row8_col1, #T_7a0b2_row10_col1 {\n",
       "  background-color: #e1edf8;\n",
       "  color: #000000;\n",
       "}\n",
       "#T_7a0b2_row1_col11 {\n",
       "  background-color: #e3eef9;\n",
       "  color: #000000;\n",
       "}\n",
       "#T_7a0b2_row1_col13, #T_7a0b2_row13_col1 {\n",
       "  background-color: #eaf3fb;\n",
       "  color: #000000;\n",
       "}\n",
       "#T_7a0b2_row2_col4, #T_7a0b2_row5_col2, #T_7a0b2_row6_col4 {\n",
       "  background-color: #eef5fc;\n",
       "  color: #000000;\n",
       "}\n",
       "#T_7a0b2_row2_col5 {\n",
       "  background-color: #eff6fc;\n",
       "  color: #000000;\n",
       "}\n",
       "#T_7a0b2_row2_col8, #T_7a0b2_row2_col10, #T_7a0b2_row6_col9, #T_7a0b2_row6_col11, #T_7a0b2_row7_col1, #T_7a0b2_row8_col2, #T_7a0b2_row9_col1, #T_7a0b2_row9_col6, #T_7a0b2_row10_col2, #T_7a0b2_row11_col2 {\n",
       "  background-color: #f2f7fd;\n",
       "  color: #000000;\n",
       "}\n",
       "#T_7a0b2_row2_col11 {\n",
       "  background-color: #f2f8fd;\n",
       "  color: #000000;\n",
       "}\n",
       "#T_7a0b2_row3_col4 {\n",
       "  background-color: #ecf4fb;\n",
       "  color: #000000;\n",
       "}\n",
       "#T_7a0b2_row3_col5, #T_7a0b2_row4_col2, #T_7a0b2_row4_col6, #T_7a0b2_row5_col3, #T_7a0b2_row5_col6, #T_7a0b2_row6_col5 {\n",
       "  background-color: #edf4fc;\n",
       "  color: #000000;\n",
       "}\n",
       "#T_7a0b2_row3_col8, #T_7a0b2_row3_col10, #T_7a0b2_row6_col8, #T_7a0b2_row6_col10, #T_7a0b2_row8_col3, #T_7a0b2_row10_col3, #T_7a0b2_row11_col3, #T_7a0b2_row12_col1 {\n",
       "  background-color: #f0f6fd;\n",
       "  color: #000000;\n",
       "}\n",
       "#T_7a0b2_row3_col9, #T_7a0b2_row4_col0, #T_7a0b2_row5_col0, #T_7a0b2_row6_col13, #T_7a0b2_row9_col3, #T_7a0b2_row12_col2, #T_7a0b2_row12_col7, #T_7a0b2_row13_col6, #T_7a0b2_row14_col2, #T_7a0b2_row14_col3, #T_7a0b2_row14_col7 {\n",
       "  background-color: #f3f8fe;\n",
       "  color: #000000;\n",
       "}\n",
       "#T_7a0b2_row4_col3 {\n",
       "  background-color: #ebf3fb;\n",
       "  color: #000000;\n",
       "}\n",
       "#T_7a0b2_row4_col5, #T_7a0b2_row5_col4 {\n",
       "  background-color: #083979;\n",
       "  color: #f1f1f1;\n",
       "}\n",
       "#T_7a0b2_row4_col8, #T_7a0b2_row4_col10, #T_7a0b2_row8_col4, #T_7a0b2_row10_col4 {\n",
       "  background-color: #3a8ac2;\n",
       "  color: #f1f1f1;\n",
       "}\n",
       "#T_7a0b2_row4_col9 {\n",
       "  background-color: #87bddc;\n",
       "  color: #000000;\n",
       "}\n",
       "#T_7a0b2_row4_col11, #T_7a0b2_row5_col11, #T_7a0b2_row11_col4, #T_7a0b2_row11_col5 {\n",
       "  background-color: #3686c0;\n",
       "  color: #f1f1f1;\n",
       "}\n",
       "#T_7a0b2_row4_col13, #T_7a0b2_row9_col12, #T_7a0b2_row13_col4, #T_7a0b2_row14_col13 {\n",
       "  background-color: #c6dbef;\n",
       "  color: #000000;\n",
       "}\n",
       "#T_7a0b2_row4_col14 {\n",
       "  background-color: #d3e3f3;\n",
       "  color: #000000;\n",
       "}\n",
       "#T_7a0b2_row5_col8, #T_7a0b2_row5_col10 {\n",
       "  background-color: #3888c1;\n",
       "  color: #f1f1f1;\n",
       "}\n",
       "#T_7a0b2_row5_col9 {\n",
       "  background-color: #6dafd7;\n",
       "  color: #f1f1f1;\n",
       "}\n",
       "#T_7a0b2_row5_col12, #T_7a0b2_row12_col5, #T_7a0b2_row14_col5 {\n",
       "  background-color: #d8e7f5;\n",
       "  color: #000000;\n",
       "}\n",
       "#T_7a0b2_row5_col13, #T_7a0b2_row13_col5 {\n",
       "  background-color: #a0cbe2;\n",
       "  color: #000000;\n",
       "}\n",
       "#T_7a0b2_row5_col14, #T_7a0b2_row14_col8, #T_7a0b2_row14_col10 {\n",
       "  background-color: #d9e8f5;\n",
       "  color: #000000;\n",
       "}\n",
       "#T_7a0b2_row8_col5, #T_7a0b2_row10_col5 {\n",
       "  background-color: #3989c1;\n",
       "  color: #f1f1f1;\n",
       "}\n",
       "#T_7a0b2_row8_col9, #T_7a0b2_row9_col8, #T_7a0b2_row9_col10, #T_7a0b2_row10_col9, #T_7a0b2_row11_col9 {\n",
       "  background-color: #99c7e0;\n",
       "  color: #000000;\n",
       "}\n",
       "#T_7a0b2_row8_col11, #T_7a0b2_row10_col11, #T_7a0b2_row11_col8, #T_7a0b2_row11_col10 {\n",
       "  background-color: #083776;\n",
       "  color: #f1f1f1;\n",
       "}\n",
       "#T_7a0b2_row8_col12, #T_7a0b2_row10_col12, #T_7a0b2_row11_col1, #T_7a0b2_row11_col12, #T_7a0b2_row12_col8, #T_7a0b2_row12_col10 {\n",
       "  background-color: #e2edf8;\n",
       "  color: #000000;\n",
       "}\n",
       "#T_7a0b2_row8_col13, #T_7a0b2_row10_col13, #T_7a0b2_row13_col8, #T_7a0b2_row13_col10 {\n",
       "  background-color: #b8d5ea;\n",
       "  color: #000000;\n",
       "}\n",
       "#T_7a0b2_row9_col4 {\n",
       "  background-color: #89bedc;\n",
       "  color: #000000;\n",
       "}\n",
       "#T_7a0b2_row9_col5 {\n",
       "  background-color: #6fb0d7;\n",
       "  color: #f1f1f1;\n",
       "}\n",
       "#T_7a0b2_row9_col11 {\n",
       "  background-color: #9ac8e0;\n",
       "  color: #000000;\n",
       "}\n",
       "#T_7a0b2_row9_col13, #T_7a0b2_row13_col9 {\n",
       "  background-color: #206fb4;\n",
       "  color: #f1f1f1;\n",
       "}\n",
       "#T_7a0b2_row9_col14 {\n",
       "  background-color: #91c3de;\n",
       "  color: #000000;\n",
       "}\n",
       "#T_7a0b2_row11_col13 {\n",
       "  background-color: #bed8ec;\n",
       "  color: #000000;\n",
       "}\n",
       "#T_7a0b2_row11_col14 {\n",
       "  background-color: #dfebf7;\n",
       "  color: #000000;\n",
       "}\n",
       "#T_7a0b2_row12_col9 {\n",
       "  background-color: #c4daee;\n",
       "  color: #000000;\n",
       "}\n",
       "#T_7a0b2_row12_col11 {\n",
       "  background-color: #e3eef8;\n",
       "  color: #000000;\n",
       "}\n",
       "#T_7a0b2_row12_col13, #T_7a0b2_row13_col12 {\n",
       "  background-color: #4f9bcb;\n",
       "  color: #f1f1f1;\n",
       "}\n",
       "#T_7a0b2_row12_col14 {\n",
       "  background-color: #4090c5;\n",
       "  color: #f1f1f1;\n",
       "}\n",
       "#T_7a0b2_row13_col11 {\n",
       "  background-color: #bfd8ed;\n",
       "  color: #000000;\n",
       "}\n",
       "#T_7a0b2_row13_col14 {\n",
       "  background-color: #c7dcef;\n",
       "  color: #000000;\n",
       "}\n",
       "#T_7a0b2_row14_col4 {\n",
       "  background-color: #d1e2f3;\n",
       "  color: #000000;\n",
       "}\n",
       "#T_7a0b2_row14_col9 {\n",
       "  background-color: #8dc1dd;\n",
       "  color: #000000;\n",
       "}\n",
       "#T_7a0b2_row14_col11 {\n",
       "  background-color: #deebf7;\n",
       "  color: #000000;\n",
       "}\n",
       "#T_7a0b2_row14_col12 {\n",
       "  background-color: #3f8fc5;\n",
       "  color: #f1f1f1;\n",
       "}\n",
       "</style>\n",
       "<table id=\"T_7a0b2\">\n",
       "  <thead>\n",
       "    <tr>\n",
       "      <th class=\"blank level0\" >&nbsp;</th>\n",
       "      <th id=\"T_7a0b2_level0_col0\" class=\"col_heading level0 col0\" >alpha</th>\n",
       "      <th id=\"T_7a0b2_level0_col1\" class=\"col_heading level0 col1\" >delta</th>\n",
       "      <th id=\"T_7a0b2_level0_col2\" class=\"col_heading level0 col2\" >u</th>\n",
       "      <th id=\"T_7a0b2_level0_col3\" class=\"col_heading level0 col3\" >g</th>\n",
       "      <th id=\"T_7a0b2_level0_col4\" class=\"col_heading level0 col4\" >r</th>\n",
       "      <th id=\"T_7a0b2_level0_col5\" class=\"col_heading level0 col5\" >i</th>\n",
       "      <th id=\"T_7a0b2_level0_col6\" class=\"col_heading level0 col6\" >z</th>\n",
       "      <th id=\"T_7a0b2_level0_col7\" class=\"col_heading level0 col7\" >cam_col</th>\n",
       "      <th id=\"T_7a0b2_level0_col8\" class=\"col_heading level0 col8\" >spec_obj_ID</th>\n",
       "      <th id=\"T_7a0b2_level0_col9\" class=\"col_heading level0 col9\" >redshift</th>\n",
       "      <th id=\"T_7a0b2_level0_col10\" class=\"col_heading level0 col10\" >plate</th>\n",
       "      <th id=\"T_7a0b2_level0_col11\" class=\"col_heading level0 col11\" >MJD</th>\n",
       "      <th id=\"T_7a0b2_level0_col12\" class=\"col_heading level0 col12\" >class_GALAXY</th>\n",
       "      <th id=\"T_7a0b2_level0_col13\" class=\"col_heading level0 col13\" >class_QSO</th>\n",
       "      <th id=\"T_7a0b2_level0_col14\" class=\"col_heading level0 col14\" >class_STAR</th>\n",
       "    </tr>\n",
       "  </thead>\n",
       "  <tbody>\n",
       "    <tr>\n",
       "      <th id=\"T_7a0b2_level0_row0\" class=\"row_heading level0 row0\" >alpha</th>\n",
       "      <td id=\"T_7a0b2_row0_col0\" class=\"data row0 col0\" >1.000000</td>\n",
       "      <td id=\"T_7a0b2_row0_col1\" class=\"data row0 col1\" >0.138691</td>\n",
       "      <td id=\"T_7a0b2_row0_col2\" class=\"data row0 col2\" >0.001532</td>\n",
       "      <td id=\"T_7a0b2_row0_col3\" class=\"data row0 col3\" >0.002423</td>\n",
       "      <td id=\"T_7a0b2_row0_col4\" class=\"data row0 col4\" >0.022083</td>\n",
       "      <td id=\"T_7a0b2_row0_col5\" class=\"data row0 col5\" >0.023580</td>\n",
       "      <td id=\"T_7a0b2_row0_col6\" class=\"data row0 col6\" >0.002918</td>\n",
       "      <td id=\"T_7a0b2_row0_col7\" class=\"data row0 col7\" >0.019582</td>\n",
       "      <td id=\"T_7a0b2_row0_col8\" class=\"data row0 col8\" >0.002553</td>\n",
       "      <td id=\"T_7a0b2_row0_col9\" class=\"data row0 col9\" >0.001667</td>\n",
       "      <td id=\"T_7a0b2_row0_col10\" class=\"data row0 col10\" >0.002554</td>\n",
       "      <td id=\"T_7a0b2_row0_col11\" class=\"data row0 col11\" >0.019943</td>\n",
       "      <td id=\"T_7a0b2_row0_col12\" class=\"data row0 col12\" >0.004085</td>\n",
       "      <td id=\"T_7a0b2_row0_col13\" class=\"data row0 col13\" >0.014261</td>\n",
       "      <td id=\"T_7a0b2_row0_col14\" class=\"data row0 col14\" >0.018461</td>\n",
       "    </tr>\n",
       "    <tr>\n",
       "      <th id=\"T_7a0b2_level0_row1\" class=\"row_heading level0 row1\" >delta</th>\n",
       "      <td id=\"T_7a0b2_row1_col0\" class=\"data row1 col0\" >0.138691</td>\n",
       "      <td id=\"T_7a0b2_row1_col1\" class=\"data row1 col1\" >1.000000</td>\n",
       "      <td id=\"T_7a0b2_row1_col2\" class=\"data row1 col2\" >0.002074</td>\n",
       "      <td id=\"T_7a0b2_row1_col3\" class=\"data row1 col3\" >0.003523</td>\n",
       "      <td id=\"T_7a0b2_row1_col4\" class=\"data row1 col4\" >0.006835</td>\n",
       "      <td id=\"T_7a0b2_row1_col5\" class=\"data row1 col5\" >0.004480</td>\n",
       "      <td id=\"T_7a0b2_row1_col6\" class=\"data row1 col6\" >0.003630</td>\n",
       "      <td id=\"T_7a0b2_row1_col7\" class=\"data row1 col7\" >0.032565</td>\n",
       "      <td id=\"T_7a0b2_row1_col8\" class=\"data row1 col8\" >0.112329</td>\n",
       "      <td id=\"T_7a0b2_row1_col9\" class=\"data row1 col9\" >0.031638</td>\n",
       "      <td id=\"T_7a0b2_row1_col10\" class=\"data row1 col10\" >0.112329</td>\n",
       "      <td id=\"T_7a0b2_row1_col11\" class=\"data row1 col11\" >0.107333</td>\n",
       "      <td id=\"T_7a0b2_row1_col12\" class=\"data row1 col12\" >0.038297</td>\n",
       "      <td id=\"T_7a0b2_row1_col13\" class=\"data row1 col13\" >0.065825</td>\n",
       "      <td id=\"T_7a0b2_row1_col14\" class=\"data row1 col14\" >0.017011</td>\n",
       "    </tr>\n",
       "    <tr>\n",
       "      <th id=\"T_7a0b2_level0_row2\" class=\"row_heading level0 row2\" >u</th>\n",
       "      <td id=\"T_7a0b2_row2_col0\" class=\"data row2 col0\" >0.001532</td>\n",
       "      <td id=\"T_7a0b2_row2_col1\" class=\"data row2 col1\" >0.002074</td>\n",
       "      <td id=\"T_7a0b2_row2_col2\" class=\"data row2 col2\" >1.000000</td>\n",
       "      <td id=\"T_7a0b2_row2_col3\" class=\"data row2 col3\" >0.999311</td>\n",
       "      <td id=\"T_7a0b2_row2_col4\" class=\"data row2 col4\" >0.054149</td>\n",
       "      <td id=\"T_7a0b2_row2_col5\" class=\"data row2 col5\" >0.045730</td>\n",
       "      <td id=\"T_7a0b2_row2_col6\" class=\"data row2 col6\" >0.998093</td>\n",
       "      <td id=\"T_7a0b2_row2_col7\" class=\"data row2 col7\" >0.003548</td>\n",
       "      <td id=\"T_7a0b2_row2_col8\" class=\"data row2 col8\" >0.029997</td>\n",
       "      <td id=\"T_7a0b2_row2_col9\" class=\"data row2 col9\" >0.014309</td>\n",
       "      <td id=\"T_7a0b2_row2_col10\" class=\"data row2 col10\" >0.029997</td>\n",
       "      <td id=\"T_7a0b2_row2_col11\" class=\"data row2 col11\" >0.031997</td>\n",
       "      <td id=\"T_7a0b2_row2_col12\" class=\"data row2 col12\" >0.023129</td>\n",
       "      <td id=\"T_7a0b2_row2_col13\" class=\"data row2 col13\" >0.006590</td>\n",
       "      <td id=\"T_7a0b2_row2_col14\" class=\"data row2 col14\" >0.021321</td>\n",
       "    </tr>\n",
       "    <tr>\n",
       "      <th id=\"T_7a0b2_level0_row3\" class=\"row_heading level0 row3\" >g</th>\n",
       "      <td id=\"T_7a0b2_row3_col0\" class=\"data row3 col0\" >0.002423</td>\n",
       "      <td id=\"T_7a0b2_row3_col1\" class=\"data row3 col1\" >0.003523</td>\n",
       "      <td id=\"T_7a0b2_row3_col2\" class=\"data row3 col2\" >0.999311</td>\n",
       "      <td id=\"T_7a0b2_row3_col3\" class=\"data row3 col3\" >1.000000</td>\n",
       "      <td id=\"T_7a0b2_row3_col4\" class=\"data row3 col4\" >0.062387</td>\n",
       "      <td id=\"T_7a0b2_row3_col5\" class=\"data row3 col5\" >0.056271</td>\n",
       "      <td id=\"T_7a0b2_row3_col6\" class=\"data row3 col6\" >0.999161</td>\n",
       "      <td id=\"T_7a0b2_row3_col7\" class=\"data row3 col7\" >0.003508</td>\n",
       "      <td id=\"T_7a0b2_row3_col8\" class=\"data row3 col8\" >0.039443</td>\n",
       "      <td id=\"T_7a0b2_row3_col9\" class=\"data row3 col9\" >0.022954</td>\n",
       "      <td id=\"T_7a0b2_row3_col10\" class=\"data row3 col10\" >0.039443</td>\n",
       "      <td id=\"T_7a0b2_row3_col11\" class=\"data row3 col11\" >0.040274</td>\n",
       "      <td id=\"T_7a0b2_row3_col12\" class=\"data row3 col12\" >0.014289</td>\n",
       "      <td id=\"T_7a0b2_row3_col13\" class=\"data row3 col13\" >0.006015</td>\n",
       "      <td id=\"T_7a0b2_row3_col14\" class=\"data row3 col14\" >0.022780</td>\n",
       "    </tr>\n",
       "    <tr>\n",
       "      <th id=\"T_7a0b2_level0_row4\" class=\"row_heading level0 row4\" >r</th>\n",
       "      <td id=\"T_7a0b2_row4_col0\" class=\"data row4 col0\" >0.022083</td>\n",
       "      <td id=\"T_7a0b2_row4_col1\" class=\"data row4 col1\" >0.006835</td>\n",
       "      <td id=\"T_7a0b2_row4_col2\" class=\"data row4 col2\" >0.054149</td>\n",
       "      <td id=\"T_7a0b2_row4_col3\" class=\"data row4 col3\" >0.062387</td>\n",
       "      <td id=\"T_7a0b2_row4_col4\" class=\"data row4 col4\" >1.000000</td>\n",
       "      <td id=\"T_7a0b2_row4_col5\" class=\"data row4 col5\" >0.962868</td>\n",
       "      <td id=\"T_7a0b2_row4_col6\" class=\"data row4 col6\" >0.053677</td>\n",
       "      <td id=\"T_7a0b2_row4_col7\" class=\"data row4 col7\" >0.008480</td>\n",
       "      <td id=\"T_7a0b2_row4_col8\" class=\"data row4 col8\" >0.655245</td>\n",
       "      <td id=\"T_7a0b2_row4_col9\" class=\"data row4 col9\" >0.433241</td>\n",
       "      <td id=\"T_7a0b2_row4_col10\" class=\"data row4 col10\" >0.655243</td>\n",
       "      <td id=\"T_7a0b2_row4_col11\" class=\"data row4 col11\" >0.671180</td>\n",
       "      <td id=\"T_7a0b2_row4_col12\" class=\"data row4 col12\" >0.037997</td>\n",
       "      <td id=\"T_7a0b2_row4_col13\" class=\"data row4 col13\" >0.255142</td>\n",
       "      <td id=\"T_7a0b2_row4_col14\" class=\"data row4 col14\" >0.197722</td>\n",
       "    </tr>\n",
       "    <tr>\n",
       "      <th id=\"T_7a0b2_level0_row5\" class=\"row_heading level0 row5\" >i</th>\n",
       "      <td id=\"T_7a0b2_row5_col0\" class=\"data row5 col0\" >0.023580</td>\n",
       "      <td id=\"T_7a0b2_row5_col1\" class=\"data row5 col1\" >0.004480</td>\n",
       "      <td id=\"T_7a0b2_row5_col2\" class=\"data row5 col2\" >0.045730</td>\n",
       "      <td id=\"T_7a0b2_row5_col3\" class=\"data row5 col3\" >0.056271</td>\n",
       "      <td id=\"T_7a0b2_row5_col4\" class=\"data row5 col4\" >0.962868</td>\n",
       "      <td id=\"T_7a0b2_row5_col5\" class=\"data row5 col5\" >1.000000</td>\n",
       "      <td id=\"T_7a0b2_row5_col6\" class=\"data row5 col6\" >0.055994</td>\n",
       "      <td id=\"T_7a0b2_row5_col7\" class=\"data row5 col7\" >0.007615</td>\n",
       "      <td id=\"T_7a0b2_row5_col8\" class=\"data row5 col8\" >0.661641</td>\n",
       "      <td id=\"T_7a0b2_row5_col9\" class=\"data row5 col9\" >0.492383</td>\n",
       "      <td id=\"T_7a0b2_row5_col10\" class=\"data row5 col10\" >0.661640</td>\n",
       "      <td id=\"T_7a0b2_row5_col11\" class=\"data row5 col11\" >0.672523</td>\n",
       "      <td id=\"T_7a0b2_row5_col12\" class=\"data row5 col12\" >0.160379</td>\n",
       "      <td id=\"T_7a0b2_row5_col13\" class=\"data row5 col13\" >0.370459</td>\n",
       "      <td id=\"T_7a0b2_row5_col14\" class=\"data row5 col14\" >0.161545</td>\n",
       "    </tr>\n",
       "    <tr>\n",
       "      <th id=\"T_7a0b2_level0_row6\" class=\"row_heading level0 row6\" >z</th>\n",
       "      <td id=\"T_7a0b2_row6_col0\" class=\"data row6 col0\" >0.002918</td>\n",
       "      <td id=\"T_7a0b2_row6_col1\" class=\"data row6 col1\" >0.003630</td>\n",
       "      <td id=\"T_7a0b2_row6_col2\" class=\"data row6 col2\" >0.998093</td>\n",
       "      <td id=\"T_7a0b2_row6_col3\" class=\"data row6 col3\" >0.999161</td>\n",
       "      <td id=\"T_7a0b2_row6_col4\" class=\"data row6 col4\" >0.053677</td>\n",
       "      <td id=\"T_7a0b2_row6_col5\" class=\"data row6 col5\" >0.055994</td>\n",
       "      <td id=\"T_7a0b2_row6_col6\" class=\"data row6 col6\" >1.000000</td>\n",
       "      <td id=\"T_7a0b2_row6_col7\" class=\"data row6 col7\" >0.003365</td>\n",
       "      <td id=\"T_7a0b2_row6_col8\" class=\"data row6 col8\" >0.037813</td>\n",
       "      <td id=\"T_7a0b2_row6_col9\" class=\"data row6 col9\" >0.030380</td>\n",
       "      <td id=\"T_7a0b2_row6_col10\" class=\"data row6 col10\" >0.037813</td>\n",
       "      <td id=\"T_7a0b2_row6_col11\" class=\"data row6 col11\" >0.037469</td>\n",
       "      <td id=\"T_7a0b2_row6_col12\" class=\"data row6 col12\" >0.008382</td>\n",
       "      <td id=\"T_7a0b2_row6_col13\" class=\"data row6 col13\" >0.024361</td>\n",
       "      <td id=\"T_7a0b2_row6_col14\" class=\"data row6 col14\" >0.013206</td>\n",
       "    </tr>\n",
       "    <tr>\n",
       "      <th id=\"T_7a0b2_level0_row7\" class=\"row_heading level0 row7\" >cam_col</th>\n",
       "      <td id=\"T_7a0b2_row7_col0\" class=\"data row7 col0\" >0.019582</td>\n",
       "      <td id=\"T_7a0b2_row7_col1\" class=\"data row7 col1\" >0.032565</td>\n",
       "      <td id=\"T_7a0b2_row7_col2\" class=\"data row7 col2\" >0.003548</td>\n",
       "      <td id=\"T_7a0b2_row7_col3\" class=\"data row7 col3\" >0.003508</td>\n",
       "      <td id=\"T_7a0b2_row7_col4\" class=\"data row7 col4\" >0.008480</td>\n",
       "      <td id=\"T_7a0b2_row7_col5\" class=\"data row7 col5\" >0.007615</td>\n",
       "      <td id=\"T_7a0b2_row7_col6\" class=\"data row7 col6\" >0.003365</td>\n",
       "      <td id=\"T_7a0b2_row7_col7\" class=\"data row7 col7\" >1.000000</td>\n",
       "      <td id=\"T_7a0b2_row7_col8\" class=\"data row7 col8\" >0.001946</td>\n",
       "      <td id=\"T_7a0b2_row7_col9\" class=\"data row7 col9\" >0.000097</td>\n",
       "      <td id=\"T_7a0b2_row7_col10\" class=\"data row7 col10\" >0.001949</td>\n",
       "      <td id=\"T_7a0b2_row7_col11\" class=\"data row7 col11\" >0.006745</td>\n",
       "      <td id=\"T_7a0b2_row7_col12\" class=\"data row7 col12\" >0.020569</td>\n",
       "      <td id=\"T_7a0b2_row7_col13\" class=\"data row7 col13\" >0.003317</td>\n",
       "      <td id=\"T_7a0b2_row7_col14\" class=\"data row7 col14\" >0.021384</td>\n",
       "    </tr>\n",
       "    <tr>\n",
       "      <th id=\"T_7a0b2_level0_row8\" class=\"row_heading level0 row8\" >spec_obj_ID</th>\n",
       "      <td id=\"T_7a0b2_row8_col0\" class=\"data row8 col0\" >0.002553</td>\n",
       "      <td id=\"T_7a0b2_row8_col1\" class=\"data row8 col1\" >0.112329</td>\n",
       "      <td id=\"T_7a0b2_row8_col2\" class=\"data row8 col2\" >0.029997</td>\n",
       "      <td id=\"T_7a0b2_row8_col3\" class=\"data row8 col3\" >0.039443</td>\n",
       "      <td id=\"T_7a0b2_row8_col4\" class=\"data row8 col4\" >0.655245</td>\n",
       "      <td id=\"T_7a0b2_row8_col5\" class=\"data row8 col5\" >0.661641</td>\n",
       "      <td id=\"T_7a0b2_row8_col6\" class=\"data row8 col6\" >0.037813</td>\n",
       "      <td id=\"T_7a0b2_row8_col7\" class=\"data row8 col7\" >0.001946</td>\n",
       "      <td id=\"T_7a0b2_row8_col8\" class=\"data row8 col8\" >1.000000</td>\n",
       "      <td id=\"T_7a0b2_row8_col9\" class=\"data row8 col9\" >0.388642</td>\n",
       "      <td id=\"T_7a0b2_row8_col10\" class=\"data row8 col10\" >1.000000</td>\n",
       "      <td id=\"T_7a0b2_row8_col11\" class=\"data row8 col11\" >0.970167</td>\n",
       "      <td id=\"T_7a0b2_row8_col12\" class=\"data row8 col12\" >0.109753</td>\n",
       "      <td id=\"T_7a0b2_row8_col13\" class=\"data row8 col13\" >0.295908</td>\n",
       "      <td id=\"T_7a0b2_row8_col14\" class=\"data row8 col14\" >0.150935</td>\n",
       "    </tr>\n",
       "    <tr>\n",
       "      <th id=\"T_7a0b2_level0_row9\" class=\"row_heading level0 row9\" >redshift</th>\n",
       "      <td id=\"T_7a0b2_row9_col0\" class=\"data row9 col0\" >0.001667</td>\n",
       "      <td id=\"T_7a0b2_row9_col1\" class=\"data row9 col1\" >0.031638</td>\n",
       "      <td id=\"T_7a0b2_row9_col2\" class=\"data row9 col2\" >0.014309</td>\n",
       "      <td id=\"T_7a0b2_row9_col3\" class=\"data row9 col3\" >0.022954</td>\n",
       "      <td id=\"T_7a0b2_row9_col4\" class=\"data row9 col4\" >0.433241</td>\n",
       "      <td id=\"T_7a0b2_row9_col5\" class=\"data row9 col5\" >0.492383</td>\n",
       "      <td id=\"T_7a0b2_row9_col6\" class=\"data row9 col6\" >0.030380</td>\n",
       "      <td id=\"T_7a0b2_row9_col7\" class=\"data row9 col7\" >0.000097</td>\n",
       "      <td id=\"T_7a0b2_row9_col8\" class=\"data row9 col8\" >0.388642</td>\n",
       "      <td id=\"T_7a0b2_row9_col9\" class=\"data row9 col9\" >1.000000</td>\n",
       "      <td id=\"T_7a0b2_row9_col10\" class=\"data row9 col10\" >0.388641</td>\n",
       "      <td id=\"T_7a0b2_row9_col11\" class=\"data row9 col11\" >0.387109</td>\n",
       "      <td id=\"T_7a0b2_row9_col12\" class=\"data row9 col12\" >0.256925</td>\n",
       "      <td id=\"T_7a0b2_row9_col13\" class=\"data row9 col13\" >0.756649</td>\n",
       "      <td id=\"T_7a0b2_row9_col14\" class=\"data row9 col14\" >0.414245</td>\n",
       "    </tr>\n",
       "    <tr>\n",
       "      <th id=\"T_7a0b2_level0_row10\" class=\"row_heading level0 row10\" >plate</th>\n",
       "      <td id=\"T_7a0b2_row10_col0\" class=\"data row10 col0\" >0.002554</td>\n",
       "      <td id=\"T_7a0b2_row10_col1\" class=\"data row10 col1\" >0.112329</td>\n",
       "      <td id=\"T_7a0b2_row10_col2\" class=\"data row10 col2\" >0.029997</td>\n",
       "      <td id=\"T_7a0b2_row10_col3\" class=\"data row10 col3\" >0.039443</td>\n",
       "      <td id=\"T_7a0b2_row10_col4\" class=\"data row10 col4\" >0.655243</td>\n",
       "      <td id=\"T_7a0b2_row10_col5\" class=\"data row10 col5\" >0.661640</td>\n",
       "      <td id=\"T_7a0b2_row10_col6\" class=\"data row10 col6\" >0.037813</td>\n",
       "      <td id=\"T_7a0b2_row10_col7\" class=\"data row10 col7\" >0.001949</td>\n",
       "      <td id=\"T_7a0b2_row10_col8\" class=\"data row10 col8\" >1.000000</td>\n",
       "      <td id=\"T_7a0b2_row10_col9\" class=\"data row10 col9\" >0.388641</td>\n",
       "      <td id=\"T_7a0b2_row10_col10\" class=\"data row10 col10\" >1.000000</td>\n",
       "      <td id=\"T_7a0b2_row10_col11\" class=\"data row10 col11\" >0.970166</td>\n",
       "      <td id=\"T_7a0b2_row10_col12\" class=\"data row10 col12\" >0.109753</td>\n",
       "      <td id=\"T_7a0b2_row10_col13\" class=\"data row10 col13\" >0.295908</td>\n",
       "      <td id=\"T_7a0b2_row10_col14\" class=\"data row10 col14\" >0.150934</td>\n",
       "    </tr>\n",
       "    <tr>\n",
       "      <th id=\"T_7a0b2_level0_row11\" class=\"row_heading level0 row11\" >MJD</th>\n",
       "      <td id=\"T_7a0b2_row11_col0\" class=\"data row11 col0\" >0.019943</td>\n",
       "      <td id=\"T_7a0b2_row11_col1\" class=\"data row11 col1\" >0.107333</td>\n",
       "      <td id=\"T_7a0b2_row11_col2\" class=\"data row11 col2\" >0.031997</td>\n",
       "      <td id=\"T_7a0b2_row11_col3\" class=\"data row11 col3\" >0.040274</td>\n",
       "      <td id=\"T_7a0b2_row11_col4\" class=\"data row11 col4\" >0.671180</td>\n",
       "      <td id=\"T_7a0b2_row11_col5\" class=\"data row11 col5\" >0.672523</td>\n",
       "      <td id=\"T_7a0b2_row11_col6\" class=\"data row11 col6\" >0.037469</td>\n",
       "      <td id=\"T_7a0b2_row11_col7\" class=\"data row11 col7\" >0.006745</td>\n",
       "      <td id=\"T_7a0b2_row11_col8\" class=\"data row11 col8\" >0.970167</td>\n",
       "      <td id=\"T_7a0b2_row11_col9\" class=\"data row11 col9\" >0.387109</td>\n",
       "      <td id=\"T_7a0b2_row11_col10\" class=\"data row11 col10\" >0.970166</td>\n",
       "      <td id=\"T_7a0b2_row11_col11\" class=\"data row11 col11\" >1.000000</td>\n",
       "      <td id=\"T_7a0b2_row11_col12\" class=\"data row11 col12\" >0.110584</td>\n",
       "      <td id=\"T_7a0b2_row11_col13\" class=\"data row11 col13\" >0.277872</td>\n",
       "      <td id=\"T_7a0b2_row11_col14\" class=\"data row11 col14\" >0.132761</td>\n",
       "    </tr>\n",
       "    <tr>\n",
       "      <th id=\"T_7a0b2_level0_row12\" class=\"row_heading level0 row12\" >class_GALAXY</th>\n",
       "      <td id=\"T_7a0b2_row12_col0\" class=\"data row12 col0\" >0.004085</td>\n",
       "      <td id=\"T_7a0b2_row12_col1\" class=\"data row12 col1\" >0.038297</td>\n",
       "      <td id=\"T_7a0b2_row12_col2\" class=\"data row12 col2\" >0.023129</td>\n",
       "      <td id=\"T_7a0b2_row12_col3\" class=\"data row12 col3\" >0.014289</td>\n",
       "      <td id=\"T_7a0b2_row12_col4\" class=\"data row12 col4\" >0.037997</td>\n",
       "      <td id=\"T_7a0b2_row12_col5\" class=\"data row12 col5\" >0.160379</td>\n",
       "      <td id=\"T_7a0b2_row12_col6\" class=\"data row12 col6\" >0.008382</td>\n",
       "      <td id=\"T_7a0b2_row12_col7\" class=\"data row12 col7\" >0.020569</td>\n",
       "      <td id=\"T_7a0b2_row12_col8\" class=\"data row12 col8\" >0.109753</td>\n",
       "      <td id=\"T_7a0b2_row12_col9\" class=\"data row12 col9\" >0.256925</td>\n",
       "      <td id=\"T_7a0b2_row12_col10\" class=\"data row12 col10\" >0.109753</td>\n",
       "      <td id=\"T_7a0b2_row12_col11\" class=\"data row12 col11\" >0.110584</td>\n",
       "      <td id=\"T_7a0b2_row12_col12\" class=\"data row12 col12\" >1.000000</td>\n",
       "      <td id=\"T_7a0b2_row12_col13\" class=\"data row12 col13\" >0.585624</td>\n",
       "      <td id=\"T_7a0b2_row12_col14\" class=\"data row12 col14\" >0.635371</td>\n",
       "    </tr>\n",
       "    <tr>\n",
       "      <th id=\"T_7a0b2_level0_row13\" class=\"row_heading level0 row13\" >class_QSO</th>\n",
       "      <td id=\"T_7a0b2_row13_col0\" class=\"data row13 col0\" >0.014261</td>\n",
       "      <td id=\"T_7a0b2_row13_col1\" class=\"data row13 col1\" >0.065825</td>\n",
       "      <td id=\"T_7a0b2_row13_col2\" class=\"data row13 col2\" >0.006590</td>\n",
       "      <td id=\"T_7a0b2_row13_col3\" class=\"data row13 col3\" >0.006015</td>\n",
       "      <td id=\"T_7a0b2_row13_col4\" class=\"data row13 col4\" >0.255142</td>\n",
       "      <td id=\"T_7a0b2_row13_col5\" class=\"data row13 col5\" >0.370459</td>\n",
       "      <td id=\"T_7a0b2_row13_col6\" class=\"data row13 col6\" >0.024361</td>\n",
       "      <td id=\"T_7a0b2_row13_col7\" class=\"data row13 col7\" >0.003317</td>\n",
       "      <td id=\"T_7a0b2_row13_col8\" class=\"data row13 col8\" >0.295908</td>\n",
       "      <td id=\"T_7a0b2_row13_col9\" class=\"data row13 col9\" >0.756649</td>\n",
       "      <td id=\"T_7a0b2_row13_col10\" class=\"data row13 col10\" >0.295908</td>\n",
       "      <td id=\"T_7a0b2_row13_col11\" class=\"data row13 col11\" >0.277872</td>\n",
       "      <td id=\"T_7a0b2_row13_col12\" class=\"data row13 col12\" >0.585624</td>\n",
       "      <td id=\"T_7a0b2_row13_col13\" class=\"data row13 col13\" >1.000000</td>\n",
       "      <td id=\"T_7a0b2_row13_col14\" class=\"data row13 col14\" >0.253849</td>\n",
       "    </tr>\n",
       "    <tr>\n",
       "      <th id=\"T_7a0b2_level0_row14\" class=\"row_heading level0 row14\" >class_STAR</th>\n",
       "      <td id=\"T_7a0b2_row14_col0\" class=\"data row14 col0\" >0.018461</td>\n",
       "      <td id=\"T_7a0b2_row14_col1\" class=\"data row14 col1\" >0.017011</td>\n",
       "      <td id=\"T_7a0b2_row14_col2\" class=\"data row14 col2\" >0.021321</td>\n",
       "      <td id=\"T_7a0b2_row14_col3\" class=\"data row14 col3\" >0.022780</td>\n",
       "      <td id=\"T_7a0b2_row14_col4\" class=\"data row14 col4\" >0.197722</td>\n",
       "      <td id=\"T_7a0b2_row14_col5\" class=\"data row14 col5\" >0.161545</td>\n",
       "      <td id=\"T_7a0b2_row14_col6\" class=\"data row14 col6\" >0.013206</td>\n",
       "      <td id=\"T_7a0b2_row14_col7\" class=\"data row14 col7\" >0.021384</td>\n",
       "      <td id=\"T_7a0b2_row14_col8\" class=\"data row14 col8\" >0.150935</td>\n",
       "      <td id=\"T_7a0b2_row14_col9\" class=\"data row14 col9\" >0.414245</td>\n",
       "      <td id=\"T_7a0b2_row14_col10\" class=\"data row14 col10\" >0.150934</td>\n",
       "      <td id=\"T_7a0b2_row14_col11\" class=\"data row14 col11\" >0.132761</td>\n",
       "      <td id=\"T_7a0b2_row14_col12\" class=\"data row14 col12\" >0.635371</td>\n",
       "      <td id=\"T_7a0b2_row14_col13\" class=\"data row14 col13\" >0.253849</td>\n",
       "      <td id=\"T_7a0b2_row14_col14\" class=\"data row14 col14\" >1.000000</td>\n",
       "    </tr>\n",
       "  </tbody>\n",
       "</table>\n"
      ],
      "text/plain": [
       "<pandas.io.formats.style.Styler at 0x2690c9fd700>"
      ]
     },
     "execution_count": 55,
     "metadata": {},
     "output_type": "execute_result"
    }
   ],
   "source": [
    "corr = df_onehot.corr().abs()\n",
    "corr.style.background_gradient(cmap='Blues')"
   ]
  },
  {
   "cell_type": "code",
   "execution_count": 59,
   "id": "eadba1f6",
   "metadata": {},
   "outputs": [],
   "source": [
    "X, y = df_onehot.drop(['class_GALAXY', 'class_QSO', 'class_STAR'], axis=1), df_onehot[['class_GALAXY', 'class_QSO', 'class_STAR']]"
   ]
  },
  {
   "cell_type": "code",
   "execution_count": 62,
   "id": "62302ba9",
   "metadata": {},
   "outputs": [],
   "source": [
    "from sklearn.preprocessing import OrdinalEncoder"
   ]
  },
  {
   "cell_type": "code",
   "execution_count": 63,
   "id": "b26c8d65",
   "metadata": {},
   "outputs": [],
   "source": [
    "ord_encoder = OrdinalEncoder()"
   ]
  },
  {
   "cell_type": "code",
   "execution_count": 66,
   "id": "272f88cb",
   "metadata": {},
   "outputs": [],
   "source": [
    "ord_class = ord_encoder.fit_transform(df[['class']])\n",
    "df_ordinal = df.copy()\n",
    "df_ordinal['class'] = ord_class"
   ]
  },
  {
   "cell_type": "code",
   "execution_count": 69,
   "id": "3b3970f8",
   "metadata": {},
   "outputs": [],
   "source": [
    "X, y = df_ordinal.drop(['class'], axis=1), df_ordinal[['class']]"
   ]
  },
  {
   "cell_type": "code",
   "execution_count": 74,
   "id": "3c86f2ee",
   "metadata": {},
   "outputs": [
    {
     "data": {
      "text/plain": [
       "<seaborn.axisgrid.PairGrid at 0x2690a5f26d0>"
      ]
     },
     "execution_count": 74,
     "metadata": {},
     "output_type": "execute_result"
    },
    {
     "data": {
      "image/png": "[encoded data removed]",
      "text/plain": [
       "<Figure size 592x540 with 12 Axes>"
      ]
     },
     "metadata": {
      "needs_background": "light"
     },
     "output_type": "display_data"
    }
   ],
   "source": [
    "sns.pairplot(df_ordinal[['g','r','i']], hue='class')"
   ]
  },
  {
   "cell_type": "code",
   "execution_count": 77,
   "id": "bcd3d220",
   "metadata": {},
   "outputs": [
    {
     "data": {
      "text/html": [
       "<div>\n",
       "<style scoped>\n",
       "    .dataframe tbody tr th:only-of-type {\n",
       "        vertical-align: middle;\n",
       "    }\n",
       "\n",
       "    .dataframe tbody tr th {\n",
       "        vertical-align: top;\n",
       "    }\n",
       "\n",
       "    .dataframe thead th {\n",
       "        text-align: right;\n",
       "    }\n",
       "</style>\n",
       "<table border=\"1\" class=\"dataframe\">\n",
       "  <thead>\n",
       "    <tr style=\"text-align: right;\">\n",
       "      <th></th>\n",
       "      <th>alpha</th>\n",
       "      <th>delta</th>\n",
       "      <th>u</th>\n",
       "      <th>g</th>\n",
       "      <th>r</th>\n",
       "      <th>i</th>\n",
       "      <th>z</th>\n",
       "      <th>cam_col</th>\n",
       "      <th>spec_obj_ID</th>\n",
       "      <th>class</th>\n",
       "      <th>redshift</th>\n",
       "      <th>plate</th>\n",
       "      <th>MJD</th>\n",
       "    </tr>\n",
       "  </thead>\n",
       "  <tbody>\n",
       "    <tr>\n",
       "      <th>65600</th>\n",
       "      <td>5.823409</td>\n",
       "      <td>24.366678</td>\n",
       "      <td>21.24252</td>\n",
       "      <td>19.51915</td>\n",
       "      <td>18.11435</td>\n",
       "      <td>17.56784</td>\n",
       "      <td>17.24259</td>\n",
       "      <td>2</td>\n",
       "      <td>7.748638e+18</td>\n",
       "      <td>0.0</td>\n",
       "      <td>0.232722</td>\n",
       "      <td>6882</td>\n",
       "      <td>56541</td>\n",
       "    </tr>\n",
       "    <tr>\n",
       "      <th>71310</th>\n",
       "      <td>250.727050</td>\n",
       "      <td>41.169988</td>\n",
       "      <td>20.42188</td>\n",
       "      <td>20.06683</td>\n",
       "      <td>19.90781</td>\n",
       "      <td>19.74648</td>\n",
       "      <td>19.40810</td>\n",
       "      <td>3</td>\n",
       "      <td>6.798422e+18</td>\n",
       "      <td>1.0</td>\n",
       "      <td>2.015267</td>\n",
       "      <td>6038</td>\n",
       "      <td>56090</td>\n",
       "    </tr>\n",
       "    <tr>\n",
       "      <th>90705</th>\n",
       "      <td>207.850922</td>\n",
       "      <td>33.727707</td>\n",
       "      <td>19.59507</td>\n",
       "      <td>18.13398</td>\n",
       "      <td>17.10703</td>\n",
       "      <td>16.62787</td>\n",
       "      <td>16.23478</td>\n",
       "      <td>6</td>\n",
       "      <td>2.283327e+18</td>\n",
       "      <td>0.0</td>\n",
       "      <td>0.169430</td>\n",
       "      <td>2028</td>\n",
       "      <td>53818</td>\n",
       "    </tr>\n",
       "    <tr>\n",
       "      <th>59974</th>\n",
       "      <td>258.927887</td>\n",
       "      <td>42.245939</td>\n",
       "      <td>22.25059</td>\n",
       "      <td>22.15243</td>\n",
       "      <td>21.91589</td>\n",
       "      <td>21.84671</td>\n",
       "      <td>20.88146</td>\n",
       "      <td>4</td>\n",
       "      <td>9.621054e+18</td>\n",
       "      <td>0.0</td>\n",
       "      <td>1.148171</td>\n",
       "      <td>8545</td>\n",
       "      <td>58041</td>\n",
       "    </tr>\n",
       "    <tr>\n",
       "      <th>20353</th>\n",
       "      <td>207.497632</td>\n",
       "      <td>20.991962</td>\n",
       "      <td>22.58866</td>\n",
       "      <td>21.24674</td>\n",
       "      <td>20.76786</td>\n",
       "      <td>20.31376</td>\n",
       "      <td>20.10271</td>\n",
       "      <td>4</td>\n",
       "      <td>6.608018e+18</td>\n",
       "      <td>1.0</td>\n",
       "      <td>0.675840</td>\n",
       "      <td>5869</td>\n",
       "      <td>56064</td>\n",
       "    </tr>\n",
       "    <tr>\n",
       "      <th>...</th>\n",
       "      <td>...</td>\n",
       "      <td>...</td>\n",
       "      <td>...</td>\n",
       "      <td>...</td>\n",
       "      <td>...</td>\n",
       "      <td>...</td>\n",
       "      <td>...</td>\n",
       "      <td>...</td>\n",
       "      <td>...</td>\n",
       "      <td>...</td>\n",
       "      <td>...</td>\n",
       "      <td>...</td>\n",
       "      <td>...</td>\n",
       "    </tr>\n",
       "    <tr>\n",
       "      <th>53345</th>\n",
       "      <td>117.006358</td>\n",
       "      <td>43.701496</td>\n",
       "      <td>24.89946</td>\n",
       "      <td>22.84288</td>\n",
       "      <td>21.27801</td>\n",
       "      <td>20.04169</td>\n",
       "      <td>19.73627</td>\n",
       "      <td>5</td>\n",
       "      <td>4.131184e+18</td>\n",
       "      <td>0.0</td>\n",
       "      <td>0.513841</td>\n",
       "      <td>3669</td>\n",
       "      <td>55481</td>\n",
       "    </tr>\n",
       "    <tr>\n",
       "      <th>7064</th>\n",
       "      <td>235.658738</td>\n",
       "      <td>56.602478</td>\n",
       "      <td>22.17494</td>\n",
       "      <td>21.19855</td>\n",
       "      <td>21.02761</td>\n",
       "      <td>20.94403</td>\n",
       "      <td>20.69636</td>\n",
       "      <td>3</td>\n",
       "      <td>9.485757e+18</td>\n",
       "      <td>1.0</td>\n",
       "      <td>2.306137</td>\n",
       "      <td>8425</td>\n",
       "      <td>58226</td>\n",
       "    </tr>\n",
       "    <tr>\n",
       "      <th>43097</th>\n",
       "      <td>204.836333</td>\n",
       "      <td>0.770354</td>\n",
       "      <td>23.66083</td>\n",
       "      <td>22.58946</td>\n",
       "      <td>21.02837</td>\n",
       "      <td>20.14394</td>\n",
       "      <td>19.69193</td>\n",
       "      <td>2</td>\n",
       "      <td>4.550954e+18</td>\n",
       "      <td>0.0</td>\n",
       "      <td>0.579244</td>\n",
       "      <td>4042</td>\n",
       "      <td>55626</td>\n",
       "    </tr>\n",
       "    <tr>\n",
       "      <th>92619</th>\n",
       "      <td>193.030652</td>\n",
       "      <td>57.184690</td>\n",
       "      <td>23.82116</td>\n",
       "      <td>24.16526</td>\n",
       "      <td>22.63112</td>\n",
       "      <td>20.83712</td>\n",
       "      <td>19.72050</td>\n",
       "      <td>3</td>\n",
       "      <td>9.267546e+18</td>\n",
       "      <td>0.0</td>\n",
       "      <td>0.880556</td>\n",
       "      <td>8231</td>\n",
       "      <td>58199</td>\n",
       "    </tr>\n",
       "    <tr>\n",
       "      <th>31766</th>\n",
       "      <td>49.525926</td>\n",
       "      <td>-0.573687</td>\n",
       "      <td>20.40020</td>\n",
       "      <td>19.47552</td>\n",
       "      <td>18.88309</td>\n",
       "      <td>18.46117</td>\n",
       "      <td>18.29379</td>\n",
       "      <td>2</td>\n",
       "      <td>9.052758e+17</td>\n",
       "      <td>0.0</td>\n",
       "      <td>0.139333</td>\n",
       "      <td>804</td>\n",
       "      <td>52286</td>\n",
       "    </tr>\n",
       "  </tbody>\n",
       "</table>\n",
       "<p>10000 rows × 13 columns</p>\n",
       "</div>"
      ],
      "text/plain": [
       "            alpha      delta         u         g         r         i  \\\n",
       "65600    5.823409  24.366678  21.24252  19.51915  18.11435  17.56784   \n",
       "71310  250.727050  41.169988  20.42188  20.06683  19.90781  19.74648   \n",
       "90705  207.850922  33.727707  19.59507  18.13398  17.10703  16.62787   \n",
       "59974  258.927887  42.245939  22.25059  22.15243  21.91589  21.84671   \n",
       "20353  207.497632  20.991962  22.58866  21.24674  20.76786  20.31376   \n",
       "...           ...        ...       ...       ...       ...       ...   \n",
       "53345  117.006358  43.701496  24.89946  22.84288  21.27801  20.04169   \n",
       "7064   235.658738  56.602478  22.17494  21.19855  21.02761  20.94403   \n",
       "43097  204.836333   0.770354  23.66083  22.58946  21.02837  20.14394   \n",
       "92619  193.030652  57.184690  23.82116  24.16526  22.63112  20.83712   \n",
       "31766   49.525926  -0.573687  20.40020  19.47552  18.88309  18.46117   \n",
       "\n",
       "              z  cam_col   spec_obj_ID  class  redshift  plate    MJD  \n",
       "65600  17.24259        2  7.748638e+18    0.0  0.232722   6882  56541  \n",
       "71310  19.40810        3  6.798422e+18    1.0  2.015267   6038  56090  \n",
       "90705  16.23478        6  2.283327e+18    0.0  0.169430   2028  53818  \n",
       "59974  20.88146        4  9.621054e+18    0.0  1.148171   8545  58041  \n",
       "20353  20.10271        4  6.608018e+18    1.0  0.675840   5869  56064  \n",
       "...         ...      ...           ...    ...       ...    ...    ...  \n",
       "53345  19.73627        5  4.131184e+18    0.0  0.513841   3669  55481  \n",
       "7064   20.69636        3  9.485757e+18    1.0  2.306137   8425  58226  \n",
       "43097  19.69193        2  4.550954e+18    0.0  0.579244   4042  55626  \n",
       "92619  19.72050        3  9.267546e+18    0.0  0.880556   8231  58199  \n",
       "31766  18.29379        2  9.052758e+17    0.0  0.139333    804  52286  \n",
       "\n",
       "[10000 rows x 13 columns]"
      ]
     },
     "execution_count": 77,
     "metadata": {},
     "output_type": "execute_result"
    }
   ],
   "source": [
    "df_ordinal.sample(10000)"
   ]
  },
  {
   "cell_type": "code",
   "execution_count": 84,
   "id": "22e0e95b",
   "metadata": {
    "scrolled": false
   },
   "outputs": [
    {
     "data": {
      "image/png": "[encoded data removed]",
      "text/plain": [
       "<Figure size 432x288 with 1 Axes>"
      ]
     },
     "metadata": {
      "needs_background": "light"
     },
     "output_type": "display_data"
    },
    {
     "data": {
      "image/png": "[encoded data removed]",
      "text/plain": [
       "<Figure size 432x288 with 1 Axes>"
      ]
     },
     "metadata": {
      "needs_background": "light"
     },
     "output_type": "display_data"
    },
    {
     "data": {
      "image/png": "[encoded data removed]",
      "text/plain": [
       "<Figure size 432x288 with 1 Axes>"
      ]
     },
     "metadata": {
      "needs_background": "light"
     },
     "output_type": "display_data"
    },
    {
     "data": {
      "image/png": "[encoded data removed]",
      "text/plain": [
       "<Figure size 432x288 with 1 Axes>"
      ]
     },
     "metadata": {
      "needs_background": "light"
     },
     "output_type": "display_data"
    },
    {
     "data": {
      "image/png": "[encoded data removed]",
      "text/plain": [
       "<Figure size 432x288 with 1 Axes>"
      ]
     },
     "metadata": {
      "needs_background": "light"
     },
     "output_type": "display_data"
    },
    {
     "data": {
      "image/png": "[encoded data removed]",
      "text/plain": [
       "<Figure size 432x288 with 1 Axes>"
      ]
     },
     "metadata": {
      "needs_background": "light"
     },
     "output_type": "display_data"
    },
    {
     "data": {
      "image/png": "[encoded data removed]",
      "text/plain": [
       "<Figure size 432x288 with 1 Axes>"
      ]
     },
     "metadata": {
      "needs_background": "light"
     },
     "output_type": "display_data"
    },
    {
     "data": {
      "image/png": "[encoded data removed]",
      "text/plain": [
       "<Figure size 432x288 with 1 Axes>"
      ]
     },
     "metadata": {
      "needs_background": "light"
     },
     "output_type": "display_data"
    },
    {
     "data": {
      "image/png": "[encoded data removed]",
      "text/plain": [
       "<Figure size 432x288 with 1 Axes>"
      ]
     },
     "metadata": {
      "needs_background": "light"
     },
     "output_type": "display_data"
    },
    {
     "data": {
      "image/png": "[encoded data removed]",
      "text/plain": [
       "<Figure size 432x288 with 1 Axes>"
      ]
     },
     "metadata": {
      "needs_background": "light"
     },
     "output_type": "display_data"
    },
    {
     "data": {
      "image/png": "[encoded data removed]",
      "text/plain": [
       "<Figure size 432x288 with 1 Axes>"
      ]
     },
     "metadata": {
      "needs_background": "light"
     },
     "output_type": "display_data"
    },
    {
     "data": {
      "image/png": "[encoded data removed]",
      "text/plain": [
       "<Figure size 432x288 with 1 Axes>"
      ]
     },
     "metadata": {
      "needs_background": "light"
     },
     "output_type": "display_data"
    },
    {
     "data": {
      "image/png": "[encoded data removed]",
      "text/plain": [
       "<Figure size 432x288 with 1 Axes>"
      ]
     },
     "metadata": {
      "needs_background": "light"
     },
     "output_type": "display_data"
    }
   ],
   "source": [
    "for col in df_ordinal.columns:\n",
    "    plt.figure()\n",
    "    plt.title(col)\n",
    "    df_ordinal[col].plot(kind='hist')"
   ]
  },
  {
   "cell_type": "code",
   "execution_count": 3,
   "id": "9e316e58",
   "metadata": {},
   "outputs": [
    {
     "data": {
      "application/vnd.plotly.v1+json": {
       "config": {
        "plotlyServerURL": "https://plot.ly"
       },
       "data": [
        {
         "alignmentgroup": "True",
         "hovertemplate": "variable=alpha<br>class=%{x}<br>value=%{y}<extra></extra>",
         "legendgroup": "alpha",
         "marker": {
          "color": "#636efa",
          "pattern": {
           "shape": ""
          }
         },
         "name": "alpha",
         "offsetgroup": "alpha",
         "orientation": "v",
         "showlegend": true,
         "textposition": "auto",
         "type": "bar",
         "x": [
          "GALAXY",
          "QSO",
          "STAR"
         ],
         "xaxis": "x",
         "y": [
          177.9547265541623,
          180.4743144505685,
          174.23448485015368
         ],
         "yaxis": "y"
        },
        {
         "alignmentgroup": "True",
         "hovertemplate": "variable=delta<br>class=%{x}<br>value=%{y}<extra></extra>",
         "legendgroup": "delta",
         "marker": {
          "color": "#EF553B",
          "pattern": {
           "shape": ""
          }
         },
         "name": "delta",
         "offsetgroup": "delta",
         "orientation": "v",
         "showlegend": true,
         "textposition": "auto",
         "type": "bar",
         "x": [
          "GALAXY",
          "QSO",
          "STAR"
         ],
         "xaxis": "x",
         "y": [
          23.513910605874596,
          26.808621332117472,
          23.49855397289674
         ],
         "yaxis": "y"
        },
        {
         "alignmentgroup": "True",
         "hovertemplate": "variable=u<br>class=%{x}<br>value=%{y}<extra></extra>",
         "legendgroup": "u",
         "marker": {
          "color": "#00cc96",
          "pattern": {
           "shape": ""
          }
         },
         "name": "u",
         "offsetgroup": "u",
         "orientation": "v",
         "showlegend": true,
         "textposition": "auto",
         "type": "bar",
         "x": [
          "GALAXY",
          "QSO",
          "STAR"
         ],
         "xaxis": "x",
         "y": [
          22.587379290268313,
          21.547619273245083,
          20.689805313976105
         ],
         "yaxis": "y"
        },
        {
         "alignmentgroup": "True",
         "hovertemplate": "variable=g<br>class=%{x}<br>value=%{y}<extra></extra>",
         "legendgroup": "g",
         "marker": {
          "color": "#ab63fa",
          "pattern": {
           "shape": ""
          }
         },
         "name": "g",
         "offsetgroup": "g",
         "orientation": "v",
         "showlegend": true,
         "textposition": "auto",
         "type": "bar",
         "x": [
          "GALAXY",
          "QSO",
          "STAR"
         ],
         "xaxis": "x",
         "y": [
          20.906101454453697,
          20.926192992458205,
          19.153188379642494
         ],
         "yaxis": "y"
        },
        {
         "alignmentgroup": "True",
         "hovertemplate": "variable=r<br>class=%{x}<br>value=%{y}<extra></extra>",
         "legendgroup": "r",
         "marker": {
          "color": "#FFA15A",
          "pattern": {
           "shape": ""
          }
         },
         "name": "r",
         "offsetgroup": "r",
         "orientation": "v",
         "showlegend": true,
         "textposition": "auto",
         "type": "bar",
         "x": [
          "GALAXY",
          "QSO",
          "STAR"
         ],
         "xaxis": "x",
         "y": [
          19.58755174648835,
          20.624089024313065,
          18.94696902102436
         ],
         "yaxis": "y"
        },
        {
         "alignmentgroup": "True",
         "hovertemplate": "variable=i<br>class=%{x}<br>value=%{y}<extra></extra>",
         "legendgroup": "i",
         "marker": {
          "color": "#19d3f3",
          "pattern": {
           "shape": ""
          }
         },
         "name": "i",
         "offsetgroup": "i",
         "orientation": "v",
         "showlegend": true,
         "textposition": "auto",
         "type": "bar",
         "x": [
          "GALAXY",
          "QSO",
          "STAR"
         ],
         "xaxis": "x",
         "y": [
          18.85198969332997,
          20.431172771478295,
          18.543735711910717
         ],
         "yaxis": "y"
        },
        {
         "alignmentgroup": "True",
         "hovertemplate": "variable=z<br>class=%{x}<br>value=%{y}<extra></extra>",
         "legendgroup": "z",
         "marker": {
          "color": "#FF6692",
          "pattern": {
           "shape": ""
          }
         },
         "name": "z",
         "offsetgroup": "z",
         "orientation": "v",
         "showlegend": true,
         "textposition": "auto",
         "type": "bar",
         "x": [
          "GALAXY",
          "QSO",
          "STAR"
         ],
         "xaxis": "x",
         "y": [
          18.44915649861216,
          20.266731590633405,
          17.870400410901176
         ],
         "yaxis": "y"
        },
        {
         "alignmentgroup": "True",
         "hovertemplate": "variable=redshift<br>class=%{x}<br>value=%{y}<extra></extra>",
         "legendgroup": "redshift",
         "marker": {
          "color": "#B6E880",
          "pattern": {
           "shape": ""
          }
         },
         "name": "redshift",
         "offsetgroup": "redshift",
         "orientation": "v",
         "showlegend": true,
         "textposition": "auto",
         "type": "bar",
         "x": [
          "GALAXY",
          "QSO",
          "STAR"
         ],
         "xaxis": "x",
         "y": [
          0.42159615044475307,
          1.7196760892911345,
          -0.00011489720327557516
         ],
         "yaxis": "y"
        },
        {
         "alignmentgroup": "True",
         "hovertemplate": "variable=MJD<br>class=%{x}<br>value=%{y}<extra></extra>",
         "legendgroup": "MJD",
         "marker": {
          "color": "#FF97FF",
          "pattern": {
           "shape": ""
          }
         },
         "name": "MJD",
         "offsetgroup": "MJD",
         "orientation": "v",
         "showlegend": true,
         "textposition": "auto",
         "type": "bar",
         "x": [
          "GALAXY",
          "QSO",
          "STAR"
         ],
         "xaxis": "x",
         "y": [
          55423.463605013036,
          56627.54717578187,
          55131.14911549504
         ],
         "yaxis": "y"
        }
       ],
       "layout": {
        "barmode": "group",
        "legend": {
         "title": {
          "text": "variable"
         },
         "tracegroupgap": 0
        },
        "margin": {
         "t": 60
        },
        "template": {
         "data": {
          "bar": [
           {
            "error_x": {
             "color": "#2a3f5f"
            },
            "error_y": {
             "color": "#2a3f5f"
            },
            "marker": {
             "line": {
              "color": "#E5ECF6",
              "width": 0.5
             },
             "pattern": {
              "fillmode": "overlay",
              "size": 10,
              "solidity": 0.2
             }
            },
            "type": "bar"
           }
          ],
          "barpolar": [
           {
            "marker": {
             "line": {
              "color": "#E5ECF6",
              "width": 0.5
             },
             "pattern": {
              "fillmode": "overlay",
              "size": 10,
              "solidity": 0.2
             }
            },
            "type": "barpolar"
           }
          ],
          "carpet": [
           {
            "aaxis": {
             "endlinecolor": "#2a3f5f",
             "gridcolor": "white",
             "linecolor": "white",
             "minorgridcolor": "white",
             "startlinecolor": "#2a3f5f"
            },
            "baxis": {
             "endlinecolor": "#2a3f5f",
             "gridcolor": "white",
             "linecolor": "white",
             "minorgridcolor": "white",
             "startlinecolor": "#2a3f5f"
            },
            "type": "carpet"
           }
          ],
          "choropleth": [
           {
            "colorbar": {
             "outlinewidth": 0,
             "ticks": ""
            },
            "type": "choropleth"
           }
          ],
          "contour": [
           {
            "colorbar": {
             "outlinewidth": 0,
             "ticks": ""
            },
            "colorscale": [
             [
              0,
              "#0d0887"
             ],
             [
              0.1111111111111111,
              "#46039f"
             ],
             [
              0.2222222222222222,
              "#7201a8"
             ],
             [
              0.3333333333333333,
              "#9c179e"
             ],
             [
              0.4444444444444444,
              "#bd3786"
             ],
             [
              0.5555555555555556,
              "#d8576b"
             ],
             [
              0.6666666666666666,
              "#ed7953"
             ],
             [
              0.7777777777777778,
              "#fb9f3a"
             ],
             [
              0.8888888888888888,
              "#fdca26"
             ],
             [
              1,
              "#f0f921"
             ]
            ],
            "type": "contour"
           }
          ],
          "contourcarpet": [
           {
            "colorbar": {
             "outlinewidth": 0,
             "ticks": ""
            },
            "type": "contourcarpet"
           }
          ],
          "heatmap": [
           {
            "colorbar": {
             "outlinewidth": 0,
             "ticks": ""
            },
            "colorscale": [
             [
              0,
              "#0d0887"
             ],
             [
              0.1111111111111111,
              "#46039f"
             ],
             [
              0.2222222222222222,
              "#7201a8"
             ],
             [
              0.3333333333333333,
              "#9c179e"
             ],
             [
              0.4444444444444444,
              "#bd3786"
             ],
             [
              0.5555555555555556,
              "#d8576b"
             ],
             [
              0.6666666666666666,
              "#ed7953"
             ],
             [
              0.7777777777777778,
              "#fb9f3a"
             ],
             [
              0.8888888888888888,
              "#fdca26"
             ],
             [
              1,
              "#f0f921"
             ]
            ],
            "type": "heatmap"
           }
          ],
          "heatmapgl": [
           {
            "colorbar": {
             "outlinewidth": 0,
             "ticks": ""
            },
            "colorscale": [
             [
              0,
              "#0d0887"
             ],
             [
              0.1111111111111111,
              "#46039f"
             ],
             [
              0.2222222222222222,
              "#7201a8"
             ],
             [
              0.3333333333333333,
              "#9c179e"
             ],
             [
              0.4444444444444444,
              "#bd3786"
             ],
             [
              0.5555555555555556,
              "#d8576b"
             ],
             [
              0.6666666666666666,
              "#ed7953"
             ],
             [
              0.7777777777777778,
              "#fb9f3a"
             ],
             [
              0.8888888888888888,
              "#fdca26"
             ],
             [
              1,
              "#f0f921"
             ]
            ],
            "type": "heatmapgl"
           }
          ],
          "histogram": [
           {
            "marker": {
             "pattern": {
              "fillmode": "overlay",
              "size": 10,
              "solidity": 0.2
             }
            },
            "type": "histogram"
           }
          ],
          "histogram2d": [
           {
            "colorbar": {
             "outlinewidth": 0,
             "ticks": ""
            },
            "colorscale": [
             [
              0,
              "#0d0887"
             ],
             [
              0.1111111111111111,
              "#46039f"
             ],
             [
              0.2222222222222222,
              "#7201a8"
             ],
             [
              0.3333333333333333,
              "#9c179e"
             ],
             [
              0.4444444444444444,
              "#bd3786"
             ],
             [
              0.5555555555555556,
              "#d8576b"
             ],
             [
              0.6666666666666666,
              "#ed7953"
             ],
             [
              0.7777777777777778,
              "#fb9f3a"
             ],
             [
              0.8888888888888888,
              "#fdca26"
             ],
             [
              1,
              "#f0f921"
             ]
            ],
            "type": "histogram2d"
           }
          ],
          "histogram2dcontour": [
           {
            "colorbar": {
             "outlinewidth": 0,
             "ticks": ""
            },
            "colorscale": [
             [
              0,
              "#0d0887"
             ],
             [
              0.1111111111111111,
              "#46039f"
             ],
             [
              0.2222222222222222,
              "#7201a8"
             ],
             [
              0.3333333333333333,
              "#9c179e"
             ],
             [
              0.4444444444444444,
              "#bd3786"
             ],
             [
              0.5555555555555556,
              "#d8576b"
             ],
             [
              0.6666666666666666,
              "#ed7953"
             ],
             [
              0.7777777777777778,
              "#fb9f3a"
             ],
             [
              0.8888888888888888,
              "#fdca26"
             ],
             [
              1,
              "#f0f921"
             ]
            ],
            "type": "histogram2dcontour"
           }
          ],
          "mesh3d": [
           {
            "colorbar": {
             "outlinewidth": 0,
             "ticks": ""
            },
            "type": "mesh3d"
           }
          ],
          "parcoords": [
           {
            "line": {
             "colorbar": {
              "outlinewidth": 0,
              "ticks": ""
             }
            },
            "type": "parcoords"
           }
          ],
          "pie": [
           {
            "automargin": true,
            "type": "pie"
           }
          ],
          "scatter": [
           {
            "fillpattern": {
             "fillmode": "overlay",
             "size": 10,
             "solidity": 0.2
            },
            "type": "scatter"
           }
          ],
          "scatter3d": [
           {
            "line": {
             "colorbar": {
              "outlinewidth": 0,
              "ticks": ""
             }
            },
            "marker": {
             "colorbar": {
              "outlinewidth": 0,
              "ticks": ""
             }
            },
            "type": "scatter3d"
           }
          ],
          "scattercarpet": [
           {
            "marker": {
             "colorbar": {
              "outlinewidth": 0,
              "ticks": ""
             }
            },
            "type": "scattercarpet"
           }
          ],
          "scattergeo": [
           {
            "marker": {
             "colorbar": {
              "outlinewidth": 0,
              "ticks": ""
             }
            },
            "type": "scattergeo"
           }
          ],
          "scattergl": [
           {
            "marker": {
             "colorbar": {
              "outlinewidth": 0,
              "ticks": ""
             }
            },
            "type": "scattergl"
           }
          ],
          "scattermapbox": [
           {
            "marker": {
             "colorbar": {
              "outlinewidth": 0,
              "ticks": ""
             }
            },
            "type": "scattermapbox"
           }
          ],
          "scatterpolar": [
           {
            "marker": {
             "colorbar": {
              "outlinewidth": 0,
              "ticks": ""
             }
            },
            "type": "scatterpolar"
           }
          ],
          "scatterpolargl": [
           {
            "marker": {
             "colorbar": {
              "outlinewidth": 0,
              "ticks": ""
             }
            },
            "type": "scatterpolargl"
           }
          ],
          "scatterternary": [
           {
            "marker": {
             "colorbar": {
              "outlinewidth": 0,
              "ticks": ""
             }
            },
            "type": "scatterternary"
           }
          ],
          "surface": [
           {
            "colorbar": {
             "outlinewidth": 0,
             "ticks": ""
            },
            "colorscale": [
             [
              0,
              "#0d0887"
             ],
             [
              0.1111111111111111,
              "#46039f"
             ],
             [
              0.2222222222222222,
              "#7201a8"
             ],
             [
              0.3333333333333333,
              "#9c179e"
             ],
             [
              0.4444444444444444,
              "#bd3786"
             ],
             [
              0.5555555555555556,
              "#d8576b"
             ],
             [
              0.6666666666666666,
              "#ed7953"
             ],
             [
              0.7777777777777778,
              "#fb9f3a"
             ],
             [
              0.8888888888888888,
              "#fdca26"
             ],
             [
              1,
              "#f0f921"
             ]
            ],
            "type": "surface"
           }
          ],
          "table": [
           {
            "cells": {
             "fill": {
              "color": "#EBF0F8"
             },
             "line": {
              "color": "white"
             }
            },
            "header": {
             "fill": {
              "color": "#C8D4E3"
             },
             "line": {
              "color": "white"
             }
            },
            "type": "table"
           }
          ]
         },
         "layout": {
          "annotationdefaults": {
           "arrowcolor": "#2a3f5f",
           "arrowhead": 0,
           "arrowwidth": 1
          },
          "autotypenumbers": "strict",
          "coloraxis": {
           "colorbar": {
            "outlinewidth": 0,
            "ticks": ""
           }
          },
          "colorscale": {
           "diverging": [
            [
             0,
             "#8e0152"
            ],
            [
             0.1,
             "#c51b7d"
            ],
            [
             0.2,
             "#de77ae"
            ],
            [
             0.3,
             "#f1b6da"
            ],
            [
             0.4,
             "#fde0ef"
            ],
            [
             0.5,
             "#f7f7f7"
            ],
            [
             0.6,
             "#e6f5d0"
            ],
            [
             0.7,
             "#b8e186"
            ],
            [
             0.8,
             "#7fbc41"
            ],
            [
             0.9,
             "#4d9221"
            ],
            [
             1,
             "#276419"
            ]
           ],
           "sequential": [
            [
             0,
             "#0d0887"
            ],
            [
             0.1111111111111111,
             "#46039f"
            ],
            [
             0.2222222222222222,
             "#7201a8"
            ],
            [
             0.3333333333333333,
             "#9c179e"
            ],
            [
             0.4444444444444444,
             "#bd3786"
            ],
            [
             0.5555555555555556,
             "#d8576b"
            ],
            [
             0.6666666666666666,
             "#ed7953"
            ],
            [
             0.7777777777777778,
             "#fb9f3a"
            ],
            [
             0.8888888888888888,
             "#fdca26"
            ],
            [
             1,
             "#f0f921"
            ]
           ],
           "sequentialminus": [
            [
             0,
             "#0d0887"
            ],
            [
             0.1111111111111111,
             "#46039f"
            ],
            [
             0.2222222222222222,
             "#7201a8"
            ],
            [
             0.3333333333333333,
             "#9c179e"
            ],
            [
             0.4444444444444444,
             "#bd3786"
            ],
            [
             0.5555555555555556,
             "#d8576b"
            ],
            [
             0.6666666666666666,
             "#ed7953"
            ],
            [
             0.7777777777777778,
             "#fb9f3a"
            ],
            [
             0.8888888888888888,
             "#fdca26"
            ],
            [
             1,
             "#f0f921"
            ]
           ]
          },
          "colorway": [
           "#636efa",
           "#EF553B",
           "#00cc96",
           "#ab63fa",
           "#FFA15A",
           "#19d3f3",
           "#FF6692",
           "#B6E880",
           "#FF97FF",
           "#FECB52"
          ],
          "font": {
           "color": "#2a3f5f"
          },
          "geo": {
           "bgcolor": "white",
           "lakecolor": "white",
           "landcolor": "#E5ECF6",
           "showlakes": true,
           "showland": true,
           "subunitcolor": "white"
          },
          "hoverlabel": {
           "align": "left"
          },
          "hovermode": "closest",
          "mapbox": {
           "style": "light"
          },
          "paper_bgcolor": "white",
          "plot_bgcolor": "#E5ECF6",
          "polar": {
           "angularaxis": {
            "gridcolor": "white",
            "linecolor": "white",
            "ticks": ""
           },
           "bgcolor": "#E5ECF6",
           "radialaxis": {
            "gridcolor": "white",
            "linecolor": "white",
            "ticks": ""
           }
          },
          "scene": {
           "xaxis": {
            "backgroundcolor": "#E5ECF6",
            "gridcolor": "white",
            "gridwidth": 2,
            "linecolor": "white",
            "showbackground": true,
            "ticks": "",
            "zerolinecolor": "white"
           },
           "yaxis": {
            "backgroundcolor": "#E5ECF6",
            "gridcolor": "white",
            "gridwidth": 2,
            "linecolor": "white",
            "showbackground": true,
            "ticks": "",
            "zerolinecolor": "white"
           },
           "zaxis": {
            "backgroundcolor": "#E5ECF6",
            "gridcolor": "white",
            "gridwidth": 2,
            "linecolor": "white",
            "showbackground": true,
            "ticks": "",
            "zerolinecolor": "white"
           }
          },
          "shapedefaults": {
           "line": {
            "color": "#2a3f5f"
           }
          },
          "ternary": {
           "aaxis": {
            "gridcolor": "white",
            "linecolor": "white",
            "ticks": ""
           },
           "baxis": {
            "gridcolor": "white",
            "linecolor": "white",
            "ticks": ""
           },
           "bgcolor": "#E5ECF6",
           "caxis": {
            "gridcolor": "white",
            "linecolor": "white",
            "ticks": ""
           }
          },
          "title": {
           "x": 0.05
          },
          "xaxis": {
           "automargin": true,
           "gridcolor": "white",
           "linecolor": "white",
           "ticks": "",
           "title": {
            "standoff": 15
           },
           "zerolinecolor": "white",
           "zerolinewidth": 2
          },
          "yaxis": {
           "automargin": true,
           "gridcolor": "white",
           "linecolor": "white",
           "ticks": "",
           "title": {
            "standoff": 15
           },
           "zerolinecolor": "white",
           "zerolinewidth": 2
          }
         }
        },
        "title": {
         "text": "ATRIBUTO MÉDIO POR FEATURE"
        },
        "xaxis": {
         "anchor": "y",
         "domain": [
          0,
          1
         ],
         "title": {
          "text": "class"
         }
        },
        "yaxis": {
         "anchor": "x",
         "domain": [
          0,
          1
         ],
         "title": {
          "text": "value"
         }
        }
       }
      }
     },
     "metadata": {},
     "output_type": "display_data"
    }
   ],
   "source": [
    "features_plot = df.groupby('class').mean()\n",
    "\n",
    "fig = px.bar(features_plot, x=features_plot.index, y=['alpha', 'delta', 'u', 'g', 'r', 'i', 'z', 'redshift', 'MJD'], barmode='group')\n",
    "fig.update_layout(\n",
    "    title = 'ATRIBUTO MÉDIO POR FEATURE'\n",
    ")\n",
    "fig.show()"
   ]
  },
  {
   "cell_type": "code",
   "execution_count": null,
   "id": "c171e6b4",
   "metadata": {},
   "outputs": [],
   "source": []
  }
 ],
 "metadata": {
  "kernelspec": {
   "display_name": "Python 3.9.7 64-bit",
   "language": "python",
   "name": "python3"
  },
  "language_info": {
   "codemirror_mode": {
    "name": "ipython",
    "version": 3
   },
   "file_extension": ".py",
   "mimetype": "text/x-python",
   "name": "python",
   "nbconvert_exporter": "python",
   "pygments_lexer": "ipython3",
   "version": "3.9.7"
  },
  "vscode": {
   "interpreter": {
    "hash": "974c76ea0e2fcf3d11e2bbbee12a65c19e0510e27c4abcf49a2c5853615ff2ff"
   }
  }
 },
 "nbformat": 4,
 "nbformat_minor": 5
}
