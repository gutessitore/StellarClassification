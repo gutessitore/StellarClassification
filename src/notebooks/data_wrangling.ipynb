{
 "cells": [
  {
   "cell_type": "code",
   "execution_count": 2,
   "outputs": [],
   "source": [
    "import pandas as pd"
   ],
   "metadata": {
    "collapsed": false,
    "pycharm": {
     "name": "#%%\n"
    }
   }
  },
  {
   "cell_type": "code",
   "execution_count": 4,
   "outputs": [
    {
     "data": {
      "text/plain": "         obj_ID       alpha      delta         u         g         r  \\\n0  1.237661e+18  135.689107  32.494632  23.87882  22.27530  20.39501   \n1  1.237665e+18  144.826101  31.274185  24.77759  22.83188  22.58444   \n2  1.237661e+18  142.188790  35.582444  25.26307  22.66389  20.60976   \n3  1.237663e+18  338.741038  -0.402828  22.13682  23.77656  21.61162   \n4  1.237680e+18  345.282593  21.183866  19.43718  17.58028  16.49747   \n\n          i         z  run_ID  rerun_ID  cam_col  field_ID   spec_obj_ID  \\\n0  19.16573  18.79371    3606       301        2        79  6.543777e+18   \n1  21.16812  21.61427    4518       301        5       119  1.176014e+19   \n2  19.34857  18.94827    3606       301        2       120  5.152200e+18   \n3  20.50454  19.25010    4192       301        3       214  1.030107e+19   \n4  15.97711  15.54461    8102       301        3       137  6.891865e+18   \n\n    class  redshift  plate    MJD  fiber_ID  \n0  GALAXY  0.634794   5812  56354       171  \n1  GALAXY  0.779136  10445  58158       427  \n2  GALAXY  0.644195   4576  55592       299  \n3  GALAXY  0.932346   9149  58039       775  \n4  GALAXY  0.116123   6121  56187       842  ",
      "text/html": "<div>\n<style scoped>\n    .dataframe tbody tr th:only-of-type {\n        vertical-align: middle;\n    }\n\n    .dataframe tbody tr th {\n        vertical-align: top;\n    }\n\n    .dataframe thead th {\n        text-align: right;\n    }\n</style>\n<table border=\"1\" class=\"dataframe\">\n  <thead>\n    <tr style=\"text-align: right;\">\n      <th></th>\n      <th>obj_ID</th>\n      <th>alpha</th>\n      <th>delta</th>\n      <th>u</th>\n      <th>g</th>\n      <th>r</th>\n      <th>i</th>\n      <th>z</th>\n      <th>run_ID</th>\n      <th>rerun_ID</th>\n      <th>cam_col</th>\n      <th>field_ID</th>\n      <th>spec_obj_ID</th>\n      <th>class</th>\n      <th>redshift</th>\n      <th>plate</th>\n      <th>MJD</th>\n      <th>fiber_ID</th>\n    </tr>\n  </thead>\n  <tbody>\n    <tr>\n      <th>0</th>\n      <td>1.237661e+18</td>\n      <td>135.689107</td>\n      <td>32.494632</td>\n      <td>23.87882</td>\n      <td>22.27530</td>\n      <td>20.39501</td>\n      <td>19.16573</td>\n      <td>18.79371</td>\n      <td>3606</td>\n      <td>301</td>\n      <td>2</td>\n      <td>79</td>\n      <td>6.543777e+18</td>\n      <td>GALAXY</td>\n      <td>0.634794</td>\n      <td>5812</td>\n      <td>56354</td>\n      <td>171</td>\n    </tr>\n    <tr>\n      <th>1</th>\n      <td>1.237665e+18</td>\n      <td>144.826101</td>\n      <td>31.274185</td>\n      <td>24.77759</td>\n      <td>22.83188</td>\n      <td>22.58444</td>\n      <td>21.16812</td>\n      <td>21.61427</td>\n      <td>4518</td>\n      <td>301</td>\n      <td>5</td>\n      <td>119</td>\n      <td>1.176014e+19</td>\n      <td>GALAXY</td>\n      <td>0.779136</td>\n      <td>10445</td>\n      <td>58158</td>\n      <td>427</td>\n    </tr>\n    <tr>\n      <th>2</th>\n      <td>1.237661e+18</td>\n      <td>142.188790</td>\n      <td>35.582444</td>\n      <td>25.26307</td>\n      <td>22.66389</td>\n      <td>20.60976</td>\n      <td>19.34857</td>\n      <td>18.94827</td>\n      <td>3606</td>\n      <td>301</td>\n      <td>2</td>\n      <td>120</td>\n      <td>5.152200e+18</td>\n      <td>GALAXY</td>\n      <td>0.644195</td>\n      <td>4576</td>\n      <td>55592</td>\n      <td>299</td>\n    </tr>\n    <tr>\n      <th>3</th>\n      <td>1.237663e+18</td>\n      <td>338.741038</td>\n      <td>-0.402828</td>\n      <td>22.13682</td>\n      <td>23.77656</td>\n      <td>21.61162</td>\n      <td>20.50454</td>\n      <td>19.25010</td>\n      <td>4192</td>\n      <td>301</td>\n      <td>3</td>\n      <td>214</td>\n      <td>1.030107e+19</td>\n      <td>GALAXY</td>\n      <td>0.932346</td>\n      <td>9149</td>\n      <td>58039</td>\n      <td>775</td>\n    </tr>\n    <tr>\n      <th>4</th>\n      <td>1.237680e+18</td>\n      <td>345.282593</td>\n      <td>21.183866</td>\n      <td>19.43718</td>\n      <td>17.58028</td>\n      <td>16.49747</td>\n      <td>15.97711</td>\n      <td>15.54461</td>\n      <td>8102</td>\n      <td>301</td>\n      <td>3</td>\n      <td>137</td>\n      <td>6.891865e+18</td>\n      <td>GALAXY</td>\n      <td>0.116123</td>\n      <td>6121</td>\n      <td>56187</td>\n      <td>842</td>\n    </tr>\n  </tbody>\n</table>\n</div>"
     },
     "execution_count": 4,
     "metadata": {},
     "output_type": "execute_result"
    }
   ],
   "source": [
    "# https://www.kaggle.com/datasets/fedesoriano/stellar-classification-dataset-sdss17\n",
    "stellar_data_path = \"/home/gustavo/Desktop/StellarClassification/data/star_classification.csv\"\n",
    "raw_data = pd.read_csv(stellar_data_path)\n",
    "raw_data.head()"
   ],
   "metadata": {
    "collapsed": false,
    "pycharm": {
     "name": "#%%\n"
    }
   }
  },
  {
   "cell_type": "code",
   "execution_count": 9,
   "outputs": [
    {
     "name": "stdout",
     "output_type": "stream",
     "text": [
      "Number of null values: 0\n",
      "Number of rows: 100000\n"
     ]
    },
    {
     "data": {
      "text/plain": "                count          mean           std           min           25%  \\\nobj_ID       100000.0  1.237665e+18  8.438560e+12  1.237646e+18  1.237659e+18   \nalpha        100000.0  1.776291e+02  9.650224e+01  5.527828e-03  1.275182e+02   \ndelta        100000.0  2.413530e+01  1.964467e+01 -1.878533e+01  5.146771e+00   \nu            100000.0  2.198047e+01  3.176929e+01 -9.999000e+03  2.035235e+01   \ng            100000.0  2.053139e+01  3.175029e+01 -9.999000e+03  1.896523e+01   \nr            100000.0  1.964576e+01  1.854760e+00  9.822070e+00  1.813583e+01   \ni            100000.0  1.908485e+01  1.757895e+00  9.469903e+00  1.773228e+01   \nz            100000.0  1.866881e+01  3.172815e+01 -9.999000e+03  1.746068e+01   \nrun_ID       100000.0  4.481366e+03  1.964765e+03  1.090000e+02  3.187000e+03   \nrerun_ID     100000.0  3.010000e+02  0.000000e+00  3.010000e+02  3.010000e+02   \ncam_col      100000.0  3.511610e+00  1.586912e+00  1.000000e+00  2.000000e+00   \nfield_ID     100000.0  1.861305e+02  1.490111e+02  1.100000e+01  8.200000e+01   \nspec_obj_ID  100000.0  5.783882e+18  3.324016e+18  2.995191e+17  2.844138e+18   \nredshift     100000.0  5.766608e-01  7.307073e-01 -9.970667e-03  5.451684e-02   \nplate        100000.0  5.137010e+03  2.952303e+03  2.660000e+02  2.526000e+03   \nMJD          100000.0  5.558865e+04  1.808484e+03  5.160800e+04  5.423400e+04   \nfiber_ID     100000.0  4.493127e+02  2.724984e+02  1.000000e+00  2.210000e+02   \n\n                      50%           75%           max  \nobj_ID       1.237663e+18  1.237668e+18  1.237681e+18  \nalpha        1.809007e+02  2.338950e+02  3.599998e+02  \ndelta        2.364592e+01  3.990155e+01  8.300052e+01  \nu            2.217914e+01  2.368744e+01  3.278139e+01  \ng            2.109983e+01  2.212377e+01  3.160224e+01  \nr            2.012529e+01  2.104478e+01  2.957186e+01  \ni            1.940514e+01  2.039650e+01  3.214147e+01  \nz            1.900460e+01  1.992112e+01  2.938374e+01  \nrun_ID       4.188000e+03  5.326000e+03  8.162000e+03  \nrerun_ID     3.010000e+02  3.010000e+02  3.010000e+02  \ncam_col      4.000000e+00  5.000000e+00  6.000000e+00  \nfield_ID     1.460000e+02  2.410000e+02  9.890000e+02  \nspec_obj_ID  5.614883e+18  8.332144e+18  1.412694e+19  \nredshift     4.241733e-01  7.041543e-01  7.011245e+00  \nplate        4.987000e+03  7.400250e+03  1.254700e+04  \nMJD          5.586850e+04  5.677700e+04  5.893200e+04  \nfiber_ID     4.330000e+02  6.450000e+02  1.000000e+03  ",
      "text/html": "<div>\n<style scoped>\n    .dataframe tbody tr th:only-of-type {\n        vertical-align: middle;\n    }\n\n    .dataframe tbody tr th {\n        vertical-align: top;\n    }\n\n    .dataframe thead th {\n        text-align: right;\n    }\n</style>\n<table border=\"1\" class=\"dataframe\">\n  <thead>\n    <tr style=\"text-align: right;\">\n      <th></th>\n      <th>count</th>\n      <th>mean</th>\n      <th>std</th>\n      <th>min</th>\n      <th>25%</th>\n      <th>50%</th>\n      <th>75%</th>\n      <th>max</th>\n    </tr>\n  </thead>\n  <tbody>\n    <tr>\n      <th>obj_ID</th>\n      <td>100000.0</td>\n      <td>1.237665e+18</td>\n      <td>8.438560e+12</td>\n      <td>1.237646e+18</td>\n      <td>1.237659e+18</td>\n      <td>1.237663e+18</td>\n      <td>1.237668e+18</td>\n      <td>1.237681e+18</td>\n    </tr>\n    <tr>\n      <th>alpha</th>\n      <td>100000.0</td>\n      <td>1.776291e+02</td>\n      <td>9.650224e+01</td>\n      <td>5.527828e-03</td>\n      <td>1.275182e+02</td>\n      <td>1.809007e+02</td>\n      <td>2.338950e+02</td>\n      <td>3.599998e+02</td>\n    </tr>\n    <tr>\n      <th>delta</th>\n      <td>100000.0</td>\n      <td>2.413530e+01</td>\n      <td>1.964467e+01</td>\n      <td>-1.878533e+01</td>\n      <td>5.146771e+00</td>\n      <td>2.364592e+01</td>\n      <td>3.990155e+01</td>\n      <td>8.300052e+01</td>\n    </tr>\n    <tr>\n      <th>u</th>\n      <td>100000.0</td>\n      <td>2.198047e+01</td>\n      <td>3.176929e+01</td>\n      <td>-9.999000e+03</td>\n      <td>2.035235e+01</td>\n      <td>2.217914e+01</td>\n      <td>2.368744e+01</td>\n      <td>3.278139e+01</td>\n    </tr>\n    <tr>\n      <th>g</th>\n      <td>100000.0</td>\n      <td>2.053139e+01</td>\n      <td>3.175029e+01</td>\n      <td>-9.999000e+03</td>\n      <td>1.896523e+01</td>\n      <td>2.109983e+01</td>\n      <td>2.212377e+01</td>\n      <td>3.160224e+01</td>\n    </tr>\n    <tr>\n      <th>r</th>\n      <td>100000.0</td>\n      <td>1.964576e+01</td>\n      <td>1.854760e+00</td>\n      <td>9.822070e+00</td>\n      <td>1.813583e+01</td>\n      <td>2.012529e+01</td>\n      <td>2.104478e+01</td>\n      <td>2.957186e+01</td>\n    </tr>\n    <tr>\n      <th>i</th>\n      <td>100000.0</td>\n      <td>1.908485e+01</td>\n      <td>1.757895e+00</td>\n      <td>9.469903e+00</td>\n      <td>1.773228e+01</td>\n      <td>1.940514e+01</td>\n      <td>2.039650e+01</td>\n      <td>3.214147e+01</td>\n    </tr>\n    <tr>\n      <th>z</th>\n      <td>100000.0</td>\n      <td>1.866881e+01</td>\n      <td>3.172815e+01</td>\n      <td>-9.999000e+03</td>\n      <td>1.746068e+01</td>\n      <td>1.900460e+01</td>\n      <td>1.992112e+01</td>\n      <td>2.938374e+01</td>\n    </tr>\n    <tr>\n      <th>run_ID</th>\n      <td>100000.0</td>\n      <td>4.481366e+03</td>\n      <td>1.964765e+03</td>\n      <td>1.090000e+02</td>\n      <td>3.187000e+03</td>\n      <td>4.188000e+03</td>\n      <td>5.326000e+03</td>\n      <td>8.162000e+03</td>\n    </tr>\n    <tr>\n      <th>rerun_ID</th>\n      <td>100000.0</td>\n      <td>3.010000e+02</td>\n      <td>0.000000e+00</td>\n      <td>3.010000e+02</td>\n      <td>3.010000e+02</td>\n      <td>3.010000e+02</td>\n      <td>3.010000e+02</td>\n      <td>3.010000e+02</td>\n    </tr>\n    <tr>\n      <th>cam_col</th>\n      <td>100000.0</td>\n      <td>3.511610e+00</td>\n      <td>1.586912e+00</td>\n      <td>1.000000e+00</td>\n      <td>2.000000e+00</td>\n      <td>4.000000e+00</td>\n      <td>5.000000e+00</td>\n      <td>6.000000e+00</td>\n    </tr>\n    <tr>\n      <th>field_ID</th>\n      <td>100000.0</td>\n      <td>1.861305e+02</td>\n      <td>1.490111e+02</td>\n      <td>1.100000e+01</td>\n      <td>8.200000e+01</td>\n      <td>1.460000e+02</td>\n      <td>2.410000e+02</td>\n      <td>9.890000e+02</td>\n    </tr>\n    <tr>\n      <th>spec_obj_ID</th>\n      <td>100000.0</td>\n      <td>5.783882e+18</td>\n      <td>3.324016e+18</td>\n      <td>2.995191e+17</td>\n      <td>2.844138e+18</td>\n      <td>5.614883e+18</td>\n      <td>8.332144e+18</td>\n      <td>1.412694e+19</td>\n    </tr>\n    <tr>\n      <th>redshift</th>\n      <td>100000.0</td>\n      <td>5.766608e-01</td>\n      <td>7.307073e-01</td>\n      <td>-9.970667e-03</td>\n      <td>5.451684e-02</td>\n      <td>4.241733e-01</td>\n      <td>7.041543e-01</td>\n      <td>7.011245e+00</td>\n    </tr>\n    <tr>\n      <th>plate</th>\n      <td>100000.0</td>\n      <td>5.137010e+03</td>\n      <td>2.952303e+03</td>\n      <td>2.660000e+02</td>\n      <td>2.526000e+03</td>\n      <td>4.987000e+03</td>\n      <td>7.400250e+03</td>\n      <td>1.254700e+04</td>\n    </tr>\n    <tr>\n      <th>MJD</th>\n      <td>100000.0</td>\n      <td>5.558865e+04</td>\n      <td>1.808484e+03</td>\n      <td>5.160800e+04</td>\n      <td>5.423400e+04</td>\n      <td>5.586850e+04</td>\n      <td>5.677700e+04</td>\n      <td>5.893200e+04</td>\n    </tr>\n    <tr>\n      <th>fiber_ID</th>\n      <td>100000.0</td>\n      <td>4.493127e+02</td>\n      <td>2.724984e+02</td>\n      <td>1.000000e+00</td>\n      <td>2.210000e+02</td>\n      <td>4.330000e+02</td>\n      <td>6.450000e+02</td>\n      <td>1.000000e+03</td>\n    </tr>\n  </tbody>\n</table>\n</div>"
     },
     "execution_count": 9,
     "metadata": {},
     "output_type": "execute_result"
    }
   ],
   "source": [
    "n_null = raw_data.isnull().sum().sum()\n",
    "n_rows = raw_data.shape[0]\n",
    "print(f\"Number of null values: {n_null}\")\n",
    "print(f\"Number of rows: {n_rows}\")\n",
    "\n",
    "raw_data.describe().T"
   ],
   "metadata": {
    "collapsed": false,
    "pycharm": {
     "name": "#%%\n"
    }
   }
  },
  {
   "cell_type": "markdown",
   "source": [
    "obj_ID = Object Identifier, the unique value that identifies the object in the image catalog used by the CAS\n",
    "alpha = Right Ascension angle (at J2000 epoch)\n",
    "delta = Declination angle (at J2000 epoch)\n",
    "u = Ultraviolet filter in the photometric system\n",
    "g = Green filter in the photometric system\n",
    "r = Red filter in the photometric system\n",
    "i = Near Infrared filter in the photometric system\n",
    "z = Infrared filter in the photometric system\n",
    "run_ID = Run Number used to identify the specific scan\n",
    "rereun_ID = Rerun Number to specify how the image was processed\n",
    "cam_col = Camera column to identify the scanline within the run\n",
    "field_ID = Field number to identify each field\n",
    "spec_obj_ID = Unique ID used for optical spectroscopic objects (this means that 2 different observations with the same spec_obj_ID must share the output class)\n",
    "class = object class (galaxy, star or quasar object)\n",
    "redshift = redshift value based on the increase in wavelength\n",
    "plate = plate ID, identifies each plate in SDSS\n",
    "MJD = Modified Julian Date, used to indicate when a given piece of SDSS data was taken\n",
    "fiber_ID = fiber ID that identifies the fiber that pointed the light at the focal plane in each observation"
   ],
   "metadata": {
    "collapsed": false,
    "pycharm": {
     "name": "#%% md\n"
    }
   }
  }
 ],
 "metadata": {
  "kernelspec": {
   "display_name": "Python 3",
   "language": "python",
   "name": "python3"
  },
  "language_info": {
   "codemirror_mode": {
    "name": "ipython",
    "version": 2
   },
   "file_extension": ".py",
   "mimetype": "text/x-python",
   "name": "python",
   "nbconvert_exporter": "python",
   "pygments_lexer": "ipython2",
   "version": "2.7.6"
  }
 },
 "nbformat": 4,
 "nbformat_minor": 0
}