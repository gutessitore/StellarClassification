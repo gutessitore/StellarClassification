{
 "cells": [
  {
   "cell_type": "markdown",
   "id": "30b66fdd",
   "metadata": {},
   "source": [
    "<a class=\"anchor\" id=\"section-0\"></a>\n",
    "<img src=\"https://i.imgur.com/lTCPbz0.jpeg\" alt='logo puc-sp' width='30%' align='left'>\n",
    "\n",
    "### Pontifícia Universidade Católica de São Paulo (PUC-SP)\n",
    "\n",
    "<h1 style=font-size:30px>StellarClassification</h1>\n",
    "\n",
    "\n",
    "### Bacharelado em Ciência de Dados e Inteligência Artificial\n",
    "\n",
    "#### Turma: CDIA21-MA\n",
    "\n",
    "**Professor:** Jefferson de Oliveira Silva\n",
    "\n",
    "**Alunos:**\n",
    "\n",
    "<table align=\"left\" style=font-size:15px>\n",
    "<thead>\n",
    "  <tr>\n",
    "    <th style=\"text-align:left;\">Nome</th>\n",
    "    <th style=\"text-align:left;\">RA</th>\n",
    "    <th></th>\n",
    "  </tr>\n",
    "</thead>\n",
    "<tbody>\n",
    "  <tr>\n",
    "    <td style=\"text-align:left;\">Carlos Eduardo de Oliveira</td>\n",
    "    <td>RA00297792</td>\n",
    "    <td></td>\n",
    "  </tr>\n",
    "  <tr>\n",
    "    <td style=\"text-align:left;\">Gustavo Schlieper Tessitore</td>\n",
    "    <td>RA00297844</td>\n",
    "    <td></td>\n",
    "  </tr>\n",
    "  <tr>\n",
    "    <td style=\"text-align:left;\">Isaac Higuchi</td>\n",
    "    <td>RA00306191</td>\n",
    "    <td></td>\n",
    "  </tr>\n",
    "  <tr>\n",
    "    <td style=\"text-align:left;\">João Pedro Taves Araujo</td>\n",
    "    <td>RA00297753</td>\n",
    "    <td></td>\n",
    "  </tr>\n",
    "  <tr>\n",
    "    <td style=\"text-align:left;\">Lucas Lopes Amorim</td>\n",
    "    <td>RA00303799</td>\n",
    "    <td></td>\n",
    "  </tr>\n",
    "  <tr>\n",
    "    <td style=\"text-align:left;\">Thiago de Jesus Carvalho</td>\n",
    "    <td>RA00297792</td>\n",
    "    <td></td>\n",
    "  </tr>\n",
    "</tbody>\n",
    "</table>"
   ]
  },
  {
   "cell_type": "markdown",
   "id": "043f026a",
   "metadata": {},
   "source": [
    "<h3><b>Estrutura:</b></h3>\n",
    "<ol>\n",
    "   <li><a href=\"#section-1\">Contextualização</a></li>\n",
    "   <li><a href=\"#section-2\">Objetivo do Trabalho</a></li>\n",
    "   <li>\n",
    "      <a href=\"#section-3\">Método</a>\n",
    "      <ol style=\"list-style: none; padding-left: 10px\">\n",
    "         <li>3.1. <a href=\"#section-3-1\">Entendimento dos Dados</a></li>\n",
    "         <li>3.2. <a href=\"#section-3-2\">Preparação dos Dados</a></li>\n",
    "         <ol style=\"list-style: none; padding-left: 20px\">\n",
    "            <li>3.2.1 <a href=\"#section-3-2-1\">Gerando novos atributos</a></li>\n",
    "            <li>3.2.2 <a href=\"#section-3-2-2\">Tratando variáveis categórias</a></li>\n",
    "         </ol>\n",
    "         <li>3.3. <a href=\"#section-3-3\">Modelagem</a></li>\n",
    "         <ol style=\"list-style: none; padding-left: 20px\">\n",
    "            <li>3.3.1 <a href=\"#section-3-3-1\">Modelo #1: Árvore de Decisão</a></li>\n",
    "            <li>3.3.2 <a href=\"#section-3-3-2\">Modelo #2: Floresta Aleatória de Classificação</a></li>\n",
    "            <li>3.3.3 <a href=\"#section-3-3-3\">Modelo #3: Naive Bayes</a></li>\n",
    "            <li>3.3.4 <a href=\"#section-3-3-4\">Modelo #4: SVC</a></li>\n",
    "            <li>3.3.5 <a href=\"#section-3-3-5\">Modelo #5: KNN</a></li>\n",
    "         </ol>\n",
    "      </ol>\n",
    "   </li>\n",
    "   <li><a href=\"#section-4\">Limitações</a></li>\n",
    "   <li><a href=\"#section-5\">Conclusões</a></li>\n",
    "</ol>\n",
    "<p><a href=\"#section-n\">Referências</a></p>"
   ]
  },
  {
   "cell_type": "markdown",
   "id": "4e5fd374",
   "metadata": {},
   "source": [
    "# 1. Contextualização <a class=\"anchor\" id=\"section-1\"></a>\n",
    "[Voltar ao topo](#section-0)"
   ]
  },
  {
   "cell_type": "markdown",
   "id": "11f68912",
   "metadata": {},
   "source": [
    "# 2. Objetivo do Trabalho <a class=\"anchor\" id=\"section-2\"></a>\n",
    "[Voltar ao topo](#section-0)"
   ]
  },
  {
   "cell_type": "markdown",
   "id": "6bd1a08a",
   "metadata": {},
   "source": [
    "# 3. Método <a class=\"anchor\" id=\"section-3\"></a>\n",
    "[Voltar ao topo](#section-0)"
   ]
  },
  {
   "cell_type": "markdown",
   "id": "a8897df8",
   "metadata": {},
   "source": [
    "## 3.3 Modelagem <a class=\"anchor\" id=\"section-3-3\"></a>\n",
    "[Voltar ao topo](#section-0)"
   ]
  },
  {
   "cell_type": "markdown",
   "id": "0bba4e5b",
   "metadata": {},
   "source": [
    "### 3.3.1 Modelo #1: Árvore de Decisão <a class=\"anchor\" id=\"section-3-3-1\"></a>\n",
    "[Voltar ao topo](#section-0)"
   ]
  },
  {
   "cell_type": "code",
   "execution_count": null,
   "id": "2430d19e",
   "metadata": {},
   "outputs": [],
   "source": []
  },
  {
   "cell_type": "markdown",
   "id": "88dc6d55",
   "metadata": {},
   "source": [
    "### 3.3.2 Modelo #2: Floresta Aleatória de Classificação <a class=\"anchor\" id=\"section-3-3-2\"></a>\n",
    "[Voltar ao topo](#section-0)"
   ]
  },
  {
   "cell_type": "code",
   "execution_count": null,
   "id": "4b8a9a19",
   "metadata": {},
   "outputs": [],
   "source": []
  },
  {
   "cell_type": "markdown",
   "id": "92e16aac",
   "metadata": {},
   "source": [
    "### 3.3.3 Modelo #3: Naive Bayes <a class=\"anchor\" id=\"section-3-3-3\"></a>\n",
    "[Voltar ao topo](#section-0)"
   ]
  },
  {
   "cell_type": "code",
   "execution_count": null,
   "id": "f07ff017",
   "metadata": {},
   "outputs": [],
   "source": []
  },
  {
   "cell_type": "markdown",
   "id": "ff5996c3",
   "metadata": {},
   "source": [
    "### 3.3.4 Modelo #4: SVC <a class=\"anchor\" id=\"section-3-3-4\"></a>\n",
    "[Voltar ao topo](#section-0)"
   ]
  },
  {
   "cell_type": "code",
   "execution_count": null,
   "id": "a4188dc7",
   "metadata": {},
   "outputs": [],
   "source": []
  },
  {
   "cell_type": "markdown",
   "id": "1900ac33",
   "metadata": {},
   "source": [
    "### 3.3.5 Modelo #5: KNN <a class=\"anchor\" id=\"section-3-3-5\"></a>\n",
    "[Voltar ao topo](#section-0)"
   ]
  },
  {
   "cell_type": "code",
   "execution_count": null,
   "id": "70151537",
   "metadata": {},
   "outputs": [],
   "source": []
  }
 ],
 "metadata": {
  "kernelspec": {
   "display_name": "Python 3 (ipykernel)",
   "language": "python",
   "name": "python3"
  },
  "language_info": {
   "codemirror_mode": {
    "name": "ipython",
    "version": 3
   },
   "file_extension": ".py",
   "mimetype": "text/x-python",
   "name": "python",
   "nbconvert_exporter": "python",
   "pygments_lexer": "ipython3",
   "version": "3.9.7"
  }
 },
 "nbformat": 4,
 "nbformat_minor": 5
}
