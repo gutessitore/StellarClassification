{
 "cells": [
  {
   "cell_type": "markdown",
   "id": "30b66fdd",
   "metadata": {},
   "source": [
    "<a class=\"anchor\" id=\"section-0\"></a>\n",
    "<img src=\"https://i.imgur.com/lTCPbz0.jpeg\" alt='logo puc-sp' width='30%' align='left'>\n",
    "\n",
    "### Pontifícia Universidade Católica de São Paulo (PUC-SP)\n",
    "\n",
    "<h1 style=font-size:30px>StellarClassification</h1>\n",
    "\n",
    "\n",
    "### Bacharelado em Ciência de Dados e Inteligência Artificial\n",
    "\n",
    "#### Turma: CDIA21-MA\n",
    "\n",
    "**Professor:** Jefferson de Oliveira Silva\n",
    "\n",
    "**Alunos:**\n",
    "\n",
    "<table align=\"left\" style=font-size:15px>\n",
    "<thead>\n",
    "  <tr>\n",
    "    <th style=\"text-align:left;\">Nome</th>\n",
    "    <th style=\"text-align:left;\">RA</th>\n",
    "    <th></th>\n",
    "  </tr>\n",
    "</thead>\n",
    "<tbody>\n",
    "  <tr>\n",
    "    <td style=\"text-align:left;\">Carlos Eduardo de Oliveira</td>\n",
    "    <td>RA00297792</td>\n",
    "    <td></td>\n",
    "  </tr>\n",
    "  <tr>\n",
    "    <td style=\"text-align:left;\">Gustavo Schlieper Tessitore</td>\n",
    "    <td>RA00297844</td>\n",
    "    <td></td>\n",
    "  </tr>\n",
    "  <tr>\n",
    "    <td style=\"text-align:left;\">Isaac Higuchi</td>\n",
    "    <td>RA00306191</td>\n",
    "    <td></td>\n",
    "  </tr>\n",
    "  <tr>\n",
    "    <td style=\"text-align:left;\">João Pedro Taves Araujo</td>\n",
    "    <td>RA00297753</td>\n",
    "    <td></td>\n",
    "  </tr>\n",
    "  <tr>\n",
    "    <td style=\"text-align:left;\">Lucas Lopes Amorim</td>\n",
    "    <td>RA00303799</td>\n",
    "    <td></td>\n",
    "  </tr>\n",
    "  <tr>\n",
    "    <td style=\"text-align:left;\">Thiago de Jesus Carvalho</td>\n",
    "    <td>RA00297792</td>\n",
    "    <td></td>\n",
    "  </tr>\n",
    "</tbody>\n",
    "</table>"
   ]
  },
  {
   "cell_type": "markdown",
   "id": "043f026a",
   "metadata": {},
   "source": [
    "<h3><b>Estrutura:</b></h3>\n",
    "<ol>\n",
    "   <li><a href=\"#section-1\">Contextualização</a></li>\n",
    "   <li><a href=\"#section-2\">Objetivo do Trabalho</a></li>\n",
    "   <li>\n",
    "      <a href=\"#section-3\">Método</a>\n",
    "      <ol style=\"list-style: none; padding-left: 10px\">\n",
    "         <li>3.1. <a href=\"#section-3-1\">Entendimento dos Dados</a></li>\n",
    "         <li>3.2. <a href=\"#section-3-2\">Preparação dos Dados</a></li>\n",
    "         <ol style=\"list-style: none; padding-left: 20px\">\n",
    "            <li>3.2.1 <a href=\"#section-3-2-1\">Gerando novos atributos</a></li>\n",
    "            <li>3.2.2 <a href=\"#section-3-2-2\">Tratando variáveis categórias</a></li>\n",
    "         </ol>\n",
    "         <li>3.3. <a href=\"#section-3-3\">Modelagem</a></li>\n",
    "         <ol style=\"list-style: none; padding-left: 20px\">\n",
    "            <li>3.3.1 <a href=\"#section-3-3-1\">Modelo #1: Árvore de Decisão</a></li>\n",
    "            <li>3.3.2 <a href=\"#section-3-3-2\">Modelo #2: Floresta Aleatória de Classificação</a></li>\n",
    "            <li>3.3.3 <a href=\"#section-3-3-3\">Modelo #3: Naive Bayes</a></li>\n",
    "            <li>3.3.4 <a href=\"#section-3-3-4\">Modelo #4: SVC</a></li>\n",
    "            <li>3.3.5 <a href=\"#section-3-3-5\">Modelo #5: KNN</a></li>\n",
    "         </ol>\n",
    "      </ol>\n",
    "   </li>\n",
    "   <li><a href=\"#section-4\">Limitações</a></li>\n",
    "   <li><a href=\"#section-5\">Conclusões</a></li>\n",
    "</ol>\n",
    "<p><a href=\"#section-n\">Referências</a></p>"
   ]
  },
  {
   "cell_type": "markdown",
   "id": "4e5fd374",
   "metadata": {},
   "source": [
    "# 1. Contextualização <a class=\"anchor\" id=\"section-1\"></a>\n",
    "[Voltar ao topo](#section-0)"
   ]
  },
  {
   "cell_type": "markdown",
   "id": "11f68912",
   "metadata": {},
   "source": [
    "# 2. Objetivo do Trabalho <a class=\"anchor\" id=\"section-2\"></a>\n",
    "[Voltar ao topo](#section-0)"
   ]
  },
  {
   "cell_type": "markdown",
   "id": "3730e2f3",
   "metadata": {},
   "source": [
    "# 3. Método <a class=\"anchor\" id=\"section-3\"></a>\n",
    "[Voltar ao topo](#section-0)"
   ]
  },
  {
   "cell_type": "markdown",
   "id": "5eabe99c",
   "metadata": {},
   "source": [
    "## 3.1 Entendimento dos Dados <a class=\"anchor\" id=\"section-3-1\"></a>\n",
    "[Voltar ao topo](#section-0)"
   ]
  },
  {
   "cell_type": "markdown",
   "id": "913e428c",
   "metadata": {},
   "source": [
    "## 3.2 Preparação dos Dados <a class=\"anchor\" id=\"section-3-2\"></a>\n",
    "[Voltar ao topo](#section-0)"
   ]
  },
  {
   "cell_type": "code",
   "execution_count": 1,
   "id": "855c3208",
   "metadata": {},
   "outputs": [],
   "source": [
    "# Para manipulação dos dados\n",
    "import pandas as pd\n",
    "\n",
    "# Para criação do nosso pipeline\n",
    "from sklearn.compose import ColumnTransformer\n",
    "\n",
    "# Para tratamentos de dados\n",
    "from sklearn.preprocessing import StandardScaler, OrdinalEncoder\n",
    "\n",
    "# Para separação em treino e teste\n",
    "from sklearn.model_selection import train_test_split\n",
    "\n",
    "# Para aplicar resamplings\n",
    "from imblearn.over_sampling import RandomOverSampler\n",
    "from imblearn.under_sampling import RandomUnderSampler\n",
    "\n",
    "# Para ignorar mensagens de warnings\n",
    "import warnings\n",
    "warnings.filterwarnings('ignore')"
   ]
  },
  {
   "cell_type": "code",
   "execution_count": 2,
   "id": "0a93e62f",
   "metadata": {},
   "outputs": [
    {
     "data": {
      "text/plain": "         obj_ID       alpha      delta         u         g         r  \\\n0  1.237661e+18  135.689107  32.494632  23.87882  22.27530  20.39501   \n1  1.237665e+18  144.826101  31.274185  24.77759  22.83188  22.58444   \n2  1.237661e+18  142.188790  35.582444  25.26307  22.66389  20.60976   \n3  1.237663e+18  338.741038  -0.402828  22.13682  23.77656  21.61162   \n4  1.237680e+18  345.282593  21.183866  19.43718  17.58028  16.49747   \n\n          i         z  run_ID  rerun_ID  cam_col  field_ID   spec_obj_ID  \\\n0  19.16573  18.79371    3606       301        2        79  6.543777e+18   \n1  21.16812  21.61427    4518       301        5       119  1.176014e+19   \n2  19.34857  18.94827    3606       301        2       120  5.152200e+18   \n3  20.50454  19.25010    4192       301        3       214  1.030107e+19   \n4  15.97711  15.54461    8102       301        3       137  6.891865e+18   \n\n    class  redshift  plate    MJD  fiber_ID  \n0  GALAXY  0.634794   5812  56354       171  \n1  GALAXY  0.779136  10445  58158       427  \n2  GALAXY  0.644195   4576  55592       299  \n3  GALAXY  0.932346   9149  58039       775  \n4  GALAXY  0.116123   6121  56187       842  ",
      "text/html": "<div>\n<style scoped>\n    .dataframe tbody tr th:only-of-type {\n        vertical-align: middle;\n    }\n\n    .dataframe tbody tr th {\n        vertical-align: top;\n    }\n\n    .dataframe thead th {\n        text-align: right;\n    }\n</style>\n<table border=\"1\" class=\"dataframe\">\n  <thead>\n    <tr style=\"text-align: right;\">\n      <th></th>\n      <th>obj_ID</th>\n      <th>alpha</th>\n      <th>delta</th>\n      <th>u</th>\n      <th>g</th>\n      <th>r</th>\n      <th>i</th>\n      <th>z</th>\n      <th>run_ID</th>\n      <th>rerun_ID</th>\n      <th>cam_col</th>\n      <th>field_ID</th>\n      <th>spec_obj_ID</th>\n      <th>class</th>\n      <th>redshift</th>\n      <th>plate</th>\n      <th>MJD</th>\n      <th>fiber_ID</th>\n    </tr>\n  </thead>\n  <tbody>\n    <tr>\n      <th>0</th>\n      <td>1.237661e+18</td>\n      <td>135.689107</td>\n      <td>32.494632</td>\n      <td>23.87882</td>\n      <td>22.27530</td>\n      <td>20.39501</td>\n      <td>19.16573</td>\n      <td>18.79371</td>\n      <td>3606</td>\n      <td>301</td>\n      <td>2</td>\n      <td>79</td>\n      <td>6.543777e+18</td>\n      <td>GALAXY</td>\n      <td>0.634794</td>\n      <td>5812</td>\n      <td>56354</td>\n      <td>171</td>\n    </tr>\n    <tr>\n      <th>1</th>\n      <td>1.237665e+18</td>\n      <td>144.826101</td>\n      <td>31.274185</td>\n      <td>24.77759</td>\n      <td>22.83188</td>\n      <td>22.58444</td>\n      <td>21.16812</td>\n      <td>21.61427</td>\n      <td>4518</td>\n      <td>301</td>\n      <td>5</td>\n      <td>119</td>\n      <td>1.176014e+19</td>\n      <td>GALAXY</td>\n      <td>0.779136</td>\n      <td>10445</td>\n      <td>58158</td>\n      <td>427</td>\n    </tr>\n    <tr>\n      <th>2</th>\n      <td>1.237661e+18</td>\n      <td>142.188790</td>\n      <td>35.582444</td>\n      <td>25.26307</td>\n      <td>22.66389</td>\n      <td>20.60976</td>\n      <td>19.34857</td>\n      <td>18.94827</td>\n      <td>3606</td>\n      <td>301</td>\n      <td>2</td>\n      <td>120</td>\n      <td>5.152200e+18</td>\n      <td>GALAXY</td>\n      <td>0.644195</td>\n      <td>4576</td>\n      <td>55592</td>\n      <td>299</td>\n    </tr>\n    <tr>\n      <th>3</th>\n      <td>1.237663e+18</td>\n      <td>338.741038</td>\n      <td>-0.402828</td>\n      <td>22.13682</td>\n      <td>23.77656</td>\n      <td>21.61162</td>\n      <td>20.50454</td>\n      <td>19.25010</td>\n      <td>4192</td>\n      <td>301</td>\n      <td>3</td>\n      <td>214</td>\n      <td>1.030107e+19</td>\n      <td>GALAXY</td>\n      <td>0.932346</td>\n      <td>9149</td>\n      <td>58039</td>\n      <td>775</td>\n    </tr>\n    <tr>\n      <th>4</th>\n      <td>1.237680e+18</td>\n      <td>345.282593</td>\n      <td>21.183866</td>\n      <td>19.43718</td>\n      <td>17.58028</td>\n      <td>16.49747</td>\n      <td>15.97711</td>\n      <td>15.54461</td>\n      <td>8102</td>\n      <td>301</td>\n      <td>3</td>\n      <td>137</td>\n      <td>6.891865e+18</td>\n      <td>GALAXY</td>\n      <td>0.116123</td>\n      <td>6121</td>\n      <td>56187</td>\n      <td>842</td>\n    </tr>\n  </tbody>\n</table>\n</div>"
     },
     "execution_count": 2,
     "metadata": {},
     "output_type": "execute_result"
    }
   ],
   "source": [
    "df = pd.read_csv('data/star_classification.csv')\n",
    "df.head()"
   ]
  },
  {
   "cell_type": "code",
   "execution_count": 3,
   "id": "62e0ac66",
   "metadata": {},
   "outputs": [],
   "source": [
    "cols = ['alpha', 'delta', 'u', 'g', 'r', 'i', 'z', 'cam_col', 'redshift', 'MJD']"
   ]
  },
  {
   "cell_type": "code",
   "execution_count": 4,
   "id": "0e6e815f",
   "metadata": {},
   "outputs": [],
   "source": [
    "preprocessing = ColumnTransformer(transformers=[\n",
    "    ('scaling', StandardScaler(), cols),\n",
    "], remainder='drop')"
   ]
  },
  {
   "cell_type": "code",
   "execution_count": 5,
   "id": "588e3177",
   "metadata": {},
   "outputs": [],
   "source": [
    "target_encoder = OrdinalEncoder()"
   ]
  },
  {
   "cell_type": "code",
   "execution_count": 6,
   "id": "12c652cc",
   "metadata": {},
   "outputs": [],
   "source": [
    "X, y = df.drop('class', axis=1), df['class']"
   ]
  },
  {
   "cell_type": "code",
   "execution_count": 7,
   "id": "2ace6138",
   "metadata": {},
   "outputs": [],
   "source": [
    "X_train_full, X_test_full, y_train, y_test = train_test_split(X , y, test_size=0.2)"
   ]
  },
  {
   "cell_type": "code",
   "execution_count": 8,
   "id": "f10ff40f",
   "metadata": {},
   "outputs": [],
   "source": [
    "X_train = preprocessing.fit_transform(X_train_full)\n",
    "y_train_encoded = target_encoder.fit_transform(y_train.values.reshape(-1, 1))"
   ]
  },
  {
   "cell_type": "code",
   "execution_count": 9,
   "id": "6f77d9b5",
   "metadata": {},
   "outputs": [],
   "source": [
    "X_test = preprocessing.transform(X_test_full)\n",
    "y_test_encoded = target_encoder.fit_transform(y_test.values.reshape(-1, 1))"
   ]
  },
  {
   "cell_type": "markdown",
   "id": "ea949bf8",
   "metadata": {},
   "source": [
    "**Aplicando Oversampling:**"
   ]
  },
  {
   "cell_type": "code",
   "execution_count": 10,
   "id": "4ed68ab8",
   "metadata": {},
   "outputs": [],
   "source": [
    "def apply_oversampling(X_train_, y_train_, **kwargs):\n",
    "    ros = RandomOverSampler(**kwargs)\n",
    "    X_train_oversam_, y_train_oversam_ = ros.fit_resample(X_train_, y_train_)\n",
    "    return X_train_oversam_, y_train_oversam_"
   ]
  },
  {
   "cell_type": "code",
   "execution_count": 11,
   "id": "326458d8",
   "metadata": {},
   "outputs": [],
   "source": [
    "X_train_oversam, y_train_oversam = apply_oversampling(X_train, y_train, random_state=42)"
   ]
  },
  {
   "cell_type": "markdown",
   "id": "93316998",
   "metadata": {},
   "source": [
    "**Aplicando Undersampling:**"
   ]
  },
  {
   "cell_type": "code",
   "execution_count": 12,
   "id": "8d4b4250",
   "metadata": {},
   "outputs": [],
   "source": [
    "def apply_undersampling(X_train_, y_train_, **kwargs):\n",
    "    rus = RandomUnderSampler(**kwargs)\n",
    "    X_train_undersam_, y_train_undersam_ = rus.fit_resample(X_train, y_train)\n",
    "    return X_train_undersam_, y_train_undersam_"
   ]
  },
  {
   "cell_type": "code",
   "execution_count": 13,
   "id": "a9e0ab45",
   "metadata": {},
   "outputs": [],
   "source": [
    "X_train_undersam, y_train_undersam = apply_undersampling(X_train, y_train, random_state=42)"
   ]
  },
  {
   "cell_type": "markdown",
   "id": "1af1f36f",
   "metadata": {},
   "source": [
    "**Aplicando PCA:**"
   ]
  },
  {
   "cell_type": "markdown",
   "id": "cade02b0",
   "metadata": {},
   "source": [
    "**EM CONTRUÇÃO**"
   ]
  },
  {
   "cell_type": "markdown",
   "id": "1863a6a9",
   "metadata": {},
   "source": [
    "## 3.3 Modelagem <a class=\"anchor\" id=\"section-3-3\"></a>\n",
    "[Voltar ao topo](#section-0)"
   ]
  },
  {
   "cell_type": "markdown",
   "id": "c4cf8003",
   "metadata": {},
   "source": [
    "### 3.3.1 Modelo #1: Árvore de Decisão <a class=\"anchor\" id=\"section-3-3-1\"></a>\n",
    "[Voltar ao topo](#section-0)"
   ]
  },
  {
   "cell_type": "code",
   "execution_count": 14,
   "id": "8ea4735f",
   "metadata": {},
   "outputs": [],
   "source": [
    "from sklearn.tree import DecisionTreeClassifier\n",
    "from sklearn.metrics import classification_report, plot_confusion_matrix\n"
   ]
  },
  {
   "cell_type": "code",
   "execution_count": 15,
   "id": "b20c7360",
   "metadata": {},
   "outputs": [],
   "source": [
    "cl_tree = DecisionTreeClassifier()"
   ]
  },
  {
   "cell_type": "code",
   "execution_count": 16,
   "id": "c8e115ec",
   "metadata": {},
   "outputs": [],
   "source": [
    "cl_tree = cl_tree.fit(X_train, y_train)\n",
    "previsao = cl_tree.predict(X_test)"
   ]
  },
  {
   "cell_type": "code",
   "execution_count": 17,
   "id": "cb985657",
   "metadata": {},
   "outputs": [
    {
     "name": "stdout",
     "output_type": "stream",
     "text": [
      "              precision    recall  f1-score   support\n",
      "\n",
      "      GALAXY       0.97      0.97      0.97     11958\n",
      "         QSO       0.91      0.91      0.91      3744\n",
      "        STAR       0.99      0.99      0.99      4298\n",
      "\n",
      "    accuracy                           0.96     20000\n",
      "   macro avg       0.96      0.96      0.96     20000\n",
      "weighted avg       0.96      0.96      0.96     20000\n",
      "\n"
     ]
    }
   ],
   "source": [
    "print(classification_report(y_test, previsao))"
   ]
  },
  {
   "cell_type": "code",
   "execution_count": 18,
   "id": "c607714b",
   "metadata": {},
   "outputs": [
    {
     "data": {
      "text/plain": "<sklearn.metrics._plot.confusion_matrix.ConfusionMatrixDisplay at 0x7fa5ea2c6f10>"
     },
     "execution_count": 18,
     "metadata": {},
     "output_type": "execute_result"
    },
    {
     "data": {
      "text/plain": "<Figure size 640x480 with 2 Axes>",
      "image/png": "[encoded data removed]"
     },
     "metadata": {},
     "output_type": "display_data"
    }
   ],
   "source": [
    "plot_confusion_matrix(cl_tree, X_test, y_test)"
   ]
  },
  {
   "cell_type": "markdown",
   "id": "34d8e8bb",
   "metadata": {},
   "source": [
    "### 3.3.2 Modelo #2: Floresta Aleatória de Classificação <a class=\"anchor\" id=\"section-3-3-2\"></a>\n",
    "[Voltar ao topo](#section-0)"
   ]
  },
  {
   "cell_type": "code",
   "execution_count": 19,
   "id": "d27c08f0",
   "metadata": {},
   "outputs": [],
   "source": [
    "from sklearn.ensemble import RandomForestClassifier"
   ]
  },
  {
   "cell_type": "code",
   "execution_count": 20,
   "id": "a77fbede",
   "metadata": {},
   "outputs": [],
   "source": [
    "rf_clf = RandomForestClassifier(n_estimators=100)\n",
    "\n",
    "rf_clf = rf_clf.fit(X_train, y_train)\n",
    "\n",
    "previsao_rf = rf_clf.predict(X_test)"
   ]
  },
  {
   "cell_type": "code",
   "execution_count": 21,
   "id": "d0c733a5",
   "metadata": {},
   "outputs": [
    {
     "name": "stdout",
     "output_type": "stream",
     "text": [
      "              precision    recall  f1-score   support\n",
      "\n",
      "      GALAXY       0.98      0.99      0.98     11958\n",
      "         QSO       0.96      0.93      0.94      3744\n",
      "        STAR       0.99      1.00      1.00      4298\n",
      "\n",
      "    accuracy                           0.98     20000\n",
      "   macro avg       0.98      0.97      0.97     20000\n",
      "weighted avg       0.98      0.98      0.98     20000\n",
      "\n"
     ]
    }
   ],
   "source": [
    "print(classification_report(y_test, previsao_rf))"
   ]
  },
  {
   "cell_type": "code",
   "execution_count": 22,
   "id": "1a9caceb",
   "metadata": {},
   "outputs": [
    {
     "data": {
      "text/plain": "<sklearn.metrics._plot.confusion_matrix.ConfusionMatrixDisplay at 0x7fa5e7ad2f90>"
     },
     "execution_count": 22,
     "metadata": {},
     "output_type": "execute_result"
    },
    {
     "data": {
      "text/plain": "<Figure size 640x480 with 2 Axes>",
      "image/png": "[encoded data removed]"
     },
     "metadata": {},
     "output_type": "display_data"
    }
   ],
   "source": [
    "plot_confusion_matrix(rf_clf, X_test, y_test)"
   ]
  },
  {
   "cell_type": "markdown",
   "id": "91d78adb",
   "metadata": {},
   "source": [
    "### 3.3.3 Modelo #3: Naive Bayes <a class=\"anchor\" id=\"section-3-3-3\"></a>\n",
    "[Voltar ao topo](#section-0)"
   ]
  },
  {
   "cell_type": "code",
   "execution_count": 23,
   "id": "aa1d601d",
   "metadata": {},
   "outputs": [],
   "source": [
    "from sklearn.naive_bayes import GaussianNB\n",
    "from sklearn.metrics import accuracy_score, classification_report"
   ]
  },
  {
   "cell_type": "code",
   "execution_count": 24,
   "id": "35c5e495",
   "metadata": {},
   "outputs": [
    {
     "data": {
      "text/plain": "GaussianNB()",
      "text/html": "<style>#sk-container-id-1 {color: black;background-color: white;}#sk-container-id-1 pre{padding: 0;}#sk-container-id-1 div.sk-toggleable {background-color: white;}#sk-container-id-1 label.sk-toggleable__label {cursor: pointer;display: block;width: 100%;margin-bottom: 0;padding: 0.3em;box-sizing: border-box;text-align: center;}#sk-container-id-1 label.sk-toggleable__label-arrow:before {content: \"▸\";float: left;margin-right: 0.25em;color: #696969;}#sk-container-id-1 label.sk-toggleable__label-arrow:hover:before {color: black;}#sk-container-id-1 div.sk-estimator:hover label.sk-toggleable__label-arrow:before {color: black;}#sk-container-id-1 div.sk-toggleable__content {max-height: 0;max-width: 0;overflow: hidden;text-align: left;background-color: #f0f8ff;}#sk-container-id-1 div.sk-toggleable__content pre {margin: 0.2em;color: black;border-radius: 0.25em;background-color: #f0f8ff;}#sk-container-id-1 input.sk-toggleable__control:checked~div.sk-toggleable__content {max-height: 200px;max-width: 100%;overflow: auto;}#sk-container-id-1 input.sk-toggleable__control:checked~label.sk-toggleable__label-arrow:before {content: \"▾\";}#sk-container-id-1 div.sk-estimator input.sk-toggleable__control:checked~label.sk-toggleable__label {background-color: #d4ebff;}#sk-container-id-1 div.sk-label input.sk-toggleable__control:checked~label.sk-toggleable__label {background-color: #d4ebff;}#sk-container-id-1 input.sk-hidden--visually {border: 0;clip: rect(1px 1px 1px 1px);clip: rect(1px, 1px, 1px, 1px);height: 1px;margin: -1px;overflow: hidden;padding: 0;position: absolute;width: 1px;}#sk-container-id-1 div.sk-estimator {font-family: monospace;background-color: #f0f8ff;border: 1px dotted black;border-radius: 0.25em;box-sizing: border-box;margin-bottom: 0.5em;}#sk-container-id-1 div.sk-estimator:hover {background-color: #d4ebff;}#sk-container-id-1 div.sk-parallel-item::after {content: \"\";width: 100%;border-bottom: 1px solid gray;flex-grow: 1;}#sk-container-id-1 div.sk-label:hover label.sk-toggleable__label {background-color: #d4ebff;}#sk-container-id-1 div.sk-serial::before {content: \"\";position: absolute;border-left: 1px solid gray;box-sizing: border-box;top: 0;bottom: 0;left: 50%;z-index: 0;}#sk-container-id-1 div.sk-serial {display: flex;flex-direction: column;align-items: center;background-color: white;padding-right: 0.2em;padding-left: 0.2em;position: relative;}#sk-container-id-1 div.sk-item {position: relative;z-index: 1;}#sk-container-id-1 div.sk-parallel {display: flex;align-items: stretch;justify-content: center;background-color: white;position: relative;}#sk-container-id-1 div.sk-item::before, #sk-container-id-1 div.sk-parallel-item::before {content: \"\";position: absolute;border-left: 1px solid gray;box-sizing: border-box;top: 0;bottom: 0;left: 50%;z-index: -1;}#sk-container-id-1 div.sk-parallel-item {display: flex;flex-direction: column;z-index: 1;position: relative;background-color: white;}#sk-container-id-1 div.sk-parallel-item:first-child::after {align-self: flex-end;width: 50%;}#sk-container-id-1 div.sk-parallel-item:last-child::after {align-self: flex-start;width: 50%;}#sk-container-id-1 div.sk-parallel-item:only-child::after {width: 0;}#sk-container-id-1 div.sk-dashed-wrapped {border: 1px dashed gray;margin: 0 0.4em 0.5em 0.4em;box-sizing: border-box;padding-bottom: 0.4em;background-color: white;}#sk-container-id-1 div.sk-label label {font-family: monospace;font-weight: bold;display: inline-block;line-height: 1.2em;}#sk-container-id-1 div.sk-label-container {text-align: center;}#sk-container-id-1 div.sk-container {/* jupyter's `normalize.less` sets `[hidden] { display: none; }` but bootstrap.min.css set `[hidden] { display: none !important; }` so we also need the `!important` here to be able to override the default hidden behavior on the sphinx rendered scikit-learn.org. See: https://github.com/scikit-learn/scikit-learn/issues/21755 */display: inline-block !important;position: relative;}#sk-container-id-1 div.sk-text-repr-fallback {display: none;}</style><div id=\"sk-container-id-1\" class=\"sk-top-container\"><div class=\"sk-text-repr-fallback\"><pre>GaussianNB()</pre><b>In a Jupyter environment, please rerun this cell to show the HTML representation or trust the notebook. <br />On GitHub, the HTML representation is unable to render, please try loading this page with nbviewer.org.</b></div><div class=\"sk-container\" hidden><div class=\"sk-item\"><div class=\"sk-estimator sk-toggleable\"><input class=\"sk-toggleable__control sk-hidden--visually\" id=\"sk-estimator-id-1\" type=\"checkbox\" checked><label for=\"sk-estimator-id-1\" class=\"sk-toggleable__label sk-toggleable__label-arrow\">GaussianNB</label><div class=\"sk-toggleable__content\"><pre>GaussianNB()</pre></div></div></div></div></div>"
     },
     "execution_count": 24,
     "metadata": {},
     "output_type": "execute_result"
    }
   ],
   "source": [
    "gnb = GaussianNB()\n",
    "gnb.fit(X_train, y_train)"
   ]
  },
  {
   "cell_type": "code",
   "execution_count": 25,
   "id": "67df55ee",
   "metadata": {},
   "outputs": [
    {
     "data": {
      "text/plain": "array(['QSO', 'GALAXY', 'QSO', ..., 'QSO', 'GALAXY', 'QSO'], dtype='<U6')"
     },
     "execution_count": 25,
     "metadata": {},
     "output_type": "execute_result"
    }
   ],
   "source": [
    "predict = gnb.predict(X_test)\n",
    "predict"
   ]
  },
  {
   "cell_type": "code",
   "execution_count": 26,
   "id": "a38cb355",
   "metadata": {},
   "outputs": [
    {
     "name": "stdout",
     "output_type": "stream",
     "text": [
      "              precision    recall  f1-score   support\n",
      "\n",
      "      GALAXY       0.96      0.89      0.92     11958\n",
      "         QSO       0.73      0.88      0.80      3744\n",
      "        STAR       0.98      0.99      0.98      4298\n",
      "\n",
      "    accuracy                           0.91     20000\n",
      "   macro avg       0.89      0.92      0.90     20000\n",
      "weighted avg       0.92      0.91      0.91     20000\n",
      "\n"
     ]
    }
   ],
   "source": [
    "accuracy_score(y_test, predict)\n",
    "\n",
    "print(classification_report(y_test, predict))"
   ]
  },
  {
   "cell_type": "markdown",
   "id": "144fccbf",
   "metadata": {},
   "source": [
    "### 3.3.4 Modelo #4: SVC <a class=\"anchor\" id=\"section-3-3-4\"></a>\n",
    "[Voltar ao topo](#section-0)"
   ]
  },
  {
   "cell_type": "code",
   "execution_count": 27,
   "id": "a09c6fed",
   "metadata": {},
   "outputs": [],
   "source": [
    "from sklearn.svm import SVC\n",
    "from sklearn.metrics import classification_report"
   ]
  },
  {
   "cell_type": "code",
   "execution_count": 28,
   "id": "8da4d7cc",
   "metadata": {},
   "outputs": [
    {
     "data": {
      "text/plain": "SVC(class_weight='balanced')",
      "text/html": "<style>#sk-container-id-2 {color: black;background-color: white;}#sk-container-id-2 pre{padding: 0;}#sk-container-id-2 div.sk-toggleable {background-color: white;}#sk-container-id-2 label.sk-toggleable__label {cursor: pointer;display: block;width: 100%;margin-bottom: 0;padding: 0.3em;box-sizing: border-box;text-align: center;}#sk-container-id-2 label.sk-toggleable__label-arrow:before {content: \"▸\";float: left;margin-right: 0.25em;color: #696969;}#sk-container-id-2 label.sk-toggleable__label-arrow:hover:before {color: black;}#sk-container-id-2 div.sk-estimator:hover label.sk-toggleable__label-arrow:before {color: black;}#sk-container-id-2 div.sk-toggleable__content {max-height: 0;max-width: 0;overflow: hidden;text-align: left;background-color: #f0f8ff;}#sk-container-id-2 div.sk-toggleable__content pre {margin: 0.2em;color: black;border-radius: 0.25em;background-color: #f0f8ff;}#sk-container-id-2 input.sk-toggleable__control:checked~div.sk-toggleable__content {max-height: 200px;max-width: 100%;overflow: auto;}#sk-container-id-2 input.sk-toggleable__control:checked~label.sk-toggleable__label-arrow:before {content: \"▾\";}#sk-container-id-2 div.sk-estimator input.sk-toggleable__control:checked~label.sk-toggleable__label {background-color: #d4ebff;}#sk-container-id-2 div.sk-label input.sk-toggleable__control:checked~label.sk-toggleable__label {background-color: #d4ebff;}#sk-container-id-2 input.sk-hidden--visually {border: 0;clip: rect(1px 1px 1px 1px);clip: rect(1px, 1px, 1px, 1px);height: 1px;margin: -1px;overflow: hidden;padding: 0;position: absolute;width: 1px;}#sk-container-id-2 div.sk-estimator {font-family: monospace;background-color: #f0f8ff;border: 1px dotted black;border-radius: 0.25em;box-sizing: border-box;margin-bottom: 0.5em;}#sk-container-id-2 div.sk-estimator:hover {background-color: #d4ebff;}#sk-container-id-2 div.sk-parallel-item::after {content: \"\";width: 100%;border-bottom: 1px solid gray;flex-grow: 1;}#sk-container-id-2 div.sk-label:hover label.sk-toggleable__label {background-color: #d4ebff;}#sk-container-id-2 div.sk-serial::before {content: \"\";position: absolute;border-left: 1px solid gray;box-sizing: border-box;top: 0;bottom: 0;left: 50%;z-index: 0;}#sk-container-id-2 div.sk-serial {display: flex;flex-direction: column;align-items: center;background-color: white;padding-right: 0.2em;padding-left: 0.2em;position: relative;}#sk-container-id-2 div.sk-item {position: relative;z-index: 1;}#sk-container-id-2 div.sk-parallel {display: flex;align-items: stretch;justify-content: center;background-color: white;position: relative;}#sk-container-id-2 div.sk-item::before, #sk-container-id-2 div.sk-parallel-item::before {content: \"\";position: absolute;border-left: 1px solid gray;box-sizing: border-box;top: 0;bottom: 0;left: 50%;z-index: -1;}#sk-container-id-2 div.sk-parallel-item {display: flex;flex-direction: column;z-index: 1;position: relative;background-color: white;}#sk-container-id-2 div.sk-parallel-item:first-child::after {align-self: flex-end;width: 50%;}#sk-container-id-2 div.sk-parallel-item:last-child::after {align-self: flex-start;width: 50%;}#sk-container-id-2 div.sk-parallel-item:only-child::after {width: 0;}#sk-container-id-2 div.sk-dashed-wrapped {border: 1px dashed gray;margin: 0 0.4em 0.5em 0.4em;box-sizing: border-box;padding-bottom: 0.4em;background-color: white;}#sk-container-id-2 div.sk-label label {font-family: monospace;font-weight: bold;display: inline-block;line-height: 1.2em;}#sk-container-id-2 div.sk-label-container {text-align: center;}#sk-container-id-2 div.sk-container {/* jupyter's `normalize.less` sets `[hidden] { display: none; }` but bootstrap.min.css set `[hidden] { display: none !important; }` so we also need the `!important` here to be able to override the default hidden behavior on the sphinx rendered scikit-learn.org. See: https://github.com/scikit-learn/scikit-learn/issues/21755 */display: inline-block !important;position: relative;}#sk-container-id-2 div.sk-text-repr-fallback {display: none;}</style><div id=\"sk-container-id-2\" class=\"sk-top-container\"><div class=\"sk-text-repr-fallback\"><pre>SVC(class_weight=&#x27;balanced&#x27;)</pre><b>In a Jupyter environment, please rerun this cell to show the HTML representation or trust the notebook. <br />On GitHub, the HTML representation is unable to render, please try loading this page with nbviewer.org.</b></div><div class=\"sk-container\" hidden><div class=\"sk-item\"><div class=\"sk-estimator sk-toggleable\"><input class=\"sk-toggleable__control sk-hidden--visually\" id=\"sk-estimator-id-2\" type=\"checkbox\" checked><label for=\"sk-estimator-id-2\" class=\"sk-toggleable__label sk-toggleable__label-arrow\">SVC</label><div class=\"sk-toggleable__content\"><pre>SVC(class_weight=&#x27;balanced&#x27;)</pre></div></div></div></div></div>"
     },
     "execution_count": 28,
     "metadata": {},
     "output_type": "execute_result"
    }
   ],
   "source": [
    "model = SVC(class_weight='balanced', kernel='rbf', gamma='scale')\n",
    "model.fit(X_train, y_train)"
   ]
  },
  {
   "cell_type": "code",
   "execution_count": 29,
   "id": "4ded29fc",
   "metadata": {},
   "outputs": [],
   "source": [
    "y_pred = model.predict(X_test)"
   ]
  },
  {
   "cell_type": "code",
   "execution_count": 30,
   "id": "04fa9f1d",
   "metadata": {},
   "outputs": [
    {
     "name": "stdout",
     "output_type": "stream",
     "text": [
      "              precision    recall  f1-score   support\n",
      "\n",
      "      GALAXY       0.98      0.95      0.97     11958\n",
      "         QSO       0.94      0.93      0.94      3744\n",
      "        STAR       0.92      1.00      0.96      4298\n",
      "\n",
      "    accuracy                           0.96     20000\n",
      "   macro avg       0.95      0.96      0.95     20000\n",
      "weighted avg       0.96      0.96      0.96     20000\n",
      "\n"
     ]
    }
   ],
   "source": [
    "print(classification_report(y_test, y_pred))"
   ]
  },
  {
   "cell_type": "markdown",
   "id": "2288dd08",
   "metadata": {},
   "source": [
    "### 3.3.5 Modelo #5: KNN <a class=\"anchor\" id=\"section-3-3-5\"></a>\n",
    "[Voltar ao topo](#section-0)"
   ]
  },
  {
   "cell_type": "code",
   "execution_count": 31,
   "id": "70151537",
   "metadata": {},
   "outputs": [
    {
     "name": "stdout",
     "output_type": "stream",
     "text": [
      "              precision    recall  f1-score   support\n",
      "\n",
      "      GALAXY       0.93      0.96      0.95     11958\n",
      "         QSO       0.96      0.90      0.93      3744\n",
      "        STAR       0.91      0.88      0.90      4298\n",
      "\n",
      "    accuracy                           0.93     20000\n",
      "   macro avg       0.94      0.91      0.92     20000\n",
      "weighted avg       0.93      0.93      0.93     20000\n",
      "\n"
     ]
    }
   ],
   "source": [
    "from sklearn.neighbors import KNeighborsClassifier\n",
    "\n",
    "knn_model = KNeighborsClassifier()\n",
    "knn_model.fit(X_train, y_train)\n",
    "\n",
    "y_pred = knn_model.predict(X_test)\n",
    "\n",
    "print(classification_report(y_test, y_pred))"
   ]
  },
  {
   "cell_type": "code",
   "execution_count": 32,
   "outputs": [
    {
     "data": {
      "text/plain": "<sklearn.metrics._plot.confusion_matrix.ConfusionMatrixDisplay at 0x7fa5e59f0410>"
     },
     "execution_count": 32,
     "metadata": {},
     "output_type": "execute_result"
    },
    {
     "data": {
      "text/plain": "<Figure size 640x480 with 2 Axes>",
      "image/png": "[encoded data removed]"
     },
     "metadata": {},
     "output_type": "display_data"
    }
   ],
   "source": [
    "plot_confusion_matrix(knn_model, X_test, y_test)"
   ],
   "metadata": {
    "collapsed": false
   }
  }
 ],
 "metadata": {
  "kernelspec": {
   "display_name": "Python 3.8.10 64-bit",
   "language": "python",
   "name": "python3"
  },
  "language_info": {
   "codemirror_mode": {
    "name": "ipython",
    "version": 3
   },
   "file_extension": ".py",
   "mimetype": "text/x-python",
   "name": "python",
   "nbconvert_exporter": "python",
   "pygments_lexer": "ipython3",
   "version": "3.8.10"
  },
  "vscode": {
   "interpreter": {
    "hash": "916dbcbb3f70747c44a77c7bcd40155683ae19c65e1c03b4aa3499c5328201f1"
   }
  }
 },
 "nbformat": 4,
 "nbformat_minor": 5
}
