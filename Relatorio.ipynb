{
 "cells": [
  {
   "cell_type": "markdown",
   "id": "30b66fdd",
   "metadata": {},
   "source": [
    "<a class=\"anchor\" id=\"section-0\"></a>\n",
    "<img src=\"https://i.imgur.com/lTCPbz0.jpeg\" alt='logo puc-sp' width='30%' align='left'>\n",
    "\n",
    "### Pontifícia Universidade Católica de São Paulo (PUC-SP)\n",
    "\n",
    "<h1 style=font-size:30px>StellarClassification</h1>\n",
    "\n",
    "\n",
    "### Bacharelado em Ciência de Dados e Inteligência Artificial\n",
    "\n",
    "#### Turma: CDIA21-MA\n",
    "\n",
    "**Professor:** Jefferson de Oliveira Silva\n",
    "\n",
    "**Alunos:**\n",
    "\n",
    "<table align=\"left\" style=font-size:15px>\n",
    "<thead>\n",
    "  <tr>\n",
    "    <th style=\"text-align:left;\">Nome</th>\n",
    "    <th style=\"text-align:left;\">RA</th>\n",
    "    <th></th>\n",
    "  </tr>\n",
    "</thead>\n",
    "<tbody>\n",
    "  <tr>\n",
    "    <td style=\"text-align:left;\">Carlos Eduardo de Oliveira</td>\n",
    "    <td>RA00297792</td>\n",
    "    <td></td>\n",
    "  </tr>\n",
    "  <tr>\n",
    "    <td style=\"text-align:left;\">Gustavo Schlieper Tessitore</td>\n",
    "    <td>RA00297844</td>\n",
    "    <td></td>\n",
    "  </tr>\n",
    "  <tr>\n",
    "    <td style=\"text-align:left;\">Isaac Higuchi</td>\n",
    "    <td>RA00306191</td>\n",
    "    <td></td>\n",
    "  </tr>\n",
    "  <tr>\n",
    "    <td style=\"text-align:left;\">João Pedro Taves Araujo</td>\n",
    "    <td>RA00297753</td>\n",
    "    <td></td>\n",
    "  </tr>\n",
    "  <tr>\n",
    "    <td style=\"text-align:left;\">Lucas Lopes Amorim</td>\n",
    "    <td>RA00303799</td>\n",
    "    <td></td>\n",
    "  </tr>\n",
    "  <tr>\n",
    "    <td style=\"text-align:left;\">Thiago de Jesus Carvalho</td>\n",
    "    <td>RA00297792</td>\n",
    "    <td></td>\n",
    "  </tr>\n",
    "</tbody>\n",
    "</table>"
   ]
  },
  {
   "cell_type": "markdown",
   "id": "043f026a",
   "metadata": {},
   "source": [
    "<h3><b>Estrutura:</b></h3>\n",
    "<ol>\n",
    "   <li><a href=\"#section-1\">Contextualização</a></li>\n",
    "   <li><a href=\"#section-2\">Objetivo do Trabalho</a></li>\n",
    "   <li>\n",
    "      <a href=\"#section-3\">Método</a>\n",
    "      <ol style=\"list-style: none; padding-left: 10px\">\n",
    "         <li>3.1. <a href=\"#section-3-1\">Entendimento dos Dados</a></li>\n",
    "         <li>3.2. <a href=\"#section-3-2\">Preparação dos Dados</a></li>\n",
    "         <ol style=\"list-style: none; padding-left: 20px\">\n",
    "            <li>3.2.1 <a href=\"#section-3-2-1\">Gerando novos atributos</a></li>\n",
    "            <li>3.2.2 <a href=\"#section-3-2-2\">Tratando variáveis categórias</a></li>\n",
    "         </ol>\n",
    "         <li>3.3. <a href=\"#section-3-3\">Modelagem</a></li>\n",
    "         <ol style=\"list-style: none; padding-left: 20px\">\n",
    "            <li>3.3.1 <a href=\"#section-3-3-1\">Modelo #1: Árvore de Decisão</a></li>\n",
    "            <li>3.3.2 <a href=\"#section-3-3-2\">Modelo #2: Floresta Aleatória de Classificação</a></li>\n",
    "            <li>3.3.3 <a href=\"#section-3-3-3\">Modelo #3: Naive Bayes</a></li>\n",
    "            <li>3.3.4 <a href=\"#section-3-3-4\">Modelo #4: SVC</a></li>\n",
    "            <li>3.3.5 <a href=\"#section-3-3-5\">Modelo #5: KNN</a></li>\n",
    "         </ol>\n",
    "      </ol>\n",
    "   </li>\n",
    "   <li><a href=\"#section-4\">Limitações</a></li>\n",
    "   <li><a href=\"#section-5\">Conclusões</a></li>\n",
    "</ol>\n",
    "<p><a href=\"#section-n\">Referências</a></p>"
   ]
  },
  {
   "cell_type": "markdown",
   "id": "4e5fd374",
   "metadata": {},
   "source": [
    "# 1. Contextualização <a class=\"anchor\" id=\"section-1\"></a>\n",
    "[Voltar ao topo](#section-0)"
   ]
  },
  {
   "cell_type": "markdown",
   "id": "11f68912",
   "metadata": {},
   "source": [
    "# 2. Objetivo do Trabalho <a class=\"anchor\" id=\"section-2\"></a>\n",
    "[Voltar ao topo](#section-0)"
   ]
  },
  {
   "cell_type": "markdown",
   "id": "3730e2f3",
   "metadata": {},
   "source": [
    "# 3. Método <a class=\"anchor\" id=\"section-3\"></a>\n",
    "[Voltar ao topo](#section-0)"
   ]
  },
  {
   "cell_type": "markdown",
   "id": "5eabe99c",
   "metadata": {},
   "source": [
    "## 3.1 Entendimento dos Dados <a class=\"anchor\" id=\"section-3-1\"></a>\n",
    "[Voltar ao topo](#section-0)"
   ]
  },
  {
   "cell_type": "markdown",
   "id": "2dd79ed7",
   "metadata": {},
   "source": [
    "### Descrição das colunas do Dataset original"
   ]
  },
  {
   "cell_type": "markdown",
   "id": "9668d776",
   "metadata": {},
   "source": [
    "<table>\n",
    "    <thead>\n",
    "        <tr>\n",
    "            <th style=\"text-align: center\">Column</th>\n",
    "            <th style=\"width: 500px;text-align: left\">Description</th>\n",
    "        </tr>\n",
    "    </thead>\n",
    "    <tbody>\n",
    "        <tr>\n",
    "            <td style=\"text-align: center\">obj_ID</td>\n",
    "            <td style=\"text-align: left\">Object Identifier, the unique value that identifies the object in the image catalog used by the CAS</td>\n",
    "        </tr>\n",
    "        <tr>\n",
    "            <td style=\"text-align: center\">alpha</td>\n",
    "            <td style=\"text-align: left\">Right Ascension angle (at J2000 epoch)</td>\n",
    "        </tr>\n",
    "        <tr>\n",
    "            <td style=\"text-align: center\">delta</td>\n",
    "            <td style=\"text-align: left\">Declination angle (at J2000 epoch)</td>\n",
    "        </tr>\n",
    "        <tr>\n",
    "            <td style=\"text-align: center\">u</td>\n",
    "            <td style=\"text-align: left\">Ultraviolet filter in the photometric system</td>\n",
    "        </tr>\n",
    "        <tr>\n",
    "            <td style=\"text-align: center\">g</td>\n",
    "            <td style=\"text-align: left\">Green filter in the photometric system</td>\n",
    "        </tr>\n",
    "        <tr>\n",
    "            <td style=\"text-align: center\">r</td>\n",
    "            <td style=\"text-align: left\">Red filter in the photometric system</td>\n",
    "        </tr>\n",
    "        <tr>\n",
    "            <td style=\"text-align: center\">i</td>\n",
    "            <td style=\"text-align: left\">Near Infrared filter in the photometric system</td>\n",
    "        </tr>\n",
    "        <tr>\n",
    "            <td style=\"text-align: center\">z</td>\n",
    "            <td style=\"text-align: left\">Infrared filter in the photometric system</td>\n",
    "        </tr>\n",
    "        <tr>\n",
    "            <td style=\"text-align: center\">run_ID</td>\n",
    "            <td style=\"text-align: left\">Run Number used to identify the specific scan</td>\n",
    "        </tr>\n",
    "        <tr>\n",
    "            <td style=\"text-align: center\">rereun_ID</td>\n",
    "            <td style=\"text-align: left\">Rerun Number to specify how the image was processed</td>\n",
    "        </tr>\n",
    "        <tr>\n",
    "            <td style=\"text-align: center\">cam_col</td>\n",
    "            <td style=\"text-align: left\">Camera column to identify the scanline within the run</td>\n",
    "        </tr>\n",
    "        <tr>\n",
    "            <td style=\"text-align: center\">field_ID</td>\n",
    "            <td style=\"text-align: left\">Field number to identify each field</td>\n",
    "        </tr>\n",
    "        <tr>\n",
    "            <td style=\"text-align: center\">spec_obj_ID</td>\n",
    "            <td style=\"text-align: left\">Unique ID used for optical spectroscopic objects (this means that 2 different observations with the same spec_obj_ID must share the output class)</td>\n",
    "        </tr>\n",
    "        <tr>\n",
    "            <td style=\"text-align: center\">class</td>\n",
    "            <td style=\"text-align: left\">object class (galaxy, star or quasar object)</td>\n",
    "        </tr>\n",
    "        <tr>\n",
    "            <td style=\"text-align: center\">redshift</td>\n",
    "            <td style=\"text-align: left\">redshift value based on the increase in wavelength</td>\n",
    "        </tr>\n",
    "        <tr>\n",
    "            <td style=\"text-align: center\">plate</td>\n",
    "            <td style=\"text-align: left\">plate ID, identifies each plate in SDSS</td>\n",
    "        </tr>\n",
    "        <tr>\n",
    "            <td style=\"text-align: center\">MJD</td>\n",
    "            <td style=\"text-align: left\">Modified Julian Date, used to indicate when a given piece of SDSS data was taken</td>\n",
    "        </tr>\n",
    "        <tr>\n",
    "            <td style=\"text-align: center\">fiber_ID</td>\n",
    "            <td style=\"text-align: left\">fiber ID that identifies the fiber that pointed the light at the focal plane in each observation</td>\n",
    "        </tr>\n",
    "    </tbody>\n",
    "</table>"
   ]
  },
  {
   "cell_type": "markdown",
   "id": "2645bb1b",
   "metadata": {},
   "source": [
    "### Descrição das variáveis que nós iremos usar"
   ]
  },
  {
   "cell_type": "markdown",
   "id": "4ca9a2b0",
   "metadata": {},
   "source": [
    "<table>\n",
    "    <thead>\n",
    "        <tr>\n",
    "            <th style=\"text-align: center\">Variable</th>\n",
    "            <th style=\"width: 600px;text-align: left\">Description</th>\n",
    "        </tr>\n",
    "    </thead>\n",
    "    <tbody >\n",
    "        <tr>\n",
    "            <td style=\"text-align: center\">X</td>\n",
    "            <td style=\"text-align: left\">Features do dataset original, excluídas as features de ID, SEM nenhum preprocessamento</td>\n",
    "        </tr>\n",
    "        <tr>\n",
    "            <td style=\"text-align: center\">y</td>\n",
    "            <td style=\"text-align: left\">Target do dataset original</td>\n",
    "        </tr>\n",
    "        <tr>\n",
    "            <td style=\"text-align: center\">X_train_full</td>\n",
    "            <td style=\"text-align: left\">Features de treino, excluídas as features de ID, SEM nenhum preprocessamento, após o train_test_split</td>\n",
    "        </tr>\n",
    "        <tr>\n",
    "            <td style=\"text-align: center\">X_test_full</td>\n",
    "            <td style=\"text-align: left\">Features de teste, excluídas as features de ID, SEM nenhum preprocessamento, após o train_test_split</td>\n",
    "        </tr>\n",
    "        <tr>\n",
    "            <td style=\"text-align: center\">X_train</td>\n",
    "            <td style=\"text-align: left\">Features de treino, excluídas as features de ID, COM preprocessamento, após o train_test_split</td>\n",
    "        </tr>\n",
    "        <tr>\n",
    "            <td style=\"text-align: center\">X_test</td>\n",
    "            <td style=\"text-align: left\">Features de treino, excluídas as features de ID, COM preprocessamento, após o train_test_split</td>\n",
    "        </tr>\n",
    "        <tr>\n",
    "            <td style=\"text-align: center\">y_train</td>\n",
    "            <td style=\"text-align: left\">Target de treino, SEM nenhum preprocessamento</td>\n",
    "        </tr>\n",
    "        <tr>\n",
    "            <td style=\"text-align: center\">y_test</td>\n",
    "            <td style=\"text-align: left\">Target de teste, SEM nenhum preprocessamento</td>\n",
    "        </tr>\n",
    "        <tr>\n",
    "            <td style=\"text-align: center\">X_train_oversam</td>\n",
    "            <td style=\"text-align: left\">Features de treino, excluídas as features de ID, COM preprocessamento e COM OVERSAMPLE, após o train_test_split</td>\n",
    "        </tr>\n",
    "        <tr>\n",
    "            <td style=\"text-align: center\">y_train_oversam</td>\n",
    "            <td style=\"text-align: left\">Target de treino, SEM nenhum preprocessamento, COM OVERSAMPLE</td>\n",
    "        </tr>\n",
    "        <tr>\n",
    "            <td style=\"text-align: center\">X_train_undersam</td>\n",
    "            <td style=\"text-align: left\">Features de treino, excluídas as features de ID, COM preprocessamento e COM UNDERSAMPLE, após o train_test_split</td>\n",
    "        </tr>\n",
    "        <tr>\n",
    "            <td style=\"text-align: center\">y_train_undersam</td>\n",
    "            <td style=\"text-align: left\">Target de treino, SEM nenhum preprocessamento, COM UNDERSAMPLE</td>\n",
    "        </tr>\n",
    "    </tbody>\n",
    "</table>"
   ]
  },
  {
   "cell_type": "markdown",
   "id": "913e428c",
   "metadata": {},
   "source": [
    "## 3.2 Preparação dos Dados <a class=\"anchor\" id=\"section-3-2\"></a>\n",
    "[Voltar ao topo](#section-0)"
   ]
  },
  {
   "cell_type": "code",
   "execution_count": 1,
   "id": "855c3208",
   "metadata": {},
   "outputs": [
    {
     "name": "stderr",
     "output_type": "stream",
     "text": [
      "C:\\Users\\lucas\\anaconda3\\lib\\site-packages\\scipy\\__init__.py:146: UserWarning: A NumPy version >=1.16.5 and <1.23.0 is required for this version of SciPy (detected version 1.23.4\n",
      "  warnings.warn(f\"A NumPy version >={np_minversion} and <{np_maxversion}\"\n"
     ]
    }
   ],
   "source": [
    "# Para manipulação dos dados\n",
    "import pandas as pd\n",
    "import numpy as np\n",
    "\n",
    "# Para Dataviz\n",
    "import matplotlib.pyplot as plt\n",
    "import seaborn as sns\n",
    "\n",
    "# Para criação do nosso pipeline\n",
    "from sklearn.compose import ColumnTransformer\n",
    "\n",
    "# Para tratamentos de dados\n",
    "from sklearn.preprocessing import StandardScaler, OrdinalEncoder\n",
    "\n",
    "# Para separação em treino e teste\n",
    "from sklearn.model_selection import train_test_split\n",
    "\n",
    "# Para aplicar resamplings\n",
    "from imblearn.over_sampling import RandomOverSampler\n",
    "from imblearn.under_sampling import RandomUnderSampler\n",
    "\n",
    "# Para ignorar mensagens de warnings\n",
    "import warnings\n",
    "warnings.filterwarnings('ignore')"
   ]
  },
  {
   "cell_type": "code",
   "execution_count": 2,
   "id": "0a93e62f",
   "metadata": {},
   "outputs": [
    {
     "data": {
      "text/html": [
       "<div>\n",
       "<style scoped>\n",
       "    .dataframe tbody tr th:only-of-type {\n",
       "        vertical-align: middle;\n",
       "    }\n",
       "\n",
       "    .dataframe tbody tr th {\n",
       "        vertical-align: top;\n",
       "    }\n",
       "\n",
       "    .dataframe thead th {\n",
       "        text-align: right;\n",
       "    }\n",
       "</style>\n",
       "<table border=\"1\" class=\"dataframe\">\n",
       "  <thead>\n",
       "    <tr style=\"text-align: right;\">\n",
       "      <th></th>\n",
       "      <th>obj_ID</th>\n",
       "      <th>alpha</th>\n",
       "      <th>delta</th>\n",
       "      <th>u</th>\n",
       "      <th>g</th>\n",
       "      <th>r</th>\n",
       "      <th>i</th>\n",
       "      <th>z</th>\n",
       "      <th>run_ID</th>\n",
       "      <th>rerun_ID</th>\n",
       "      <th>cam_col</th>\n",
       "      <th>field_ID</th>\n",
       "      <th>spec_obj_ID</th>\n",
       "      <th>class</th>\n",
       "      <th>redshift</th>\n",
       "      <th>plate</th>\n",
       "      <th>MJD</th>\n",
       "      <th>fiber_ID</th>\n",
       "    </tr>\n",
       "  </thead>\n",
       "  <tbody>\n",
       "    <tr>\n",
       "      <th>0</th>\n",
       "      <td>1.237661e+18</td>\n",
       "      <td>135.689107</td>\n",
       "      <td>32.494632</td>\n",
       "      <td>23.87882</td>\n",
       "      <td>22.27530</td>\n",
       "      <td>20.39501</td>\n",
       "      <td>19.16573</td>\n",
       "      <td>18.79371</td>\n",
       "      <td>3606</td>\n",
       "      <td>301</td>\n",
       "      <td>2</td>\n",
       "      <td>79</td>\n",
       "      <td>6.543777e+18</td>\n",
       "      <td>GALAXY</td>\n",
       "      <td>0.634794</td>\n",
       "      <td>5812</td>\n",
       "      <td>56354</td>\n",
       "      <td>171</td>\n",
       "    </tr>\n",
       "    <tr>\n",
       "      <th>1</th>\n",
       "      <td>1.237665e+18</td>\n",
       "      <td>144.826101</td>\n",
       "      <td>31.274185</td>\n",
       "      <td>24.77759</td>\n",
       "      <td>22.83188</td>\n",
       "      <td>22.58444</td>\n",
       "      <td>21.16812</td>\n",
       "      <td>21.61427</td>\n",
       "      <td>4518</td>\n",
       "      <td>301</td>\n",
       "      <td>5</td>\n",
       "      <td>119</td>\n",
       "      <td>1.176014e+19</td>\n",
       "      <td>GALAXY</td>\n",
       "      <td>0.779136</td>\n",
       "      <td>10445</td>\n",
       "      <td>58158</td>\n",
       "      <td>427</td>\n",
       "    </tr>\n",
       "    <tr>\n",
       "      <th>2</th>\n",
       "      <td>1.237661e+18</td>\n",
       "      <td>142.188790</td>\n",
       "      <td>35.582444</td>\n",
       "      <td>25.26307</td>\n",
       "      <td>22.66389</td>\n",
       "      <td>20.60976</td>\n",
       "      <td>19.34857</td>\n",
       "      <td>18.94827</td>\n",
       "      <td>3606</td>\n",
       "      <td>301</td>\n",
       "      <td>2</td>\n",
       "      <td>120</td>\n",
       "      <td>5.152200e+18</td>\n",
       "      <td>GALAXY</td>\n",
       "      <td>0.644195</td>\n",
       "      <td>4576</td>\n",
       "      <td>55592</td>\n",
       "      <td>299</td>\n",
       "    </tr>\n",
       "    <tr>\n",
       "      <th>3</th>\n",
       "      <td>1.237663e+18</td>\n",
       "      <td>338.741038</td>\n",
       "      <td>-0.402828</td>\n",
       "      <td>22.13682</td>\n",
       "      <td>23.77656</td>\n",
       "      <td>21.61162</td>\n",
       "      <td>20.50454</td>\n",
       "      <td>19.25010</td>\n",
       "      <td>4192</td>\n",
       "      <td>301</td>\n",
       "      <td>3</td>\n",
       "      <td>214</td>\n",
       "      <td>1.030107e+19</td>\n",
       "      <td>GALAXY</td>\n",
       "      <td>0.932346</td>\n",
       "      <td>9149</td>\n",
       "      <td>58039</td>\n",
       "      <td>775</td>\n",
       "    </tr>\n",
       "    <tr>\n",
       "      <th>4</th>\n",
       "      <td>1.237680e+18</td>\n",
       "      <td>345.282593</td>\n",
       "      <td>21.183866</td>\n",
       "      <td>19.43718</td>\n",
       "      <td>17.58028</td>\n",
       "      <td>16.49747</td>\n",
       "      <td>15.97711</td>\n",
       "      <td>15.54461</td>\n",
       "      <td>8102</td>\n",
       "      <td>301</td>\n",
       "      <td>3</td>\n",
       "      <td>137</td>\n",
       "      <td>6.891865e+18</td>\n",
       "      <td>GALAXY</td>\n",
       "      <td>0.116123</td>\n",
       "      <td>6121</td>\n",
       "      <td>56187</td>\n",
       "      <td>842</td>\n",
       "    </tr>\n",
       "  </tbody>\n",
       "</table>\n",
       "</div>"
      ],
      "text/plain": [
       "         obj_ID       alpha      delta         u         g         r  \\\n",
       "0  1.237661e+18  135.689107  32.494632  23.87882  22.27530  20.39501   \n",
       "1  1.237665e+18  144.826101  31.274185  24.77759  22.83188  22.58444   \n",
       "2  1.237661e+18  142.188790  35.582444  25.26307  22.66389  20.60976   \n",
       "3  1.237663e+18  338.741038  -0.402828  22.13682  23.77656  21.61162   \n",
       "4  1.237680e+18  345.282593  21.183866  19.43718  17.58028  16.49747   \n",
       "\n",
       "          i         z  run_ID  rerun_ID  cam_col  field_ID   spec_obj_ID  \\\n",
       "0  19.16573  18.79371    3606       301        2        79  6.543777e+18   \n",
       "1  21.16812  21.61427    4518       301        5       119  1.176014e+19   \n",
       "2  19.34857  18.94827    3606       301        2       120  5.152200e+18   \n",
       "3  20.50454  19.25010    4192       301        3       214  1.030107e+19   \n",
       "4  15.97711  15.54461    8102       301        3       137  6.891865e+18   \n",
       "\n",
       "    class  redshift  plate    MJD  fiber_ID  \n",
       "0  GALAXY  0.634794   5812  56354       171  \n",
       "1  GALAXY  0.779136  10445  58158       427  \n",
       "2  GALAXY  0.644195   4576  55592       299  \n",
       "3  GALAXY  0.932346   9149  58039       775  \n",
       "4  GALAXY  0.116123   6121  56187       842  "
      ]
     },
     "execution_count": 2,
     "metadata": {},
     "output_type": "execute_result"
    }
   ],
   "source": [
    "df = pd.read_csv('data/star_classification.csv')\n",
    "df.head()"
   ]
  },
  {
   "cell_type": "code",
   "execution_count": 3,
   "id": "846fa452",
   "metadata": {},
   "outputs": [],
   "source": [
    "# Making a copy of df and droping ID colums\n",
    "raw_df = df.copy()\n",
    "df = df.drop(['obj_ID', 'run_ID', 'rerun_ID', 'field_ID', 'spec_obj_ID', 'fiber_ID'], axis=1)"
   ]
  },
  {
   "cell_type": "code",
   "execution_count": 4,
   "id": "8fed6c65",
   "metadata": {},
   "outputs": [],
   "source": [
    "X, y = df.drop('class', axis=1), df['class']"
   ]
  },
  {
   "cell_type": "code",
   "execution_count": 5,
   "id": "439d4d51",
   "metadata": {},
   "outputs": [],
   "source": [
    "X_train_full, X_test_full, y_train, y_test = train_test_split(X , y, test_size=0.2, stratify=y)"
   ]
  },
  {
   "cell_type": "markdown",
   "id": "dc31a05c",
   "metadata": {},
   "source": [
    "## 3.3 Selecionando features <a class=\"anchor\" id=\"section-3-3\"></a>\n",
    "[Voltar ao topo](#section-0)"
   ]
  },
  {
   "cell_type": "markdown",
   "id": "a0217530",
   "metadata": {},
   "source": [
    "Vamos selecionar as features com os dados em sua distribuição padrão e com base no modelo RandomForest"
   ]
  },
  {
   "cell_type": "code",
   "execution_count": 6,
   "id": "571f640a",
   "metadata": {},
   "outputs": [],
   "source": [
    "from sklearn.ensemble import RandomForestClassifier\n",
    "from sklearn.feature_selection import SelectFromModel, RFECV\n",
    "from sklearn.model_selection import StratifiedKFold"
   ]
  },
  {
   "cell_type": "code",
   "execution_count": 11,
   "id": "8b9dd6a9",
   "metadata": {},
   "outputs": [],
   "source": [
    "def plot_selection_from_model(model_, X, y, scoring=\"accuracy\", min_features_to_select=1):\n",
    "    model_.fit(X_train_full, y_train)\n",
    "    \n",
    "    fs_model = SelectFromModel(model_, prefit=True)\n",
    "    \n",
    "    X_new = fs_model.fit_transform(X_train_full)\n",
    "    \n",
    "    features_to_select = fs_model.get_feature_names_out()\n",
    "    \n",
    "    print(f'Features to select: {features_to_select}')\n",
    "    \n",
    "    feat_import_df = pd.DataFrame(\n",
    "        {'feat': model_.feature_names_in_, 'importance': model_.feature_importances_}\n",
    "    ).sort_values('importance', ascending=False).reset_index(drop=True)\n",
    "\n",
    "    feat_import_df['choice'] = np.where(feat_import_df['feat'].isin(fs_model.get_feature_names_out()), 'to select', 'to drop')\n",
    "    \n",
    "    plt.figure(figsize=(10, 6))\n",
    "    plt.suptitle('SelectFromModel feature choices', size=14, weight='bold')\n",
    "    sns.barplot(data=feat_import_df, y='feat', x='importance', hue='choice')\n",
    "    plt.ylabel('feature')\n",
    "    plt.xlabel('RandomForest.feature_importances_')\n",
    "    plt.show()\n",
    "    \n",
    "    return fs_model"
   ]
  },
  {
   "cell_type": "code",
   "execution_count": 6,
   "id": "12c652cc",
   "metadata": {},
   "outputs": [],
   "source": [
    "X, y = df.drop('class', axis=1), df['class']"
   ]
  },
  {
   "cell_type": "code",
   "execution_count": 7,
   "id": "2ace6138",
   "metadata": {},
   "outputs": [],
   "source": [
    "X_train_full, X_test_full, y_train, y_test = train_test_split(X , y, test_size=0.2, stratify=y)"
   ]
  },
  {
   "cell_type": "code",
   "execution_count": 13,
   "id": "8e8aebdd",
   "metadata": {},
   "outputs": [
    {
     "name": "stdout",
     "output_type": "stream",
     "text": [
      "Features to select: ['redshift']\n"
     ]
    },
    {
     "data": {
      "image/png": "[encoded data removed]",
      "text/plain": [
       "<Figure size 720x432 with 1 Axes>"
      ]
     },
     "metadata": {
      "needs_background": "light"
     },
     "output_type": "display_data"
    }
   ],
   "source": [
    "%%time\n",
    "fs_model = plot_selection_from_model(RandomForestClassifier(random_state=42), X_train_full, y_train)"
   ]
  },
  {
   "cell_type": "code",
   "execution_count": 8,
   "id": "79a7dccf",
   "metadata": {},
   "outputs": [],
   "source": [
    "base_fs_model = RandomForestClassifier(random_state=42)"
   ]
  },
  {
   "cell_type": "markdown",
   "id": "928dc4c8",
   "metadata": {},
   "source": [
    "Vamos calcular a acurácia do estimador com as features selecionadas para o conjunto de teste"
   ]
  },
  {
   "cell_type": "code",
   "execution_count": 15,
   "id": "d5fd66f6",
   "metadata": {},
   "outputs": [
    {
     "data": {
      "text/plain": [
       "0.9209"
      ]
     },
     "execution_count": 15,
     "metadata": {},
     "output_type": "execute_result"
    }
   ],
   "source": [
    "fs_sample_model = RandomForestClassifier(random_state=42).fit(X_train_full[fs_model.get_feature_names_out()], y_train)\n",
    "fs_sample_model.score(X_test_full[fs_model.get_feature_names_out()], y_test)"
   ]
  },
  {
   "cell_type": "code",
   "execution_count": 16,
   "id": "ef11a45c",
   "metadata": {},
   "outputs": [],
   "source": [
    "def plot_rfe_selection(model_, X, y, scoring=\"accuracy\", min_features_to_select=1):\n",
    "    rfecv = RFECV(\n",
    "        estimator=model_,\n",
    "        step=1,\n",
    "        cv=StratifiedKFold(5, random_state=42),\n",
    "        scoring=scoring,\n",
    "        min_features_to_select=min_features_to_select,\n",
    "        n_jobs=-1\n",
    "    )\n",
    "    rfecv.fit(X, y)\n",
    "\n",
    "    print(f\"Optimal number of features : {rfecv.n_features_}\")\n",
    "    print(f'Features to select: {rfecv.get_feature_names_out()}')\n",
    "\n",
    "    # Plot number of features VS. cross-validation scores\n",
    "    plt.figure(figsize=(10, 6))\n",
    "    plt.xlabel(\"Number of features selected\")\n",
    "    plt.ylabel(\"Cross validation score (accuracy)\")\n",
    "    plt.plot(\n",
    "        range(min_features_to_select, len(rfecv.grid_scores_) + min_features_to_select),\n",
    "        rfecv.grid_scores_,\n",
    "    )\n",
    "    plt.show()\n",
    "    \n",
    "    return rfecv"
   ]
  },
  {
   "cell_type": "code",
   "execution_count": 17,
   "id": "290f7055",
   "metadata": {},
   "outputs": [
    {
     "name": "stdout",
     "output_type": "stream",
     "text": [
      "Optimal number of features : 9\n",
      "Features to select: ['delta' 'u' 'g' 'r' 'i' 'z' 'redshift' 'plate' 'MJD']\n"
     ]
    },
    {
     "data": {
      "image/png": "[encoded data removed]",
      "text/plain": [
       "<Figure size 720x432 with 1 Axes>"
      ]
     },
     "metadata": {
      "needs_background": "light"
     },
     "output_type": "display_data"
    },
    {
     "name": "stdout",
     "output_type": "stream",
     "text": [
      "Wall time: 3min 40s\n"
     ]
    }
   ],
   "source": [
    "%%time\n",
    "rfecv = plot_rfe_selection(RandomForestClassifier(random_state=42), X_train_full, y_train)"
   ]
  },
  {
   "cell_type": "code",
   "execution_count": 18,
   "id": "d5284b6b",
   "metadata": {},
   "outputs": [
    {
     "name": "stdout",
     "output_type": "stream",
     "text": [
      "Ranking de features por importância:\n",
      "\n",
      "          feat\n",
      "rank          \n",
      "1        delta\n",
      "1            u\n",
      "1            g\n",
      "1            r\n",
      "1            i\n",
      "1            z\n",
      "1     redshift\n",
      "1        plate\n",
      "1          MJD\n",
      "2        alpha\n",
      "3      cam_col\n"
     ]
    }
   ],
   "source": [
    "print('Ranking de features por importância:')\n",
    "print()\n",
    "print(pd.DataFrame({'rank': rfecv.ranking_, 'feat': rfecv.feature_names_in_}).sort_values('rank').set_index('rank'))"
   ]
  },
  {
   "cell_type": "code",
   "execution_count": 19,
   "id": "ead338df",
   "metadata": {},
   "outputs": [
    {
     "data": {
      "text/html": [
       "<div>\n",
       "<style scoped>\n",
       "    .dataframe tbody tr th:only-of-type {\n",
       "        vertical-align: middle;\n",
       "    }\n",
       "\n",
       "    .dataframe tbody tr th {\n",
       "        vertical-align: top;\n",
       "    }\n",
       "\n",
       "    .dataframe thead th {\n",
       "        text-align: right;\n",
       "    }\n",
       "</style>\n",
       "<table border=\"1\" class=\"dataframe\">\n",
       "  <thead>\n",
       "    <tr style=\"text-align: right;\">\n",
       "      <th></th>\n",
       "      <th>feature</th>\n",
       "      <th>ranking</th>\n",
       "    </tr>\n",
       "  </thead>\n",
       "  <tbody>\n",
       "    <tr>\n",
       "      <th>6</th>\n",
       "      <td>redshift</td>\n",
       "      <td>0.630766</td>\n",
       "    </tr>\n",
       "    <tr>\n",
       "      <th>5</th>\n",
       "      <td>z</td>\n",
       "      <td>0.083697</td>\n",
       "    </tr>\n",
       "    <tr>\n",
       "      <th>2</th>\n",
       "      <td>g</td>\n",
       "      <td>0.071738</td>\n",
       "    </tr>\n",
       "    <tr>\n",
       "      <th>4</th>\n",
       "      <td>i</td>\n",
       "      <td>0.063038</td>\n",
       "    </tr>\n",
       "    <tr>\n",
       "      <th>1</th>\n",
       "      <td>u</td>\n",
       "      <td>0.051966</td>\n",
       "    </tr>\n",
       "    <tr>\n",
       "      <th>7</th>\n",
       "      <td>plate</td>\n",
       "      <td>0.033070</td>\n",
       "    </tr>\n",
       "    <tr>\n",
       "      <th>3</th>\n",
       "      <td>r</td>\n",
       "      <td>0.030941</td>\n",
       "    </tr>\n",
       "    <tr>\n",
       "      <th>8</th>\n",
       "      <td>MJD</td>\n",
       "      <td>0.024831</td>\n",
       "    </tr>\n",
       "    <tr>\n",
       "      <th>0</th>\n",
       "      <td>delta</td>\n",
       "      <td>0.009952</td>\n",
       "    </tr>\n",
       "  </tbody>\n",
       "</table>\n",
       "</div>"
      ],
      "text/plain": [
       "    feature   ranking\n",
       "6  redshift  0.630766\n",
       "5         z  0.083697\n",
       "2         g  0.071738\n",
       "4         i  0.063038\n",
       "1         u  0.051966\n",
       "7     plate  0.033070\n",
       "3         r  0.030941\n",
       "8       MJD  0.024831\n",
       "0     delta  0.009952"
      ]
     },
     "execution_count": 19,
     "metadata": {},
     "output_type": "execute_result"
    }
   ],
   "source": [
    "pd.DataFrame(\n",
    "    {'feature': rfecv.get_feature_names_out(),'ranking': rfecv.estimator_.feature_importances_}\n",
    ").sort_values('ranking', ascending=False)"
   ]
  },
  {
   "cell_type": "markdown",
   "id": "e52b6453",
   "metadata": {},
   "source": [
    "Vamos calcular a acurária do estimador com as features selecionados para o conjunto de teste"
   ]
  },
  {
   "cell_type": "code",
   "execution_count": 20,
   "id": "8fc3bf4a",
   "metadata": {},
   "outputs": [
    {
     "data": {
      "text/plain": [
       "0.98065"
      ]
     },
     "execution_count": 20,
     "metadata": {},
     "output_type": "execute_result"
    }
   ],
   "source": [
    "# Acurária do estimador com as features selecionados no conjunto de teste\n",
    "rfecv.estimator_.score(X_test_full[rfecv.get_feature_names_out()], y_test)"
   ]
  },
  {
   "cell_type": "markdown",
   "id": "21841a75",
   "metadata": {},
   "source": [
    "## 3.4 Criando pipeline <a class=\"anchor\" id=\"section-3-1\"></a>\n",
    "[Voltar ao topo](#section-0)"
   ]
  },
  {
   "cell_type": "markdown",
   "id": "d9776ad4",
   "metadata": {},
   "source": [
    "Vamos usar aqui as features que selecionamos com a ajuda com RFECV na etapa anterior"
   ]
  },
  {
   "cell_type": "code",
   "execution_count": 25,
   "id": "62e0ac66",
   "metadata": {},
   "outputs": [],
   "source": [
    "# Features para nosso modelo\n",
    "cols = ['alpha', 'delta', 'u', 'g', 'r', 'i', 'z', 'cam_col', 'redshift', 'MJD']"
   ]
  },
  {
   "cell_type": "code",
   "execution_count": 26,
   "id": "0e6e815f",
   "metadata": {},
   "outputs": [],
   "source": [
    "preprocessing = ColumnTransformer(transformers=[\n",
    "    ('scaling', StandardScaler(), cols),\n",
    "], remainder='drop')"
   ]
  },
  {
   "cell_type": "code",
   "execution_count": 27,
   "id": "588e3177",
   "metadata": {},
   "outputs": [],
   "source": [
    "target_encoder = OrdinalEncoder()"
   ]
  },
  {
   "cell_type": "code",
   "execution_count": 28,
   "id": "f10ff40f",
   "metadata": {},
   "outputs": [],
   "source": [
    "X_train = preprocessing.fit_transform(X_train_full)\n",
    "y_train_encoded = target_encoder.fit_transform(y_train.values.reshape(-1, 1))"
   ]
  },
  {
   "cell_type": "code",
   "execution_count": 29,
   "id": "6f77d9b5",
   "metadata": {},
   "outputs": [],
   "source": [
    "X_test = preprocessing.transform(X_test_full)\n",
    "y_test_encoded = target_encoder.fit_transform(y_test.values.reshape(-1, 1))"
   ]
  },
  {
   "cell_type": "markdown",
   "id": "ea949bf8",
   "metadata": {},
   "source": [
    "**Aplicando Oversampling:**"
   ]
  },
  {
   "cell_type": "code",
   "execution_count": 10,
   "id": "4ed68ab8",
   "metadata": {},
   "outputs": [],
   "source": [
    "def apply_oversampling(X_train_, y_train_, **kwargs):\n",
    "    ros = RandomOverSampler(**kwargs)\n",
    "    X_train_oversam_, y_train_oversam_ = ros.fit_resample(X_train_, y_train_)\n",
    "    return X_train_oversam_, y_train_oversam_"
   ]
  },
  {
   "cell_type": "code",
   "execution_count": 11,
   "id": "326458d8",
   "metadata": {},
   "outputs": [],
   "source": [
    "X_train_oversam, y_train_oversam = apply_oversampling(X_train, y_train, random_state=42)"
   ]
  },
  {
   "cell_type": "markdown",
   "id": "93316998",
   "metadata": {},
   "source": [
    "**Aplicando Undersampling:**"
   ]
  },
  {
   "cell_type": "code",
   "execution_count": 12,
   "id": "8d4b4250",
   "metadata": {},
   "outputs": [],
   "source": [
    "def apply_undersampling(X_train_, y_train_, **kwargs):\n",
    "    rus = RandomUnderSampler(**kwargs)\n",
    "    X_train_undersam_, y_train_undersam_ = rus.fit_resample(X_train, y_train)\n",
    "    return X_train_undersam_, y_train_undersam_"
   ]
  },
  {
   "cell_type": "code",
   "execution_count": 13,
   "id": "a9e0ab45",
   "metadata": {},
   "outputs": [],
   "source": [
    "X_train_undersam, y_train_undersam = apply_undersampling(X_train, y_train, random_state=42)"
   ]
  },
  {
   "cell_type": "markdown",
   "id": "453df0ef",
   "metadata": {},
   "source": [
    "## 3.5 Escolhendo melhores técnicas de resample <a class=\"anchor\" id=\"section-3-5\"></a>\n",
    "[Voltar ao topo](#section-0)"
   ]
  },
  {
   "cell_type": "code",
   "execution_count": 14,
   "id": "75df926f",
   "metadata": {},
   "outputs": [],
   "source": [
    "from sklearn import metrics\n",
    "from sklearn.ensemble import RandomForestClassifier"
   ]
  },
  {
   "cell_type": "code",
   "execution_count": 15,
   "id": "e7cfaa4f",
   "metadata": {},
   "outputs": [],
   "source": [
    "def calcululate_metrics(y_test_, y_pred_, pos_label=1, average='binary', round_=3):\n",
    "    return (\n",
    "    round(metrics.accuracy_score(y_test_, y_pred_), 3),\n",
    "    round(metrics.precision_score(y_test_, y_pred_, pos_label=pos_label, average=average), round_),\n",
    "    round(metrics.recall_score(y_test_, y_pred_, pos_label=pos_label, average=average), round_),\n",
    "    round(metrics.f1_score(y_test_, y_pred_, pos_label=pos_label, average=average),round_)\n",
    "    )"
   ]
  },
  {
   "cell_type": "code",
   "execution_count": 16,
   "id": "acaedb15",
   "metadata": {},
   "outputs": [],
   "source": [
    "def evaluate_resample(model, X_train_resample, X_test_resample, y_train_resample, y_test_resample):\n",
    "    model.fit(X_train_resample, y_train_resample)\n",
    "\n",
    "    y_pred = model.predict(X_test_resample)\n",
    "    \n",
    "    return calcululate_metrics(y_test_resample, y_pred, average='weighted')"
   ]
  },
  {
   "cell_type": "code",
   "execution_count": 17,
   "id": "f91595f0",
   "metadata": {},
   "outputs": [
    {
     "name": "stdout",
     "output_type": "stream",
     "text": [
      "Wall time: 17.5 s\n"
     ]
    },
    {
     "data": {
      "text/plain": [
       "(0.97, 0.971, 0.97, 0.97)"
      ]
     },
     "execution_count": 17,
     "metadata": {},
     "output_type": "execute_result"
    }
   ],
   "source": [
    "%%time\n",
    "undersam_perf = evaluate_resample(\n",
    "    RandomForestClassifier(random_state=42), X_train_undersam, X_test, y_train_undersam, y_test\n",
    ")\n",
    "undersam_perf"
   ]
  },
  {
   "cell_type": "code",
   "execution_count": 18,
   "id": "a495bd68",
   "metadata": {},
   "outputs": [
    {
     "name": "stdout",
     "output_type": "stream",
     "text": [
      "Wall time: 41.1 s\n"
     ]
    },
    {
     "data": {
      "text/plain": [
       "(0.977, 0.977, 0.977, 0.977)"
      ]
     },
     "execution_count": 18,
     "metadata": {},
     "output_type": "execute_result"
    }
   ],
   "source": [
    "%%time\n",
    "oversam_perf = evaluate_resample(\n",
    "    RandomForestClassifier(random_state=42), X_train_oversam, X_test, y_train_oversam, y_test\n",
    ")\n",
    "oversam_perf"
   ]
  },
  {
   "cell_type": "code",
   "execution_count": 19,
   "id": "cf373374",
   "metadata": {},
   "outputs": [
    {
     "name": "stdout",
     "output_type": "stream",
     "text": [
      "Wall time: 25.1 s\n"
     ]
    },
    {
     "data": {
      "text/plain": [
       "(0.977, 0.977, 0.977, 0.977)"
      ]
     },
     "execution_count": 19,
     "metadata": {},
     "output_type": "execute_result"
    }
   ],
   "source": [
    "%%time\n",
    "default_perf = evaluate_resample(\n",
    "    RandomForestClassifier(random_state=42), X_train, X_test, y_train, y_test\n",
    ")\n",
    "default_perf"
   ]
  },
  {
   "cell_type": "code",
   "execution_count": 20,
   "id": "5bd65df0",
   "metadata": {},
   "outputs": [],
   "source": [
    "def plot_resample_comparison(over_result, under_result, default_result, suptitle, title):\n",
    "    metrics_list = ['accuracy', 'precision', 'recall', 'f1']\n",
    "    \n",
    "    resampling_results = pd.DataFrame(\n",
    "        {\n",
    "            'Resample': ['oversample']*len(over_result) + ['undersample']*4 + ['default']*4,\n",
    "            'Metric': metrics_list*3,\n",
    "            'Score': over_result + under_result + default_result\n",
    "        }\n",
    "    )\n",
    "    \n",
    "    plt.figure(figsize=(15,6))\n",
    "    plt.suptitle(suptitle, weight='bold', fontsize=24)\n",
    "    plt.title(title, pad=30, loc='left', fontsize=20)\n",
    "    plt.subplots_adjust(top=0.8)\n",
    "    ax = sns.barplot(data=resampling_results, x='Metric', y='Score', hue='Resample')\n",
    "    plt.ylim((0, 1))\n",
    "    plt.legend(title='', fontsize=16, bbox_to_anchor=(1.05, 1))\n",
    "    for i in ax.containers:\n",
    "        ax.bar_label(i, fontsize=10)\n",
    "    plt.ylim(0.9, 1)\n",
    "    plt.show()"
   ]
  },
  {
   "cell_type": "code",
   "execution_count": 21,
   "id": "65bce82e",
   "metadata": {},
   "outputs": [
    {
     "data": {
      "image/png": "[encoded data removed]",
      "text/plain": [
       "<Figure size 1080x432 with 1 Axes>"
      ]
     },
     "metadata": {
      "needs_background": "light"
     },
     "output_type": "display_data"
    }
   ],
   "source": [
    "plot_resample_comparison(oversam_perf, undersam_perf, default_perf,\n",
    "                         suptitle='Performance Floresta Aleatória com diferentes técnicas de reamostragem',\n",
    "                         title='A reamostragem não apresentou diferença significativa na performance'\n",
    "                        )"
   ]
  },
  {
   "cell_type": "markdown",
   "id": "45c340de",
   "metadata": {},
   "source": [
    "## 3.6 Aplicando PCA <a class=\"anchor\" id=\"section-3-4\"></a>\n",
    "[Voltar ao topo](#section-0)"
   ]
  },
  {
   "cell_type": "markdown",
   "id": "6d00383d",
   "metadata": {},
   "source": [
    "Já que não houve diferença significativa entre as ténicas de reamostragem, vamos aplicar o PCA *na amostragem padrão* dos dados para verificar se conseguimos diminuir a complexidade do dataset para melhor visualiza-lo e melhorar a performance de treino dos modelos."
   ]
  },
  {
   "cell_type": "code",
   "execution_count": 30,
   "id": "1d86a9ee",
   "metadata": {},
   "outputs": [],
   "source": [
    "from sklearn.decomposition import PCA"
   ]
  },
  {
   "cell_type": "code",
   "execution_count": 31,
   "id": "65d5d4c1",
   "metadata": {},
   "outputs": [],
   "source": [
    "pca = PCA()"
   ]
  },
  {
   "cell_type": "code",
   "execution_count": 32,
   "id": "d47cefb5",
   "metadata": {},
   "outputs": [
    {
     "name": "stdout",
     "output_type": "stream",
     "text": [
      "Wall time: 179 ms\n"
     ]
    }
   ],
   "source": [
    "%%time\n",
    "pca_data = pca.fit_transform(X_train)"
   ]
  },
  {
   "cell_type": "code",
   "execution_count": 33,
   "id": "323d7e90",
   "metadata": {},
   "outputs": [],
   "source": [
    "# FICOU ULTRAPASSADA\n",
    "def plot_pca_explicability(pca_):\n",
    "    \"\"\"\n",
    "    Plot explicability chart of the first 10 PCs\n",
    "    \"\"\"\n",
    "    per_var = np.round(pca_.explained_variance_ratio_* 100, decimals=1)[:10]\n",
    "    labels = ['PC' + str(x) for x in range(1, len(per_var)+1)]\n",
    "\n",
    "    plt.figure(figsize=(15, 6)) \n",
    "    plt.bar(x=range(1,len(per_var)+1), height=per_var, tick_label=labels)\n",
    "    plt.ylabel('Porcentagem de variância explicada')\n",
    "    plt.xlabel('Principal Component')\n",
    "    plt.suptitle('Explicabilidade dos Componentes Principais', size=18, weight='bold')\n",
    "    plt.annotate(\n",
    "        text=f'Os dois primeiros componentes principais explicam {per_var[:2].sum():.1f}% da variância do dataset',\n",
    "        xy=(0.3,0.7), xycoords='figure fraction', size=12\n",
    "    )\n",
    "    plt.show()"
   ]
  },
  {
   "cell_type": "code",
   "execution_count": 34,
   "id": "d8686c5d",
   "metadata": {},
   "outputs": [],
   "source": [
    "# SEM USO\n",
    "def most_important_feat_per_pc(pca_, feat_labels):\n",
    "    pca_labels = ['PC' + str(x) for x in range(1, len(pca.components_)+1)]\n",
    "    most_influent_feature = [\n",
    "        pd.Series(pca.components_[i], index=preprocessing.get_feature_names_out()).abs().idxmax()\n",
    "        for i in range(len(labels))\n",
    "    ]\n",
    "    return most_influent_feature"
   ]
  },
  {
   "cell_type": "code",
   "execution_count": 35,
   "id": "e2634857",
   "metadata": {},
   "outputs": [],
   "source": [
    "def n_most_important_feat_per_pca(pca_, feat_labels):\n",
    "    pca_labels = ['PC' + str(x) for x in range(1, len(pca.components_)+1)]\n",
    "    pca_labels_dict = {'PC': pca_labels}\n",
    "    feat_influences_dict = {feat: np.abs(pca_.components_[i]) for i, feat in enumerate(feat_labels)}\n",
    "    most_influent_features = pd.DataFrame(dict(**pca_labels_dict, **feat_influences_dict))\n",
    "\n",
    "    # scale feature importances based on explanied variance ration of each PC\n",
    "    n_data = most_influent_features[feat_labels].values\n",
    "    n_data_scaled = (n_data/(n_data.sum(axis=1)[:,None]) * pca_.explained_variance_ratio_.reshape(-1, 1))\n",
    "    most_influent_features[feat_labels] = n_data_scaled\n",
    "    \n",
    "    # sort based on the most important features\n",
    "    pc1_most_important_features = most_influent_features.iloc[:, 1:].sum(axis=0).sort_values(ascending=False).index.to_list()\n",
    "    most_influent_features = most_influent_features[['PC'] + pc1_most_important_features]\n",
    "    \n",
    "    # rename columns to add the explanability ratio of the features\n",
    "    num_data = most_influent_features.iloc[:, 1:]\n",
    "    num_cols_names = [\n",
    "        col.split('__')[-1] + f' ({(ratio*100):.1f}%)'\n",
    "        for col, ratio in zip(\n",
    "            num_data.columns,  # Column names\n",
    "            num_data.sum(axis=0)  # Explanability ratio per feature\n",
    "        )\n",
    "    ]\n",
    "\n",
    "    new_column_names = ['PC'] + num_cols_names\n",
    "    most_influent_features.columns = new_column_names\n",
    "    \n",
    "    return most_influent_features"
   ]
  },
  {
   "cell_type": "code",
   "execution_count": 36,
   "id": "7a794e5b",
   "metadata": {},
   "outputs": [],
   "source": [
    "def plot_pca_explicability(pca_, feat_labels, limit_pc=10, limit_feat=None):\n",
    "    \"\"\"\n",
    "    Plot explicability chart of the first limit_pc PCs\n",
    "    \"\"\"\n",
    "    # To format y axis as percentage\n",
    "    import matplotlib.ticker as mtick\n",
    "\n",
    "    \n",
    "    pc_feat = n_most_important_feat_per_pca(pca_, feat_labels)\n",
    "    \n",
    "    if isinstance(limit_pc, int):\n",
    "        pc_feat = pc_feat.iloc[:limit_pc, :]\n",
    "    \n",
    "    if limit_feat:\n",
    "        if limit_feat > len(pca_.components_):\n",
    "            raise ValueError('You cant have more features than components')\n",
    "        if limit_feat <=2:\n",
    "            raise ValueError('You need at least 2 components')\n",
    "        remain = pc_feat.iloc[:, limit_feat+1:].sum(axis=1)\n",
    "        remain.rename(f'Demais features ({remain.sum()*100:.1f}%)', inplace=True)\n",
    "        pc_feat = pd.concat([pc_feat.iloc[:, :limit_feat+1], remain], axis=1)\n",
    "    \n",
    "    expl_2_first = pc_feat.iloc[:2, 1:].sum().sum()\n",
    "    pc_feat.plot(x='PC', kind='bar', stacked=True, figsize=(12, 6))\n",
    "    plt.legend(title='Features por explicabilidade\\nda variância', loc='upper right', bbox_to_anchor=(1.3, 1), prop={'size':14})\n",
    "    plt.ylabel('Porcentagem de variância explicada')\n",
    "    plt.xlabel('Principal Component')\n",
    "    plt.suptitle('Explicabilidade dos Componentes Principais', size=18, weight='bold')\n",
    "    plt.annotate(\n",
    "        text=f'Os dois primeiros componentes principais explicam {expl_2_first*100:.1f}%\\n da variância do dataset.',\n",
    "        xy=(0.3,0.7), xycoords='figure fraction', size=12\n",
    "    )\n",
    "    plt.gca().yaxis.set_major_formatter(mtick.PercentFormatter(1))\n",
    "    plt.xticks(rotation=0)\n",
    "    plt.show()"
   ]
  },
  {
   "cell_type": "code",
   "execution_count": 37,
   "id": "6b62a531",
   "metadata": {},
   "outputs": [
    {
     "data": {
      "image/png": "[encoded data removed]",
      "text/plain": [
       "<Figure size 864x432 with 1 Axes>"
      ]
     },
     "metadata": {
      "needs_background": "light"
     },
     "output_type": "display_data"
    }
   ],
   "source": [
    "plot_pca_explicability(pca, preprocessing.get_feature_names_out())"
   ]
  },
  {
   "cell_type": "code",
   "execution_count": 38,
   "id": "0a85ef5e",
   "metadata": {},
   "outputs": [
    {
     "data": {
      "text/html": [
       "<div>\n",
       "<style scoped>\n",
       "    .dataframe tbody tr th:only-of-type {\n",
       "        vertical-align: middle;\n",
       "    }\n",
       "\n",
       "    .dataframe tbody tr th {\n",
       "        vertical-align: top;\n",
       "    }\n",
       "\n",
       "    .dataframe thead th {\n",
       "        text-align: right;\n",
       "    }\n",
       "</style>\n",
       "<table border=\"1\" class=\"dataframe\">\n",
       "  <thead>\n",
       "    <tr style=\"text-align: right;\">\n",
       "      <th></th>\n",
       "      <th>PC1</th>\n",
       "      <th>PC2</th>\n",
       "      <th>PC3</th>\n",
       "      <th>PC4</th>\n",
       "      <th>PC5</th>\n",
       "      <th>PC6</th>\n",
       "      <th>PC7</th>\n",
       "      <th>PC8</th>\n",
       "      <th>PC9</th>\n",
       "      <th>PC10</th>\n",
       "      <th>class</th>\n",
       "    </tr>\n",
       "  </thead>\n",
       "  <tbody>\n",
       "    <tr>\n",
       "      <th>0</th>\n",
       "      <td>0.029656</td>\n",
       "      <td>-0.162722</td>\n",
       "      <td>-0.786455</td>\n",
       "      <td>-1.428272</td>\n",
       "      <td>0.437580</td>\n",
       "      <td>-0.239994</td>\n",
       "      <td>-0.010737</td>\n",
       "      <td>-0.037198</td>\n",
       "      <td>0.057023</td>\n",
       "      <td>-0.002571</td>\n",
       "      <td>GALAXY</td>\n",
       "    </tr>\n",
       "    <tr>\n",
       "      <th>1</th>\n",
       "      <td>1.178244</td>\n",
       "      <td>-1.656603</td>\n",
       "      <td>-1.381254</td>\n",
       "      <td>-0.661712</td>\n",
       "      <td>1.139077</td>\n",
       "      <td>0.040357</td>\n",
       "      <td>-1.363733</td>\n",
       "      <td>-0.048697</td>\n",
       "      <td>0.012468</td>\n",
       "      <td>0.000078</td>\n",
       "      <td>GALAXY</td>\n",
       "    </tr>\n",
       "    <tr>\n",
       "      <th>2</th>\n",
       "      <td>-0.792816</td>\n",
       "      <td>1.102959</td>\n",
       "      <td>1.351401</td>\n",
       "      <td>1.252803</td>\n",
       "      <td>-1.416055</td>\n",
       "      <td>-0.541538</td>\n",
       "      <td>-0.005048</td>\n",
       "      <td>-0.130377</td>\n",
       "      <td>-0.018944</td>\n",
       "      <td>0.030499</td>\n",
       "      <td>GALAXY</td>\n",
       "    </tr>\n",
       "    <tr>\n",
       "      <th>3</th>\n",
       "      <td>-0.372735</td>\n",
       "      <td>0.462276</td>\n",
       "      <td>-0.879584</td>\n",
       "      <td>-0.833209</td>\n",
       "      <td>-1.192554</td>\n",
       "      <td>-0.198357</td>\n",
       "      <td>0.412038</td>\n",
       "      <td>-0.220554</td>\n",
       "      <td>-0.022134</td>\n",
       "      <td>0.018491</td>\n",
       "      <td>GALAXY</td>\n",
       "    </tr>\n",
       "    <tr>\n",
       "      <th>4</th>\n",
       "      <td>2.169051</td>\n",
       "      <td>-3.063281</td>\n",
       "      <td>0.944878</td>\n",
       "      <td>-1.246268</td>\n",
       "      <td>-1.040363</td>\n",
       "      <td>0.566906</td>\n",
       "      <td>-0.915907</td>\n",
       "      <td>-0.019598</td>\n",
       "      <td>-0.013632</td>\n",
       "      <td>0.000159</td>\n",
       "      <td>GALAXY</td>\n",
       "    </tr>\n",
       "  </tbody>\n",
       "</table>\n",
       "</div>"
      ],
      "text/plain": [
       "        PC1       PC2       PC3       PC4       PC5       PC6       PC7  \\\n",
       "0  0.029656 -0.162722 -0.786455 -1.428272  0.437580 -0.239994 -0.010737   \n",
       "1  1.178244 -1.656603 -1.381254 -0.661712  1.139077  0.040357 -1.363733   \n",
       "2 -0.792816  1.102959  1.351401  1.252803 -1.416055 -0.541538 -0.005048   \n",
       "3 -0.372735  0.462276 -0.879584 -0.833209 -1.192554 -0.198357  0.412038   \n",
       "4  2.169051 -3.063281  0.944878 -1.246268 -1.040363  0.566906 -0.915907   \n",
       "\n",
       "        PC8       PC9      PC10   class  \n",
       "0 -0.037198  0.057023 -0.002571  GALAXY  \n",
       "1 -0.048697  0.012468  0.000078  GALAXY  \n",
       "2 -0.130377 -0.018944  0.030499  GALAXY  \n",
       "3 -0.220554 -0.022134  0.018491  GALAXY  \n",
       "4 -0.019598 -0.013632  0.000159  GALAXY  "
      ]
     },
     "execution_count": 38,
     "metadata": {},
     "output_type": "execute_result"
    }
   ],
   "source": [
    "labels = ['PC' + str(x) for x in range(1, pca.n_components_+1)]\n",
    "pca_df = pd.DataFrame(pca_data, columns=labels)\n",
    "pca_df['class'] = y_train\n",
    "pca_df.head()"
   ]
  },
  {
   "cell_type": "code",
   "execution_count": 40,
   "id": "61874f5c",
   "metadata": {},
   "outputs": [
    {
     "data": {
      "image/png": "[encoded data removed]",
      "text/plain": [
       "<Figure size 580.125x504 with 6 Axes>"
      ]
     },
     "metadata": {
      "needs_background": "light"
     },
     "output_type": "display_data"
    }
   ],
   "source": [
    "sns.pairplot(data=pca_df[['PC1', 'PC2', 'class']].sample(1000, random_state=42), hue='class', height=3.5)\n",
    "plt.show()"
   ]
  },
  {
   "cell_type": "code",
   "execution_count": 41,
   "id": "3fad678c",
   "metadata": {
    "scrolled": false
   },
   "outputs": [
    {
     "data": {
      "image/png": "[encoded data removed]",
      "text/plain": [
       "<Figure size 720x432 with 1 Axes>"
      ]
     },
     "metadata": {
      "needs_background": "light"
     },
     "output_type": "display_data"
    }
   ],
   "source": [
    "plt.figure(figsize=(10, 6))\n",
    "sns.scatterplot(data=pca_df.sample(1000, random_state=42), x='PC1', y='PC2', hue='class')\n",
    "plt.suptitle(f'2D PCA-plot from {pca.n_features_in_} feature dataset', size=18, weight='bold')\n",
    "plt.legend(title='class', loc='upper right', bbox_to_anchor=(1.15, 1))\n",
    "plt.xlabel(f'First Principal Component ({(pca.explained_variance_ratio_[0]*100):.1f}%)')\n",
    "plt.ylabel(f'Second Principal Component ({(pca.explained_variance_ratio_[1]*100):.1f}%)')\n",
    "# plt.yscale('log')\n",
    "# plt.xscale('log')\n",
    "plt.show()"
   ]
  },
  {
   "cell_type": "markdown",
   "id": "1863a6a9",
   "metadata": {},
   "source": [
    "## 3.7 Modelagem <a class=\"anchor\" id=\"section-3-5\"></a>\n",
    "[Voltar ao topo](#section-0)"
   ]
  },
  {
   "cell_type": "markdown",
   "id": "c4cf8003",
   "metadata": {},
   "source": [
    "### 3.3.1 Modelo #1: Árvore de Decisão <a class=\"anchor\" id=\"section-3-3-1\"></a>\n",
    "[Voltar ao topo](#section-0)"
   ]
  },
  {
   "cell_type": "code",
   "execution_count": null,
   "id": "8ea4735f",
   "metadata": {},
   "outputs": [],
   "source": [
    "from sklearn.tree import DecisionTreeClassifier\n",
    "from sklearn.metrics import classification_report, plot_confusion_matrix\n"
   ]
  },
  {
   "cell_type": "code",
   "execution_count": null,
   "id": "b20c7360",
   "metadata": {},
   "outputs": [],
   "source": [
    "cl_tree = DecisionTreeClassifier()"
   ]
  },
  {
   "cell_type": "code",
   "execution_count": null,
   "id": "c8e115ec",
   "metadata": {},
   "outputs": [],
   "source": [
    "cl_tree = cl_tree.fit(X_train, y_train)\n",
    "previsao = cl_tree.predict(X_test)"
   ]
  },
  {
   "cell_type": "code",
   "execution_count": null,
   "id": "cb985657",
   "metadata": {},
   "outputs": [],
   "source": [
    "print(classification_report(y_test, previsao))"
   ]
  },
  {
   "cell_type": "code",
   "execution_count": null,
   "id": "c607714b",
   "metadata": {},
   "outputs": [],
   "source": [
    "plot_confusion_matrix(cl_tree, X_test, y_test)"
   ]
  },
  {
   "cell_type": "markdown",
   "id": "34d8e8bb",
   "metadata": {},
   "source": [
    "### 3.3.2 Modelo #2: Floresta Aleatória de Classificação <a class=\"anchor\" id=\"section-3-3-2\"></a>\n",
    "[Voltar ao topo](#section-0)"
   ]
  },
  {
   "cell_type": "code",
   "execution_count": null,
   "id": "d27c08f0",
   "metadata": {},
   "outputs": [],
   "source": [
    "from sklearn.ensemble import RandomForestClassifier"
   ]
  },
  {
   "cell_type": "code",
   "execution_count": null,
   "id": "a77fbede",
   "metadata": {},
   "outputs": [],
   "source": [
    "rf_clf = RandomForestClassifier(n_estimators=100)\n",
    "\n",
    "rf_clf = rf_clf.fit(X_train, y_train)\n",
    "\n",
    "previsao_rf = rf_clf.predict(X_test)"
   ]
  },
  {
   "cell_type": "code",
   "execution_count": null,
   "id": "d0c733a5",
   "metadata": {},
   "outputs": [],
   "source": [
    "print(classification_report(y_test, previsao_rf))"
   ]
  },
  {
   "cell_type": "code",
   "execution_count": null,
   "id": "1a9caceb",
   "metadata": {},
   "outputs": [],
   "source": [
    "plot_confusion_matrix(rf_clf, X_test, y_test)"
   ]
  },
  {
   "cell_type": "markdown",
   "id": "91d78adb",
   "metadata": {},
   "source": [
    "### 3.3.3 Modelo #3: Naive Bayes <a class=\"anchor\" id=\"section-3-3-3\"></a>\n",
    "[Voltar ao topo](#section-0)"
   ]
  },
  {
   "cell_type": "code",
   "execution_count": null,
   "id": "aa1d601d",
   "metadata": {},
   "outputs": [],
   "source": [
    "from sklearn.naive_bayes import GaussianNB\n",
    "from sklearn.metrics import accuracy_score, classification_report"
   ]
  },
  {
   "cell_type": "code",
   "execution_count": null,
   "id": "35c5e495",
   "metadata": {},
   "outputs": [],
   "source": [
    "gnb = GaussianNB()\n",
    "gnb.fit(X_train, y_train)"
   ]
  },
  {
   "cell_type": "code",
   "execution_count": null,
   "id": "67df55ee",
   "metadata": {},
   "outputs": [],
   "source": [
    "predict = gnb.predict(X_test)\n",
    "predict"
   ]
  },
  {
   "cell_type": "code",
   "execution_count": null,
   "id": "a38cb355",
   "metadata": {},
   "outputs": [],
   "source": [
    "accuracy_score(y_test, predict)\n",
    "\n",
    "print(classification_report(y_test, predict))"
   ]
  },
  {
   "cell_type": "markdown",
   "id": "144fccbf",
   "metadata": {},
   "source": [
    "### 3.3.4 Modelo #4: SVC <a class=\"anchor\" id=\"section-3-3-4\"></a>\n",
    "[Voltar ao topo](#section-0)"
   ]
  },
  {
   "cell_type": "code",
   "execution_count": null,
   "id": "a09c6fed",
   "metadata": {},
   "outputs": [],
   "source": [
    "from sklearn.svm import SVC\n",
    "from sklearn.metrics import classification_report"
   ]
  },
  {
   "cell_type": "code",
   "execution_count": null,
   "id": "8da4d7cc",
   "metadata": {},
   "outputs": [],
   "source": [
    "model = SVC(class_weight='balanced', kernel='rbf', gamma='scale')\n",
    "model.fit(X_train, y_train)"
   ]
  },
  {
   "cell_type": "code",
   "execution_count": null,
   "id": "4ded29fc",
   "metadata": {},
   "outputs": [],
   "source": [
    "y_pred = model.predict(X_test)"
   ]
  },
  {
   "cell_type": "code",
   "execution_count": null,
   "id": "04fa9f1d",
   "metadata": {},
   "outputs": [],
   "source": [
    "print(classification_report(y_test, y_pred))"
   ]
  },
  {
   "cell_type": "markdown",
   "id": "2288dd08",
   "metadata": {},
   "source": [
    "### 3.3.5 Modelo #5: KNN <a class=\"anchor\" id=\"section-3-3-5\"></a>\n",
    "[Voltar ao topo](#section-0)"
   ]
  },
  {
   "cell_type": "code",
   "execution_count": null,
   "id": "70151537",
   "metadata": {},
   "outputs": [],
   "source": [
    "from sklearn.neighbors import KNeighborsClassifier\n",
    "\n",
    "knn_model = KNeighborsClassifier()\n",
    "knn_model.fit(X_train, y_train)\n",
    "\n",
    "y_pred = knn_model.predict(X_test)\n",
    "\n",
    "print(classification_report(y_test, y_pred))"
   ]
  },
  {
   "cell_type": "code",
   "execution_count": null,
   "id": "2cf1a064",
   "metadata": {},
   "outputs": [],
   "source": [
    "plot_confusion_matrix(knn_model, X_test, y_test)"
   ]
  },
  {
   "cell_type": "markdown",
   "id": "85ef9c37",
   "metadata": {},
   "source": [
    "## Rascunho"
   ]
  },
  {
   "cell_type": "code",
   "execution_count": null,
   "id": "579dfe95",
   "metadata": {},
   "outputs": [],
   "source": [
    "# def evaluate_resample(models, models_labels, X_train_resample, X_test_resample, y_train_resample, y_test_resample):\n",
    "#     results = dict()\n",
    "#     for m, label in zip(models, models_labels):\n",
    "#         m.fit(X_train_resample, y_train_resample)\n",
    "        \n",
    "#         y_pred = m.predict(X_test_resample)\n",
    "        \n",
    "#         results[label] = calcululate_metrics(y_test_resample, y_pred, average='weighted')\n",
    "        \n",
    "#     return results"
   ]
  },
  {
   "cell_type": "code",
   "execution_count": null,
   "id": "d76b29da",
   "metadata": {},
   "outputs": [],
   "source": [
    "models = [\n",
    "    DecisionTreeClassifier(),\n",
    "    RandomForestClassifier(random_state=42),\n",
    "    GaussianNB(),\n",
    "    SVC(random_state=42)\n",
    "]\n",
    "\n",
    "models_labels = [\n",
    "    'Árvore de Decisão',\n",
    "    'Floresta Aleatória',\n",
    "    'Naive Bayes',\n",
    "    'SVC'\n",
    "]"
   ]
  },
  {
   "cell_type": "code",
   "execution_count": null,
   "id": "3228814c",
   "metadata": {},
   "outputs": [],
   "source": [
    "%time\n",
    "undersam_performance = evaluate_resample(models, models_labels, X_train_undersam, X_test, y_train_undersam, y_test)\n",
    "undersam_performance"
   ]
  },
  {
   "cell_type": "code",
   "execution_count": 124,
   "id": "1c7611f5",
   "metadata": {},
   "outputs": [],
   "source": [
    "from sklearn.tree import DecisionTreeClassifier\n",
    "from sklearn.metrics import classification_report, ConfusionMatrixDisplay\n",
    "model = RandomForestClassifier(random_state=42)\n",
    "model.fit(X_train_undersam, y_train_undersam)\n",
    "\n",
    "y_pred = model.predict(X_test)"
   ]
  },
  {
   "cell_type": "code",
   "execution_count": 125,
   "id": "1cf2ea13",
   "metadata": {
    "scrolled": true
   },
   "outputs": [
    {
     "data": {
      "text/plain": [
       "(0.972, 0.972, 0.972, 0.972)"
      ]
     },
     "execution_count": 125,
     "metadata": {},
     "output_type": "execute_result"
    }
   ],
   "source": [
    "calcululate_metrics(y_test, y_pred, average='weighted')"
   ]
  },
  {
   "cell_type": "code",
   "execution_count": 126,
   "id": "4ac86db2",
   "metadata": {},
   "outputs": [
    {
     "name": "stdout",
     "output_type": "stream",
     "text": [
      "              precision    recall  f1-score   support\n",
      "\n",
      "      GALAXY       0.98      0.97      0.98     11889\n",
      "         QSO       0.92      0.95      0.94      3792\n",
      "        STAR       0.98      1.00      0.99      4319\n",
      "\n",
      "    accuracy                           0.97     20000\n",
      "   macro avg       0.96      0.97      0.97     20000\n",
      "weighted avg       0.97      0.97      0.97     20000\n",
      "\n"
     ]
    }
   ],
   "source": [
    "print(classification_report(y_test, y_pred))"
   ]
  },
  {
   "cell_type": "code",
   "execution_count": 127,
   "id": "0598eece",
   "metadata": {},
   "outputs": [
    {
     "data": {
      "text/plain": [
       "<sklearn.metrics._plot.confusion_matrix.ConfusionMatrixDisplay at 0x180fbc40fa0>"
      ]
     },
     "execution_count": 127,
     "metadata": {},
     "output_type": "execute_result"
    },
    {
     "data": {
      "image/png": "[encoded data removed]",
      "text/plain": [
       "<Figure size 432x288 with 2 Axes>"
      ]
     },
     "metadata": {
      "needs_background": "light"
     },
     "output_type": "display_data"
    }
   ],
   "source": [
    "ConfusionMatrixDisplay.from_predictions(y_test, y_pred)"
   ]
  },
  {
   "cell_type": "code",
   "execution_count": 134,
   "id": "af21ecc4",
   "metadata": {},
   "outputs": [
    {
     "data": {
      "text/html": [
       "<div>\n",
       "<style scoped>\n",
       "    .dataframe tbody tr th:only-of-type {\n",
       "        vertical-align: middle;\n",
       "    }\n",
       "\n",
       "    .dataframe tbody tr th {\n",
       "        vertical-align: top;\n",
       "    }\n",
       "\n",
       "    .dataframe thead th {\n",
       "        text-align: right;\n",
       "    }\n",
       "</style>\n",
       "<table border=\"1\" class=\"dataframe\">\n",
       "  <thead>\n",
       "    <tr style=\"text-align: right;\">\n",
       "      <th></th>\n",
       "      <th>feature</th>\n",
       "      <th>importance</th>\n",
       "    </tr>\n",
       "  </thead>\n",
       "  <tbody>\n",
       "    <tr>\n",
       "      <th>8</th>\n",
       "      <td>scaling__redshift</td>\n",
       "      <td>0.609879</td>\n",
       "    </tr>\n",
       "    <tr>\n",
       "      <th>6</th>\n",
       "      <td>scaling__z</td>\n",
       "      <td>0.097255</td>\n",
       "    </tr>\n",
       "    <tr>\n",
       "      <th>3</th>\n",
       "      <td>scaling__g</td>\n",
       "      <td>0.070370</td>\n",
       "    </tr>\n",
       "    <tr>\n",
       "      <th>2</th>\n",
       "      <td>scaling__u</td>\n",
       "      <td>0.061933</td>\n",
       "    </tr>\n",
       "    <tr>\n",
       "      <th>5</th>\n",
       "      <td>scaling__i</td>\n",
       "      <td>0.055679</td>\n",
       "    </tr>\n",
       "    <tr>\n",
       "      <th>9</th>\n",
       "      <td>scaling__MJD</td>\n",
       "      <td>0.044023</td>\n",
       "    </tr>\n",
       "    <tr>\n",
       "      <th>4</th>\n",
       "      <td>scaling__r</td>\n",
       "      <td>0.038343</td>\n",
       "    </tr>\n",
       "    <tr>\n",
       "      <th>0</th>\n",
       "      <td>scaling__alpha</td>\n",
       "      <td>0.010000</td>\n",
       "    </tr>\n",
       "    <tr>\n",
       "      <th>1</th>\n",
       "      <td>scaling__delta</td>\n",
       "      <td>0.009588</td>\n",
       "    </tr>\n",
       "    <tr>\n",
       "      <th>7</th>\n",
       "      <td>scaling__cam_col</td>\n",
       "      <td>0.002930</td>\n",
       "    </tr>\n",
       "  </tbody>\n",
       "</table>\n",
       "</div>"
      ],
      "text/plain": [
       "             feature  importance\n",
       "8  scaling__redshift    0.609879\n",
       "6         scaling__z    0.097255\n",
       "3         scaling__g    0.070370\n",
       "2         scaling__u    0.061933\n",
       "5         scaling__i    0.055679\n",
       "9       scaling__MJD    0.044023\n",
       "4         scaling__r    0.038343\n",
       "0     scaling__alpha    0.010000\n",
       "1     scaling__delta    0.009588\n",
       "7   scaling__cam_col    0.002930"
      ]
     },
     "execution_count": 134,
     "metadata": {},
     "output_type": "execute_result"
    }
   ],
   "source": [
    "(pd.DataFrame(\n",
    "    {'feature': preprocessing.get_feature_names_out(),\n",
    "     'importance': model.feature_importances_}\n",
    ").sort_values(by='importance', ascending=False))"
   ]
  },
  {
   "cell_type": "code",
   "execution_count": 71,
   "id": "769be253",
   "metadata": {},
   "outputs": [],
   "source": [
    "model = DecisionTreeClassifier(random_state=42)\n",
    "model.fit(X_train_oversam, y_train_oversam)\n",
    "\n",
    "y_pred = model.predict(X_test)"
   ]
  },
  {
   "cell_type": "code",
   "execution_count": 72,
   "id": "67221d26",
   "metadata": {},
   "outputs": [
    {
     "data": {
      "text/plain": [
       "(0.964, 0.964, 0.964, 0.964)"
      ]
     },
     "execution_count": 72,
     "metadata": {},
     "output_type": "execute_result"
    }
   ],
   "source": [
    "calcululate_metrics(y_test, y_pred, average='weighted')"
   ]
  },
  {
   "cell_type": "code",
   "execution_count": 73,
   "id": "95f16841",
   "metadata": {},
   "outputs": [
    {
     "name": "stdout",
     "output_type": "stream",
     "text": [
      "              precision    recall  f1-score   support\n",
      "\n",
      "      GALAXY       0.97      0.97      0.97     11889\n",
      "         QSO       0.91      0.91      0.91      3792\n",
      "        STAR       1.00      1.00      1.00      4319\n",
      "\n",
      "    accuracy                           0.96     20000\n",
      "   macro avg       0.96      0.96      0.96     20000\n",
      "weighted avg       0.96      0.96      0.96     20000\n",
      "\n"
     ]
    }
   ],
   "source": [
    "print(classification_report(y_test, y_pred))"
   ]
  },
  {
   "cell_type": "code",
   "execution_count": 74,
   "id": "592fd04b",
   "metadata": {},
   "outputs": [
    {
     "data": {
      "text/plain": [
       "<sklearn.metrics._plot.confusion_matrix.ConfusionMatrixDisplay at 0x180f18acd60>"
      ]
     },
     "execution_count": 74,
     "metadata": {},
     "output_type": "execute_result"
    },
    {
     "data": {
      "image/png": "[encoded data removed]",
      "text/plain": [
       "<Figure size 432x288 with 2 Axes>"
      ]
     },
     "metadata": {
      "needs_background": "light"
     },
     "output_type": "display_data"
    }
   ],
   "source": [
    "ConfusionMatrixDisplay.from_predictions(y_test, y_pred)"
   ]
  }
 ],
 "metadata": {
  "kernelspec": {
   "display_name": "Python 3 (ipykernel)",
   "language": "python",
   "name": "python3"
  },
  "language_info": {
   "codemirror_mode": {
    "name": "ipython",
    "version": 3
   },
   "file_extension": ".py",
   "mimetype": "text/x-python",
   "name": "python",
   "nbconvert_exporter": "python",
   "pygments_lexer": "ipython3",
   "version": "3.9.7"
  },
  "vscode": {
   "interpreter": {
    "hash": "916dbcbb3f70747c44a77c7bcd40155683ae19c65e1c03b4aa3499c5328201f1"
   }
  }
 },
 "nbformat": 4,
 "nbformat_minor": 5
}
